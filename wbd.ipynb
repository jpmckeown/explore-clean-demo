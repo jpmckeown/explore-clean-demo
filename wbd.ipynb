{
 "cells": [
  {
   "cell_type": "code",
   "execution_count": null,
   "id": "f2e80915",
   "metadata": {},
   "outputs": [],
   "source": [
    "population = wb.get_series('SP.POP.TOTL', mrv=1)\n",
    "population"
   ]
  },
  {
   "cell_type": "code",
   "execution_count": null,
   "id": "2a1ce0e2",
   "metadata": {},
   "outputs": [],
   "source": [
    "# Same data set, indexed with the country code\n",
    "population = wb.get_series('SP.POP.TOTL', id_or_value='id', simplify_index=True, mrv=1)\n",
    "population"
   ]
  },
  {
   "cell_type": "code",
   "execution_count": null,
   "id": "9fcf3d3c",
   "metadata": {},
   "outputs": [],
   "source": [
    "wb.search_indicators(\"population\")"
   ]
  },
  {
   "cell_type": "code",
   "execution_count": null,
   "id": "e33f58f5",
   "metadata": {},
   "outputs": [],
   "source": [
    "wb.get_countries()"
   ]
  },
  {
   "cell_type": "code",
   "execution_count": null,
   "id": "12a328b1",
   "metadata": {},
   "outputs": [],
   "source": []
  },
  {
   "cell_type": "code",
   "execution_count": null,
   "id": "a3aaf68f",
   "metadata": {},
   "outputs": [],
   "source": []
  },
  {
   "cell_type": "code",
   "execution_count": null,
   "id": "2d86b103",
   "metadata": {},
   "outputs": [],
   "source": [
    "pypopulation.get_population(\"DE\")"
   ]
  },
  {
   "cell_type": "code",
   "execution_count": null,
   "id": "d5a958cd",
   "metadata": {},
   "outputs": [],
   "source": [
    "df = pd.read_csv(\"https://github.com/AlexTheAnalyst/PandasYouTubeSeries/blob/main/world_population.csv\")"
   ]
  },
  {
   "cell_type": "code",
   "execution_count": null,
   "id": "b1fc85cc",
   "metadata": {},
   "outputs": [],
   "source": []
  },
  {
   "cell_type": "code",
   "execution_count": null,
   "id": "1aa26fed",
   "metadata": {},
   "outputs": [],
   "source": []
  }
 ],
 "metadata": {
  "kernelspec": {
   "display_name": "Python [conda env:io_dsml]",
   "language": "python",
   "name": "conda-env-io_dsml-py"
  },
  "language_info": {
   "codemirror_mode": {
    "name": "ipython",
    "version": 3
   },
   "file_extension": ".py",
   "mimetype": "text/x-python",
   "name": "python",
   "nbconvert_exporter": "python",
   "pygments_lexer": "ipython3",
   "version": "3.11.5"
  }
 },
 "nbformat": 4,
 "nbformat_minor": 5
}
