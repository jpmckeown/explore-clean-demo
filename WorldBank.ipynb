{
 "cells": [
  {
   "cell_type": "markdown",
   "id": "788158d1",
   "metadata": {},
   "source": [
    "# World Bank"
   ]
  },
  {
   "cell_type": "markdown",
   "id": "e678826b",
   "metadata": {},
   "source": [
    "## Aims\n",
    "Retrieve data from primary source using an API.\\\n",
    "Learn usage of \"wbgapi\" library provided by the World Bank (WB).\\\n",
    "Focus on \"World Development Indicators\" and demography.\\\n",
    "Visualise with a variety of plotting libraries, including Plotly.\n",
    "\n",
    "## Data\n",
    "This API can access over 17,000 indicators from over 60 World Bank databases.\\\n",
    "Each indicator is identified by acronyms separated by dots, for example SP.POP.TOTL\n",
    "\n",
    "## Previous knowledge\n",
    "For population the WB is a secondary source, using UN WPP and national census data, but is easier to use than UN data (which sometimes is retrospectively updated online causing a mismatch between publication and citation).\\\n",
    "The list of countries used by different organisations almost always varies in length and membership. For example the IUCN biodiversity data counts each overseas territory (e.g. Ascension Island) as a separate country, which makes sense for them because islands often have lots of unique species. Another example is the World Bank has no data for Taiwan (population 24 million) because they want to avoid offending China."
   ]
  },
  {
   "cell_type": "code",
   "execution_count": 1,
   "id": "c39e8643",
   "metadata": {},
   "outputs": [],
   "source": [
    "import numpy as np\n",
    "import pandas as pd\n",
    "import matplotlib.pyplot as plt\n",
    "import seaborn as sns\n",
    "import plotly.express as px"
   ]
  },
  {
   "cell_type": "code",
   "execution_count": 2,
   "id": "c7a20c29",
   "metadata": {},
   "outputs": [],
   "source": [
    "import wbgapi as wb"
   ]
  },
  {
   "cell_type": "markdown",
   "id": "30cb21e2",
   "metadata": {},
   "source": [
    "## World Bank API"
   ]
  },
  {
   "cell_type": "code",
   "execution_count": 8,
   "id": "ad58c996",
   "metadata": {},
   "outputs": [
    {
     "name": "stdout",
     "output_type": "stream",
     "text": [
      "id    name                          code      concepts  lastupdated\n",
      "----  ----------------------------  ------  ----------  -------------\n",
      "2     World Development Indicators  WDI              3  2023-10-26\n",
      "      1 elements\n"
     ]
    }
   ],
   "source": [
    "# I have previously used a database called \"World Development Indicators\" (WDI).\n",
    "wb.source.info(q=\"World Development Indicators\")"
   ]
  },
  {
   "cell_type": "code",
   "execution_count": 21,
   "id": "4501d0bb",
   "metadata": {
    "scrolled": false
   },
   "outputs": [
    {
     "name": "stdout",
     "output_type": "stream",
     "text": [
      "<class 'wbgapi.Featureset'>\n",
      "1477 columns in WDI\n"
     ]
    }
   ],
   "source": [
    "# Use that id to retrieve all feature columns in WDI dataset.\n",
    "print(type(wb.series.info(db=2)))\n",
    "\n",
    "# To count columns, first convert wbgapi package's Featureset output into a list.\n",
    "features = wb.series.list(db=2)\n",
    "print(f\"{len(list(features))} columns in WDI\")"
   ]
  },
  {
   "cell_type": "code",
   "execution_count": null,
   "id": "cded6c69",
   "metadata": {},
   "outputs": [],
   "source": [
    "# I already knew there's a feature SP.POP.TOTL (total population)"
   ]
  },
  {
   "cell_type": "code",
   "execution_count": 69,
   "id": "63a03b3b",
   "metadata": {},
   "outputs": [
    {
     "data": {
      "image/png": "[encoded data removed]",
      "text/plain": [
       "<Figure size 640x480 with 1 Axes>"
      ]
     },
     "metadata": {},
     "output_type": "display_data"
    }
   ],
   "source": [
    "# chained plot (inline?) function is easiest way to make a chart from WB\n",
    "wb.data.DataFrame('SP.POP.TOTL', ['DEU','FRA','ESP','GBR','USA'], time=range(2000,2016,5)).plot.bar();"
   ]
  },
  {
   "cell_type": "code",
   "execution_count": 3,
   "id": "090fdfa5",
   "metadata": {},
   "outputs": [
    {
     "data": {
      "text/html": [
       "<div>\n",
       "<style scoped>\n",
       "    .dataframe tbody tr th:only-of-type {\n",
       "        vertical-align: middle;\n",
       "    }\n",
       "\n",
       "    .dataframe tbody tr th {\n",
       "        vertical-align: top;\n",
       "    }\n",
       "\n",
       "    .dataframe thead th {\n",
       "        text-align: right;\n",
       "    }\n",
       "</style>\n",
       "<table border=\"1\" class=\"dataframe\">\n",
       "  <thead>\n",
       "    <tr style=\"text-align: right;\">\n",
       "      <th></th>\n",
       "      <th>YR2000</th>\n",
       "      <th>YR2005</th>\n",
       "      <th>YR2010</th>\n",
       "      <th>YR2015</th>\n",
       "    </tr>\n",
       "    <tr>\n",
       "      <th>economy</th>\n",
       "      <th></th>\n",
       "      <th></th>\n",
       "      <th></th>\n",
       "      <th></th>\n",
       "    </tr>\n",
       "  </thead>\n",
       "  <tbody>\n",
       "    <tr>\n",
       "      <th>DEU</th>\n",
       "      <td>82211508.0</td>\n",
       "      <td>82469422.0</td>\n",
       "      <td>81776930.0</td>\n",
       "      <td>81686611.0</td>\n",
       "    </tr>\n",
       "    <tr>\n",
       "      <th>ESP</th>\n",
       "      <td>40567864.0</td>\n",
       "      <td>43653155.0</td>\n",
       "      <td>46576897.0</td>\n",
       "      <td>46444832.0</td>\n",
       "    </tr>\n",
       "    <tr>\n",
       "      <th>GBR</th>\n",
       "      <td>58892514.0</td>\n",
       "      <td>60401206.0</td>\n",
       "      <td>62766365.0</td>\n",
       "      <td>65116219.0</td>\n",
       "    </tr>\n",
       "    <tr>\n",
       "      <th>POL</th>\n",
       "      <td>38258629.0</td>\n",
       "      <td>38165445.0</td>\n",
       "      <td>38042794.0</td>\n",
       "      <td>37986412.0</td>\n",
       "    </tr>\n",
       "  </tbody>\n",
       "</table>\n",
       "</div>"
      ],
      "text/plain": [
       "             YR2000      YR2005      YR2010      YR2015\n",
       "economy                                                \n",
       "DEU      82211508.0  82469422.0  81776930.0  81686611.0\n",
       "ESP      40567864.0  43653155.0  46576897.0  46444832.0\n",
       "GBR      58892514.0  60401206.0  62766365.0  65116219.0\n",
       "POL      38258629.0  38165445.0  38042794.0  37986412.0"
      ]
     },
     "execution_count": 3,
     "metadata": {},
     "output_type": "execute_result"
    }
   ],
   "source": [
    "# by default, dataframe is wide format (un-Tidy) with years in columns\n",
    "pop5 = wb.data.DataFrame('SP.POP.TOTL',\n",
    "                      ['DEU','ESP','GBR','POL'],\n",
    "                      time=range(2000,2016,5));\n",
    "pop5"
   ]
  },
  {
   "cell_type": "code",
   "execution_count": 4,
   "id": "5d0948e9",
   "metadata": {},
   "outputs": [
    {
     "data": {
      "text/html": [
       "<div>\n",
       "<style scoped>\n",
       "    .dataframe tbody tr th:only-of-type {\n",
       "        vertical-align: middle;\n",
       "    }\n",
       "\n",
       "    .dataframe tbody tr th {\n",
       "        vertical-align: top;\n",
       "    }\n",
       "\n",
       "    .dataframe thead th {\n",
       "        text-align: right;\n",
       "    }\n",
       "</style>\n",
       "<table border=\"1\" class=\"dataframe\">\n",
       "  <thead>\n",
       "    <tr style=\"text-align: right;\">\n",
       "      <th>economy</th>\n",
       "      <th>DEU</th>\n",
       "      <th>ESP</th>\n",
       "      <th>GBR</th>\n",
       "      <th>POL</th>\n",
       "    </tr>\n",
       "  </thead>\n",
       "  <tbody>\n",
       "    <tr>\n",
       "      <th>YR2000</th>\n",
       "      <td>82211508.0</td>\n",
       "      <td>40567864.0</td>\n",
       "      <td>58892514.0</td>\n",
       "      <td>38258629.0</td>\n",
       "    </tr>\n",
       "    <tr>\n",
       "      <th>YR2005</th>\n",
       "      <td>82469422.0</td>\n",
       "      <td>43653155.0</td>\n",
       "      <td>60401206.0</td>\n",
       "      <td>38165445.0</td>\n",
       "    </tr>\n",
       "    <tr>\n",
       "      <th>YR2010</th>\n",
       "      <td>81776930.0</td>\n",
       "      <td>46576897.0</td>\n",
       "      <td>62766365.0</td>\n",
       "      <td>38042794.0</td>\n",
       "    </tr>\n",
       "    <tr>\n",
       "      <th>YR2015</th>\n",
       "      <td>81686611.0</td>\n",
       "      <td>46444832.0</td>\n",
       "      <td>65116219.0</td>\n",
       "      <td>37986412.0</td>\n",
       "    </tr>\n",
       "  </tbody>\n",
       "</table>\n",
       "</div>"
      ],
      "text/plain": [
       "economy         DEU         ESP         GBR         POL\n",
       "YR2000   82211508.0  40567864.0  58892514.0  38258629.0\n",
       "YR2005   82469422.0  43653155.0  60401206.0  38165445.0\n",
       "YR2010   81776930.0  46576897.0  62766365.0  38042794.0\n",
       "YR2015   81686611.0  46444832.0  65116219.0  37986412.0"
      ]
     },
     "execution_count": 4,
     "metadata": {},
     "output_type": "execute_result"
    }
   ],
   "source": [
    "# later will make long narrow Tidy format using .melt() but meanwhile...\n",
    "# Seaborn can cope with wide-format but needs transposing\n",
    "pop5T = pop5.transpose()\n",
    "pop5T"
   ]
  },
  {
   "cell_type": "code",
   "execution_count": 5,
   "id": "cf7ca6dc",
   "metadata": {},
   "outputs": [
    {
     "data": {
      "image/png": "[encoded data removed]",
      "text/plain": [
       "<Figure size 580.125x500 with 1 Axes>"
      ]
     },
     "metadata": {},
     "output_type": "display_data"
    }
   ],
   "source": [
    "# I read that Seaborn.relplot can handle wide-format \n",
    "## WB calls a country an \"economy\"\n",
    "## How can the Y scale be changed to plain millions?\n",
    "## Tight layout warning caused by old version MatPlotLib # updated, fixed\n",
    "sns.relplot(data=pop5T, kind='line', marker='o')\n",
    "plt.ylabel(\"Population (ten millions)\")\n",
    "plt.title(\"Population in some European countries\")\n",
    "plt.show()"
   ]
  },
  {
   "cell_type": "markdown",
   "id": "d763cf45",
   "metadata": {},
   "source": [
    "## Time-series with null values"
   ]
  },
  {
   "cell_type": "code",
   "execution_count": 43,
   "id": "09593ff6",
   "metadata": {},
   "outputs": [
    {
     "data": {
      "text/html": [
       "<div class=\"wbgapi\"><table>\n",
       "<thead>\n",
       "<tr><th>code  </th><th>name                                                 </th></tr>\n",
       "</thead>\n",
       "<tbody>\n",
       "<tr><td>AFE   </td><td>Africa Eastern and Southern                          </td></tr>\n",
       "<tr><td>AFR   </td><td>Africa                                               </td></tr>\n",
       "<tr><td>AFW   </td><td>Africa Western and Central                           </td></tr>\n",
       "<tr><td>CAA   </td><td>Sub-Saharan Africa (IFC classification)              </td></tr>\n",
       "<tr><td>CME   </td><td>Middle East and North Africa (IFC classification)    </td></tr>\n",
       "<tr><td>MEA   </td><td>Middle East &amp; North Africa                           </td></tr>\n",
       "<tr><td>MNA   </td><td>Middle East &amp; North Africa (excluding high income)   </td></tr>\n",
       "<tr><td>NAF   </td><td>North Africa                                         </td></tr>\n",
       "<tr><td>NRS   </td><td>Non-resource rich Sub-Saharan Africa countries       </td></tr>\n",
       "<tr><td>RRS   </td><td>Resource rich Sub-Saharan Africa countries           </td></tr>\n",
       "<tr><td>SSA   </td><td>Sub-Saharan Africa (excluding high income)           </td></tr>\n",
       "<tr><td>SSF   </td><td>Sub-Saharan Africa                                   </td></tr>\n",
       "<tr><td>SXZ   </td><td>Sub-Saharan Africa excluding South Africa            </td></tr>\n",
       "<tr><td>XZN   </td><td>Sub-Saharan Africa excluding South Africa and Nigeria</td></tr>\n",
       "<tr><td>      </td><td>14 elements                                          </td></tr>\n",
       "</tbody>\n",
       "</table></div>"
      ],
      "text/plain": [
       "code    name\n",
       "------  -----------------------------------------------------\n",
       "AFE     Africa Eastern and Southern\n",
       "AFR     Africa\n",
       "AFW     Africa Western and Central\n",
       "CAA     Sub-Saharan Africa (IFC classification)\n",
       "CME     Middle East and North Africa (IFC classification)\n",
       "MEA     Middle East & North Africa\n",
       "MNA     Middle East & North Africa (excluding high income)\n",
       "NAF     North Africa\n",
       "NRS     Non-resource rich Sub-Saharan Africa countries\n",
       "RRS     Resource rich Sub-Saharan Africa countries\n",
       "SSA     Sub-Saharan Africa (excluding high income)\n",
       "SSF     Sub-Saharan Africa\n",
       "SXZ     Sub-Saharan Africa excluding South Africa\n",
       "XZN     Sub-Saharan Africa excluding South Africa and Nigeria\n",
       "        14 elements"
      ]
     },
     "execution_count": 43,
     "metadata": {},
     "output_type": "execute_result"
    }
   ],
   "source": [
    "# I picked European data for an easy plot with no Nulls.\n",
    "# Now to get some patchy data with lots of Nulls.\n",
    "wb.region.info(q=\"Africa\")"
   ]
  },
  {
   "cell_type": "code",
   "execution_count": 9,
   "id": "84743c8c",
   "metadata": {},
   "outputs": [
    {
     "name": "stdout",
     "output_type": "stream",
     "text": [
      "54\n",
      "            YR1960     YR1961     YR1962     YR1963      YR1964      YR1965  \\\n",
      "economy                                                                       \n",
      "AGO            NaN        NaN        NaN        NaN         NaN         NaN   \n",
      "BDI      71.360224  72.088782  73.942008  78.948269   85.964725   50.990420   \n",
      "BEN      90.035831  92.374860  91.171392  96.254664  100.468088  105.966856   \n",
      "BFA      69.083195  72.173766  77.077334  78.829086   80.833860   81.993527   \n",
      "BWA      59.297122  62.742953  66.448679  69.378850   74.014392   80.193828   \n",
      "\n",
      "             YR1966      YR1967      YR1968      YR1969  ...       YR2013  \\\n",
      "economy                                                  ...                \n",
      "AGO             NaN         NaN         NaN         NaN  ...  5101.983876   \n",
      "BDI       51.808640   54.450305   54.647466   55.543775  ...   241.547666   \n",
      "BEN      108.628227  107.682862  112.477968  111.695273  ...  1214.295566   \n",
      "BFA       82.759216   84.559491   84.919326   86.715117  ...   762.303780   \n",
      "BWA       89.528010  101.330663  113.700950  131.850442  ...  6436.603063   \n",
      "\n",
      "              YR2014       YR2015       YR2016       YR2017       YR2018  \\\n",
      "economy                                                                    \n",
      "AGO      5059.080441  3100.830685  1709.515534  2283.214233  2487.500996   \n",
      "BDI       257.818557   289.359627   242.539527   244.145422   232.060617   \n",
      "BEN      1251.504765  1041.652523  1049.820303  1095.274459  1194.438214   \n",
      "BFA       767.371344   632.126686   665.786329   711.184544   779.202768   \n",
      "BWA      6844.032996  5869.737772  6411.551666  6705.341062  6947.817841   \n",
      "\n",
      "              YR2019       YR2020       YR2021       YR2022  \n",
      "economy                                                      \n",
      "AGO      2142.238757  1502.950754  1903.717405  2998.501158  \n",
      "BDI       216.972971   216.827417   221.157803   238.441876  \n",
      "BEN      1170.965533  1237.949295  1361.100749  1303.222014  \n",
      "BFA       772.166878   833.244336   893.077196   832.884266  \n",
      "BWA      6691.161051  5875.070606  7238.796096  7737.654681  \n",
      "\n",
      "[5 rows x 63 columns]\n"
     ]
    }
   ],
   "source": [
    "gdp_africa = wb.data.DataFrame('NY.GDP.PCAP.CD', wb.region.members('AFR'))\n",
    "print(len(gdp_africa))\n",
    "print(gdp_africa.head())"
   ]
  },
  {
   "cell_type": "code",
   "execution_count": 10,
   "id": "740727b5",
   "metadata": {},
   "outputs": [
    {
     "name": "stdout",
     "output_type": "stream",
     "text": [
      "YR1960    23\n",
      "YR1961    22\n",
      "YR1962    21\n",
      "YR1963    21\n",
      "YR1964    21\n",
      "          ..\n",
      "YR2018     2\n",
      "YR2019     2\n",
      "YR2020     2\n",
      "YR2021     2\n",
      "YR2022     2\n",
      "Length: 63, dtype: int64\n"
     ]
    }
   ],
   "source": [
    "# Almost half of countries have no GDP data for 1960s, now almost all do.\n",
    "# However gaps in time series may also happen when a country splits creating a new country.\n",
    "nullCount = gdp_africa.isnull().sum()\n",
    "print(nullCount[nullCount > 0])"
   ]
  },
  {
   "cell_type": "code",
   "execution_count": 11,
   "id": "5243031b",
   "metadata": {},
   "outputs": [
    {
     "data": {
      "text/html": [
       "<div>\n",
       "<style scoped>\n",
       "    .dataframe tbody tr th:only-of-type {\n",
       "        vertical-align: middle;\n",
       "    }\n",
       "\n",
       "    .dataframe tbody tr th {\n",
       "        vertical-align: top;\n",
       "    }\n",
       "\n",
       "    .dataframe thead th {\n",
       "        text-align: right;\n",
       "    }\n",
       "</style>\n",
       "<table border=\"1\" class=\"dataframe\">\n",
       "  <thead>\n",
       "    <tr style=\"text-align: right;\">\n",
       "      <th></th>\n",
       "      <th>Time</th>\n",
       "      <th>AGO</th>\n",
       "      <th>BDI</th>\n",
       "      <th>BEN</th>\n",
       "      <th>BFA</th>\n",
       "      <th>BWA</th>\n",
       "      <th>CAF</th>\n",
       "      <th>CIV</th>\n",
       "      <th>CMR</th>\n",
       "      <th>COD</th>\n",
       "      <th>...</th>\n",
       "      <th>SWZ</th>\n",
       "      <th>SYC</th>\n",
       "      <th>TCD</th>\n",
       "      <th>TGO</th>\n",
       "      <th>TUN</th>\n",
       "      <th>TZA</th>\n",
       "      <th>UGA</th>\n",
       "      <th>ZAF</th>\n",
       "      <th>ZMB</th>\n",
       "      <th>ZWE</th>\n",
       "    </tr>\n",
       "    <tr>\n",
       "      <th>time</th>\n",
       "      <th></th>\n",
       "      <th></th>\n",
       "      <th></th>\n",
       "      <th></th>\n",
       "      <th></th>\n",
       "      <th></th>\n",
       "      <th></th>\n",
       "      <th></th>\n",
       "      <th></th>\n",
       "      <th></th>\n",
       "      <th></th>\n",
       "      <th></th>\n",
       "      <th></th>\n",
       "      <th></th>\n",
       "      <th></th>\n",
       "      <th></th>\n",
       "      <th></th>\n",
       "      <th></th>\n",
       "      <th></th>\n",
       "      <th></th>\n",
       "      <th></th>\n",
       "    </tr>\n",
       "  </thead>\n",
       "  <tbody>\n",
       "    <tr>\n",
       "      <th>2022</th>\n",
       "      <td>2022</td>\n",
       "      <td>2998.501158</td>\n",
       "      <td>238.441876</td>\n",
       "      <td>1303.222014</td>\n",
       "      <td>832.884266</td>\n",
       "      <td>7737.654681</td>\n",
       "      <td>427.058096</td>\n",
       "      <td>2486.412194</td>\n",
       "      <td>1588.478723</td>\n",
       "      <td>586.464289</td>\n",
       "      <td>...</td>\n",
       "      <td>4039.518036</td>\n",
       "      <td>15874.540068</td>\n",
       "      <td>716.804381</td>\n",
       "      <td>918.376756</td>\n",
       "      <td>3776.667779</td>\n",
       "      <td>1192.403809</td>\n",
       "      <td>964.224385</td>\n",
       "      <td>6776.480077</td>\n",
       "      <td>1487.907764</td>\n",
       "      <td>1266.996031</td>\n",
       "    </tr>\n",
       "    <tr>\n",
       "      <th>2021</th>\n",
       "      <td>2021</td>\n",
       "      <td>1903.717405</td>\n",
       "      <td>221.157803</td>\n",
       "      <td>1361.100749</td>\n",
       "      <td>893.077196</td>\n",
       "      <td>7238.796096</td>\n",
       "      <td>461.137511</td>\n",
       "      <td>2613.378893</td>\n",
       "      <td>1666.932809</td>\n",
       "      <td>577.209215</td>\n",
       "      <td>...</td>\n",
       "      <td>3982.905229</td>\n",
       "      <td>12963.064672</td>\n",
       "      <td>685.690315</td>\n",
       "      <td>964.050010</td>\n",
       "      <td>3807.184563</td>\n",
       "      <td>1146.031982</td>\n",
       "      <td>883.465728</td>\n",
       "      <td>7055.055176</td>\n",
       "      <td>1137.344395</td>\n",
       "      <td>1773.920411</td>\n",
       "    </tr>\n",
       "    <tr>\n",
       "      <th>2020</th>\n",
       "      <td>2020</td>\n",
       "      <td>1502.950754</td>\n",
       "      <td>216.827417</td>\n",
       "      <td>1237.949295</td>\n",
       "      <td>833.244336</td>\n",
       "      <td>5875.070606</td>\n",
       "      <td>435.469248</td>\n",
       "      <td>2349.069882</td>\n",
       "      <td>1539.130547</td>\n",
       "      <td>524.666686</td>\n",
       "      <td>...</td>\n",
       "      <td>3372.904639</td>\n",
       "      <td>12020.021914</td>\n",
       "      <td>643.772216</td>\n",
       "      <td>875.245410</td>\n",
       "      <td>3497.733231</td>\n",
       "      <td>1104.164429</td>\n",
       "      <td>846.881199</td>\n",
       "      <td>5741.641249</td>\n",
       "      <td>956.831747</td>\n",
       "      <td>1372.696674</td>\n",
       "    </tr>\n",
       "    <tr>\n",
       "      <th>2019</th>\n",
       "      <td>2019</td>\n",
       "      <td>2142.238757</td>\n",
       "      <td>216.972971</td>\n",
       "      <td>1170.965533</td>\n",
       "      <td>772.166878</td>\n",
       "      <td>6691.161051</td>\n",
       "      <td>426.408753</td>\n",
       "      <td>2290.787379</td>\n",
       "      <td>1538.687912</td>\n",
       "      <td>575.882781</td>\n",
       "      <td>...</td>\n",
       "      <td>3818.540425</td>\n",
       "      <td>16851.119765</td>\n",
       "      <td>701.621201</td>\n",
       "      <td>848.304827</td>\n",
       "      <td>3477.844271</td>\n",
       "      <td>1050.932373</td>\n",
       "      <td>823.024733</td>\n",
       "      <td>6688.774746</td>\n",
       "      <td>1268.120941</td>\n",
       "      <td>1421.868596</td>\n",
       "    </tr>\n",
       "    <tr>\n",
       "      <th>2018</th>\n",
       "      <td>2018</td>\n",
       "      <td>2487.500996</td>\n",
       "      <td>232.060617</td>\n",
       "      <td>1194.438214</td>\n",
       "      <td>779.202768</td>\n",
       "      <td>6947.817841</td>\n",
       "      <td>435.932296</td>\n",
       "      <td>2295.540335</td>\n",
       "      <td>1594.060109</td>\n",
       "      <td>546.212593</td>\n",
       "      <td>...</td>\n",
       "      <td>4021.445556</td>\n",
       "      <td>16409.471128</td>\n",
       "      <td>720.265101</td>\n",
       "      <td>873.555156</td>\n",
       "      <td>3577.169460</td>\n",
       "      <td>1011.599670</td>\n",
       "      <td>793.128082</td>\n",
       "      <td>7048.508112</td>\n",
       "      <td>1475.199836</td>\n",
       "      <td>2269.177012</td>\n",
       "    </tr>\n",
       "  </tbody>\n",
       "</table>\n",
       "<p>5 rows × 55 columns</p>\n",
       "</div>"
      ],
      "text/plain": [
       "      Time          AGO         BDI          BEN         BFA          BWA  \\\n",
       "time                                                                        \n",
       "2022  2022  2998.501158  238.441876  1303.222014  832.884266  7737.654681   \n",
       "2021  2021  1903.717405  221.157803  1361.100749  893.077196  7238.796096   \n",
       "2020  2020  1502.950754  216.827417  1237.949295  833.244336  5875.070606   \n",
       "2019  2019  2142.238757  216.972971  1170.965533  772.166878  6691.161051   \n",
       "2018  2018  2487.500996  232.060617  1194.438214  779.202768  6947.817841   \n",
       "\n",
       "             CAF          CIV          CMR         COD  ...          SWZ  \\\n",
       "time                                                    ...                \n",
       "2022  427.058096  2486.412194  1588.478723  586.464289  ...  4039.518036   \n",
       "2021  461.137511  2613.378893  1666.932809  577.209215  ...  3982.905229   \n",
       "2020  435.469248  2349.069882  1539.130547  524.666686  ...  3372.904639   \n",
       "2019  426.408753  2290.787379  1538.687912  575.882781  ...  3818.540425   \n",
       "2018  435.932296  2295.540335  1594.060109  546.212593  ...  4021.445556   \n",
       "\n",
       "               SYC         TCD         TGO          TUN          TZA  \\\n",
       "time                                                                   \n",
       "2022  15874.540068  716.804381  918.376756  3776.667779  1192.403809   \n",
       "2021  12963.064672  685.690315  964.050010  3807.184563  1146.031982   \n",
       "2020  12020.021914  643.772216  875.245410  3497.733231  1104.164429   \n",
       "2019  16851.119765  701.621201  848.304827  3477.844271  1050.932373   \n",
       "2018  16409.471128  720.265101  873.555156  3577.169460  1011.599670   \n",
       "\n",
       "             UGA          ZAF          ZMB          ZWE  \n",
       "time                                                     \n",
       "2022  964.224385  6776.480077  1487.907764  1266.996031  \n",
       "2021  883.465728  7055.055176  1137.344395  1773.920411  \n",
       "2020  846.881199  5741.641249   956.831747  1372.696674  \n",
       "2019  823.024733  6688.774746  1268.120941  1421.868596  \n",
       "2018  793.128082  7048.508112  1475.199836  2269.177012  \n",
       "\n",
       "[5 rows x 55 columns]"
      ]
     },
     "execution_count": 11,
     "metadata": {},
     "output_type": "execute_result"
    }
   ],
   "source": [
    "# Transpose to put countries as columns, years as rows\n",
    "gdp_africa_t = wb.data.DataFrame('NY.GDP.PCAP.CD', wb.region.members('AFR'), index='time', numericTimeKeys=True, labels=True)\n",
    "gdp_africa_t.head()"
   ]
  },
  {
   "cell_type": "code",
   "execution_count": 12,
   "id": "af052916",
   "metadata": {},
   "outputs": [
    {
     "name": "stdout",
     "output_type": "stream",
     "text": [
      "AGO    20\n",
      "COM    20\n",
      "CPV    20\n",
      "DJI    26\n",
      "EGY     5\n",
      "ERI    43\n",
      "ETH    21\n",
      "GIN    26\n",
      "GMB     6\n",
      "GNB    10\n",
      "GNQ     4\n",
      "LBR    40\n",
      "LBY    30\n",
      "MLI     7\n",
      "MOZ    31\n",
      "MRT     1\n",
      "MUS    16\n",
      "MWI    20\n",
      "NAM    20\n",
      "SOM    22\n",
      "SSD    55\n",
      "STP    41\n",
      "TUN     5\n",
      "TZA    28\n",
      "dtype: int64\n"
     ]
    }
   ],
   "source": [
    "# see which countries (only countrycodes for now) have missing years of data\n",
    "nullCount = gdp_africa_t.isnull().sum()\n",
    "print(nullCount[nullCount > 0])"
   ]
  },
  {
   "cell_type": "code",
   "execution_count": 28,
   "id": "badd65ed",
   "metadata": {},
   "outputs": [
    {
     "name": "stdout",
     "output_type": "stream",
     "text": [
      "             YR1960      YR1961      YR1962      YR1963      YR1964  \\\n",
      "economy                                                               \n",
      "SYC      288.058159  270.279661  287.044788  308.195264  332.305003   \n",
      "MUS             NaN         NaN         NaN         NaN         NaN   \n",
      "GAB      275.585338  322.797124  347.684538  290.053633  399.532918   \n",
      "\n",
      "             YR1965      YR1966      YR1967      YR1968      YR1969  ...  \\\n",
      "economy                                                              ...   \n",
      "SYC      328.484901  337.646247  333.233812  314.351065  314.179853  ...   \n",
      "MUS             NaN         NaN         NaN         NaN         NaN  ...   \n",
      "GAB      413.625221  442.376368  481.088521  513.359340  544.148931  ...   \n",
      "\n",
      "               YR2013        YR2014        YR2015        YR2016        YR2017  \\\n",
      "economy                                                                         \n",
      "SYC      14729.627030  15188.174278  14894.485783  15409.805019  15961.241682   \n",
      "MUS       9764.644025  10366.355188   9507.871337   9965.725217  10841.684671   \n",
      "GAB       9250.081117   9255.368037   7090.454634   6722.198222   6975.695197   \n",
      "\n",
      "               YR2018        YR2019        YR2020        YR2021        YR2022  \n",
      "economy                                                                        \n",
      "SYC      16409.471128  16851.119765  12020.021914  12963.064672  15874.540068  \n",
      "MUS      11643.460596  11403.252894   9005.462022   9062.722476  10216.294744  \n",
      "GAB       7694.906045   7523.862278   6680.082670   8635.797144   8820.347338  \n",
      "\n",
      "[3 rows x 63 columns]\n"
     ]
    }
   ],
   "source": [
    "top5gdp = gdp_africa.sort_values(by=['YR2022'],ascending=False)[:3]\n",
    "print(top5gdp)"
   ]
  },
  {
   "cell_type": "code",
   "execution_count": 29,
   "id": "48933eb2",
   "metadata": {},
   "outputs": [
    {
     "name": "stdout",
     "output_type": "stream",
     "text": [
      "YR1960    1\n",
      "YR1961    1\n",
      "YR1962    1\n",
      "YR1963    1\n",
      "YR1964    1\n",
      "YR1965    1\n",
      "YR1966    1\n",
      "YR1967    1\n",
      "YR1968    1\n",
      "YR1969    1\n",
      "YR1970    1\n",
      "YR1971    1\n",
      "YR1972    1\n",
      "YR1973    1\n",
      "YR1974    1\n",
      "YR1975    1\n",
      "dtype: int64\n"
     ]
    }
   ],
   "source": [
    "nullCount = top5gdp.isnull().sum()\n",
    "print(nullCount[nullCount > 0])"
   ]
  },
  {
   "cell_type": "code",
   "execution_count": 30,
   "id": "30fc9724",
   "metadata": {},
   "outputs": [
    {
     "name": "stdout",
     "output_type": "stream",
     "text": [
      "economy           SYC           MUS          GAB\n",
      "YR1960     288.058159           NaN   275.585338\n",
      "YR1961     270.279661           NaN   322.797124\n",
      "YR1962     287.044788           NaN   347.684538\n",
      "YR1963     308.195264           NaN   290.053633\n",
      "YR1964     332.305003           NaN   399.532918\n",
      "...               ...           ...          ...\n",
      "YR2018   16409.471128  11643.460596  7694.906045\n",
      "YR2019   16851.119765  11403.252894  7523.862278\n",
      "YR2020   12020.021914   9005.462022  6680.082670\n",
      "YR2021   12963.064672   9062.722476  8635.797144\n",
      "YR2022   15874.540068  10216.294744  8820.347338\n",
      "\n",
      "[63 rows x 3 columns]\n"
     ]
    }
   ],
   "source": [
    "top5gdpT = top5gdp.transpose()\n",
    "print(top5gdpT)"
   ]
  },
  {
   "cell_type": "code",
   "execution_count": 32,
   "id": "8020a020",
   "metadata": {},
   "outputs": [
    {
     "data": {
      "image/png": "[encoded data removed]",
      "text/plain": [
       "<Figure size 581x500 with 1 Axes>"
      ]
     },
     "metadata": {},
     "output_type": "display_data"
    }
   ],
   "source": [
    "sns.relplot(data=top5gdpT, kind='line', marker='o')\n",
    "plt.ylabel(\"GDP (ten millions)\")\n",
    "plt.title(\"Countries in Africa with highest GDP per capita in 2022\")\n",
    "plt.xticks(rotation=90)\n",
    "ax = plt.gca()\n",
    "temp = ax.xaxis.get_ticklabels()\n",
    "temp = list(set(temp) - set(temp[::5]))\n",
    "for label in temp:\n",
    "    label.set_visible(False)\n",
    "plt.show()"
   ]
  },
  {
   "cell_type": "code",
   "execution_count": null,
   "id": "5736005b",
   "metadata": {},
   "outputs": [],
   "source": [
    "# country \"MUS\" time-series begins in 1976\n",
    "# Names of countries are needed, but first (so global comparisons can be done) \n",
    "# need to remove any regional agglomerations so all data is for individual countries."
   ]
  },
  {
   "cell_type": "markdown",
   "id": "717dabb4",
   "metadata": {},
   "source": [
    "## Remove all supra-national regions"
   ]
  },
  {
   "cell_type": "code",
   "execution_count": 6,
   "id": "012f59eb",
   "metadata": {},
   "outputs": [
    {
     "data": {
      "text/html": [
       "<div class=\"wbgapi\"><table>\n",
       "<thead>\n",
       "<tr><th>id  </th><th>value                                               </th><th>region  </th><th>incomeLevel  </th></tr>\n",
       "</thead>\n",
       "<tbody>\n",
       "<tr><td>ABW </td><td>Aruba                                               </td><td>LCN     </td><td>HIC          </td></tr>\n",
       "<tr><td>AFE </td><td>Africa Eastern and Southern                         </td><td>        </td><td>             </td></tr>\n",
       "<tr><td>AFG </td><td>Afghanistan                                         </td><td>SAS     </td><td>LIC          </td></tr>\n",
       "<tr><td>AFW </td><td>Africa Western and Central                          </td><td>        </td><td>             </td></tr>\n",
       "<tr><td>AGO </td><td>Angola                                              </td><td>SSF     </td><td>LMC          </td></tr>\n",
       "<tr><td>ALB </td><td>Albania                                             </td><td>ECS     </td><td>UMC          </td></tr>\n",
       "<tr><td>AND </td><td>Andorra                                             </td><td>ECS     </td><td>HIC          </td></tr>\n",
       "<tr><td>ARB </td><td>Arab World                                          </td><td>        </td><td>             </td></tr>\n",
       "<tr><td>ARE </td><td>United Arab Emirates                                </td><td>MEA     </td><td>HIC          </td></tr>\n",
       "<tr><td>ARG </td><td>Argentina                                           </td><td>LCN     </td><td>UMC          </td></tr>\n",
       "<tr><td>ARM </td><td>Armenia                                             </td><td>ECS     </td><td>UMC          </td></tr>\n",
       "<tr><td>ASM </td><td>American Samoa                                      </td><td>EAS     </td><td>HIC          </td></tr>\n",
       "<tr><td>ATG </td><td>Antigua and Barbuda                                 </td><td>LCN     </td><td>HIC          </td></tr>\n",
       "<tr><td>AUS </td><td>Australia                                           </td><td>EAS     </td><td>HIC          </td></tr>\n",
       "<tr><td>AUT </td><td>Austria                                             </td><td>ECS     </td><td>HIC          </td></tr>\n",
       "<tr><td>AZE </td><td>Azerbaijan                                          </td><td>ECS     </td><td>UMC          </td></tr>\n",
       "<tr><td>BDI </td><td>Burundi                                             </td><td>SSF     </td><td>LIC          </td></tr>\n",
       "<tr><td>BEL </td><td>Belgium                                             </td><td>ECS     </td><td>HIC          </td></tr>\n",
       "<tr><td>BEN </td><td>Benin                                               </td><td>SSF     </td><td>LMC          </td></tr>\n",
       "<tr><td>BFA </td><td>Burkina Faso                                        </td><td>SSF     </td><td>LIC          </td></tr>\n",
       "<tr><td>BGD </td><td>Bangladesh                                          </td><td>SAS     </td><td>LMC          </td></tr>\n",
       "<tr><td>BGR </td><td>Bulgaria                                            </td><td>ECS     </td><td>UMC          </td></tr>\n",
       "<tr><td>BHR </td><td>Bahrain                                             </td><td>MEA     </td><td>HIC          </td></tr>\n",
       "<tr><td>BHS </td><td>Bahamas, The                                        </td><td>LCN     </td><td>HIC          </td></tr>\n",
       "<tr><td>BIH </td><td>Bosnia and Herzegovina                              </td><td>ECS     </td><td>UMC          </td></tr>\n",
       "<tr><td>BLR </td><td>Belarus                                             </td><td>ECS     </td><td>UMC          </td></tr>\n",
       "<tr><td>BLZ </td><td>Belize                                              </td><td>LCN     </td><td>UMC          </td></tr>\n",
       "<tr><td>BMU </td><td>Bermuda                                             </td><td>NAC     </td><td>HIC          </td></tr>\n",
       "<tr><td>BOL </td><td>Bolivia                                             </td><td>LCN     </td><td>LMC          </td></tr>\n",
       "<tr><td>BRA </td><td>Brazil                                              </td><td>LCN     </td><td>UMC          </td></tr>\n",
       "<tr><td>BRB </td><td>Barbados                                            </td><td>LCN     </td><td>HIC          </td></tr>\n",
       "<tr><td>BRN </td><td>Brunei Darussalam                                   </td><td>EAS     </td><td>HIC          </td></tr>\n",
       "<tr><td>BTN </td><td>Bhutan                                              </td><td>SAS     </td><td>LMC          </td></tr>\n",
       "<tr><td>BWA </td><td>Botswana                                            </td><td>SSF     </td><td>UMC          </td></tr>\n",
       "<tr><td>CAF </td><td>Central African Republic                            </td><td>SSF     </td><td>LIC          </td></tr>\n",
       "<tr><td>CAN </td><td>Canada                                              </td><td>NAC     </td><td>HIC          </td></tr>\n",
       "<tr><td>CEB </td><td>Central Europe and the Baltics                      </td><td>        </td><td>             </td></tr>\n",
       "<tr><td>CHE </td><td>Switzerland                                         </td><td>ECS     </td><td>HIC          </td></tr>\n",
       "<tr><td>CHI </td><td>Channel Islands                                     </td><td>ECS     </td><td>HIC          </td></tr>\n",
       "<tr><td>CHL </td><td>Chile                                               </td><td>LCN     </td><td>HIC          </td></tr>\n",
       "<tr><td>CHN </td><td>China                                               </td><td>EAS     </td><td>UMC          </td></tr>\n",
       "<tr><td>CIV </td><td>Cote d&#x27;Ivoire                                       </td><td>SSF     </td><td>LMC          </td></tr>\n",
       "<tr><td>CMR </td><td>Cameroon                                            </td><td>SSF     </td><td>LMC          </td></tr>\n",
       "<tr><td>COD </td><td>Congo, Dem. Rep.                                    </td><td>SSF     </td><td>LIC          </td></tr>\n",
       "<tr><td>COG </td><td>Congo, Rep.                                         </td><td>SSF     </td><td>LMC          </td></tr>\n",
       "<tr><td>COL </td><td>Colombia                                            </td><td>LCN     </td><td>UMC          </td></tr>\n",
       "<tr><td>COM </td><td>Comoros                                             </td><td>SSF     </td><td>LMC          </td></tr>\n",
       "<tr><td>CPV </td><td>Cabo Verde                                          </td><td>SSF     </td><td>LMC          </td></tr>\n",
       "<tr><td>CRI </td><td>Costa Rica                                          </td><td>LCN     </td><td>UMC          </td></tr>\n",
       "<tr><td>CSS </td><td>Caribbean small states                              </td><td>        </td><td>             </td></tr>\n",
       "<tr><td>CUB </td><td>Cuba                                                </td><td>LCN     </td><td>UMC          </td></tr>\n",
       "<tr><td>CUW </td><td>Curacao                                             </td><td>LCN     </td><td>HIC          </td></tr>\n",
       "<tr><td>CYM </td><td>Cayman Islands                                      </td><td>LCN     </td><td>HIC          </td></tr>\n",
       "<tr><td>CYP </td><td>Cyprus                                              </td><td>ECS     </td><td>HIC          </td></tr>\n",
       "<tr><td>CZE </td><td>Czechia                                             </td><td>ECS     </td><td>HIC          </td></tr>\n",
       "<tr><td>DEU </td><td>Germany                                             </td><td>ECS     </td><td>HIC          </td></tr>\n",
       "<tr><td>DJI </td><td>Djibouti                                            </td><td>MEA     </td><td>LMC          </td></tr>\n",
       "<tr><td>DMA </td><td>Dominica                                            </td><td>LCN     </td><td>UMC          </td></tr>\n",
       "<tr><td>DNK </td><td>Denmark                                             </td><td>ECS     </td><td>HIC          </td></tr>\n",
       "<tr><td>DOM </td><td>Dominican Republic                                  </td><td>LCN     </td><td>UMC          </td></tr>\n",
       "<tr><td>DZA </td><td>Algeria                                             </td><td>MEA     </td><td>LMC          </td></tr>\n",
       "<tr><td>EAP </td><td>East Asia &amp; Pacific (excluding high income)         </td><td>        </td><td>             </td></tr>\n",
       "<tr><td>EAR </td><td>Early-demographic dividend                          </td><td>        </td><td>             </td></tr>\n",
       "<tr><td>EAS </td><td>East Asia &amp; Pacific                                 </td><td>        </td><td>             </td></tr>\n",
       "<tr><td>ECA </td><td>Europe &amp; Central Asia (excluding high income)       </td><td>        </td><td>             </td></tr>\n",
       "<tr><td>ECS </td><td>Europe &amp; Central Asia                               </td><td>        </td><td>             </td></tr>\n",
       "<tr><td>ECU </td><td>Ecuador                                             </td><td>LCN     </td><td>UMC          </td></tr>\n",
       "<tr><td>EGY </td><td>Egypt, Arab Rep.                                    </td><td>MEA     </td><td>LMC          </td></tr>\n",
       "<tr><td>EMU </td><td>Euro area                                           </td><td>        </td><td>             </td></tr>\n",
       "<tr><td>ERI </td><td>Eritrea                                             </td><td>SSF     </td><td>LIC          </td></tr>\n",
       "<tr><td>ESP </td><td>Spain                                               </td><td>ECS     </td><td>HIC          </td></tr>\n",
       "<tr><td>EST </td><td>Estonia                                             </td><td>ECS     </td><td>HIC          </td></tr>\n",
       "<tr><td>ETH </td><td>Ethiopia                                            </td><td>SSF     </td><td>LIC          </td></tr>\n",
       "<tr><td>EUU </td><td>European Union                                      </td><td>        </td><td>             </td></tr>\n",
       "<tr><td>FCS </td><td>Fragile and conflict affected situations            </td><td>        </td><td>             </td></tr>\n",
       "<tr><td>FIN </td><td>Finland                                             </td><td>ECS     </td><td>HIC          </td></tr>\n",
       "<tr><td>FJI </td><td>Fiji                                                </td><td>EAS     </td><td>UMC          </td></tr>\n",
       "<tr><td>FRA </td><td>France                                              </td><td>ECS     </td><td>HIC          </td></tr>\n",
       "<tr><td>FRO </td><td>Faroe Islands                                       </td><td>ECS     </td><td>HIC          </td></tr>\n",
       "<tr><td>FSM </td><td>Micronesia, Fed. Sts.                               </td><td>EAS     </td><td>LMC          </td></tr>\n",
       "<tr><td>GAB </td><td>Gabon                                               </td><td>SSF     </td><td>UMC          </td></tr>\n",
       "<tr><td>GBR </td><td>United Kingdom                                      </td><td>ECS     </td><td>HIC          </td></tr>\n",
       "<tr><td>GEO </td><td>Georgia                                             </td><td>ECS     </td><td>UMC          </td></tr>\n",
       "<tr><td>GHA </td><td>Ghana                                               </td><td>SSF     </td><td>LMC          </td></tr>\n",
       "<tr><td>GIB </td><td>Gibraltar                                           </td><td>ECS     </td><td>HIC          </td></tr>\n",
       "<tr><td>GIN </td><td>Guinea                                              </td><td>SSF     </td><td>LMC          </td></tr>\n",
       "<tr><td>GMB </td><td>Gambia, The                                         </td><td>SSF     </td><td>LIC          </td></tr>\n",
       "<tr><td>GNB </td><td>Guinea-Bissau                                       </td><td>SSF     </td><td>LIC          </td></tr>\n",
       "<tr><td>GNQ </td><td>Equatorial Guinea                                   </td><td>SSF     </td><td>UMC          </td></tr>\n",
       "<tr><td>GRC </td><td>Greece                                              </td><td>ECS     </td><td>HIC          </td></tr>\n",
       "<tr><td>GRD </td><td>Grenada                                             </td><td>LCN     </td><td>UMC          </td></tr>\n",
       "<tr><td>GRL </td><td>Greenland                                           </td><td>ECS     </td><td>HIC          </td></tr>\n",
       "<tr><td>GTM </td><td>Guatemala                                           </td><td>LCN     </td><td>UMC          </td></tr>\n",
       "<tr><td>GUM </td><td>Guam                                                </td><td>EAS     </td><td>HIC          </td></tr>\n",
       "<tr><td>GUY </td><td>Guyana                                              </td><td>LCN     </td><td>HIC          </td></tr>\n",
       "<tr><td>HIC </td><td>High income                                         </td><td>        </td><td>             </td></tr>\n",
       "<tr><td>HKG </td><td>Hong Kong SAR, China                                </td><td>EAS     </td><td>HIC          </td></tr>\n",
       "<tr><td>HND </td><td>Honduras                                            </td><td>LCN     </td><td>LMC          </td></tr>\n",
       "<tr><td>HPC </td><td>Heavily indebted poor countries (HIPC)              </td><td>        </td><td>             </td></tr>\n",
       "<tr><td>HRV </td><td>Croatia                                             </td><td>ECS     </td><td>HIC          </td></tr>\n",
       "<tr><td>HTI </td><td>Haiti                                               </td><td>LCN     </td><td>LMC          </td></tr>\n",
       "<tr><td>HUN </td><td>Hungary                                             </td><td>ECS     </td><td>HIC          </td></tr>\n",
       "<tr><td>IBD </td><td>IBRD only                                           </td><td>        </td><td>             </td></tr>\n",
       "<tr><td>IBT </td><td>IDA &amp; IBRD total                                    </td><td>        </td><td>             </td></tr>\n",
       "<tr><td>IDA </td><td>IDA total                                           </td><td>        </td><td>             </td></tr>\n",
       "<tr><td>IDB </td><td>IDA blend                                           </td><td>        </td><td>             </td></tr>\n",
       "<tr><td>IDN </td><td>Indonesia                                           </td><td>EAS     </td><td>UMC          </td></tr>\n",
       "<tr><td>IDX </td><td>IDA only                                            </td><td>        </td><td>             </td></tr>\n",
       "<tr><td>IMN </td><td>Isle of Man                                         </td><td>ECS     </td><td>HIC          </td></tr>\n",
       "<tr><td>IND </td><td>India                                               </td><td>SAS     </td><td>LMC          </td></tr>\n",
       "<tr><td>INX </td><td>Not classified                                      </td><td>        </td><td>             </td></tr>\n",
       "<tr><td>IRL </td><td>Ireland                                             </td><td>ECS     </td><td>HIC          </td></tr>\n",
       "<tr><td>IRN </td><td>Iran, Islamic Rep.                                  </td><td>MEA     </td><td>LMC          </td></tr>\n",
       "<tr><td>IRQ </td><td>Iraq                                                </td><td>MEA     </td><td>UMC          </td></tr>\n",
       "<tr><td>ISL </td><td>Iceland                                             </td><td>ECS     </td><td>HIC          </td></tr>\n",
       "<tr><td>ISR </td><td>Israel                                              </td><td>MEA     </td><td>HIC          </td></tr>\n",
       "<tr><td>ITA </td><td>Italy                                               </td><td>ECS     </td><td>HIC          </td></tr>\n",
       "<tr><td>JAM </td><td>Jamaica                                             </td><td>LCN     </td><td>UMC          </td></tr>\n",
       "<tr><td>JOR </td><td>Jordan                                              </td><td>MEA     </td><td>LMC          </td></tr>\n",
       "<tr><td>JPN </td><td>Japan                                               </td><td>EAS     </td><td>HIC          </td></tr>\n",
       "<tr><td>KAZ </td><td>Kazakhstan                                          </td><td>ECS     </td><td>UMC          </td></tr>\n",
       "<tr><td>KEN </td><td>Kenya                                               </td><td>SSF     </td><td>LMC          </td></tr>\n",
       "<tr><td>KGZ </td><td>Kyrgyz Republic                                     </td><td>ECS     </td><td>LMC          </td></tr>\n",
       "<tr><td>KHM </td><td>Cambodia                                            </td><td>EAS     </td><td>LMC          </td></tr>\n",
       "<tr><td>KIR </td><td>Kiribati                                            </td><td>EAS     </td><td>LMC          </td></tr>\n",
       "<tr><td>KNA </td><td>St. Kitts and Nevis                                 </td><td>LCN     </td><td>HIC          </td></tr>\n",
       "<tr><td>KOR </td><td>Korea, Rep.                                         </td><td>EAS     </td><td>HIC          </td></tr>\n",
       "<tr><td>KWT </td><td>Kuwait                                              </td><td>MEA     </td><td>HIC          </td></tr>\n",
       "<tr><td>LAC </td><td>Latin America &amp; Caribbean (excluding high income)   </td><td>        </td><td>             </td></tr>\n",
       "<tr><td>LAO </td><td>Lao PDR                                             </td><td>EAS     </td><td>LMC          </td></tr>\n",
       "<tr><td>LBN </td><td>Lebanon                                             </td><td>MEA     </td><td>LMC          </td></tr>\n",
       "<tr><td>LBR </td><td>Liberia                                             </td><td>SSF     </td><td>LIC          </td></tr>\n",
       "<tr><td>LBY </td><td>Libya                                               </td><td>MEA     </td><td>UMC          </td></tr>\n",
       "<tr><td>LCA </td><td>St. Lucia                                           </td><td>LCN     </td><td>UMC          </td></tr>\n",
       "<tr><td>LCN </td><td>Latin America &amp; Caribbean                           </td><td>        </td><td>             </td></tr>\n",
       "<tr><td>LDC </td><td>Least developed countries: UN classification        </td><td>        </td><td>             </td></tr>\n",
       "<tr><td>LIC </td><td>Low income                                          </td><td>        </td><td>             </td></tr>\n",
       "<tr><td>LIE </td><td>Liechtenstein                                       </td><td>ECS     </td><td>HIC          </td></tr>\n",
       "<tr><td>LKA </td><td>Sri Lanka                                           </td><td>SAS     </td><td>LMC          </td></tr>\n",
       "<tr><td>LMC </td><td>Lower middle income                                 </td><td>        </td><td>             </td></tr>\n",
       "<tr><td>LMY </td><td>Low &amp; middle income                                 </td><td>        </td><td>             </td></tr>\n",
       "<tr><td>LSO </td><td>Lesotho                                             </td><td>SSF     </td><td>LMC          </td></tr>\n",
       "<tr><td>LTE </td><td>Late-demographic dividend                           </td><td>        </td><td>             </td></tr>\n",
       "<tr><td>LTU </td><td>Lithuania                                           </td><td>ECS     </td><td>HIC          </td></tr>\n",
       "<tr><td>LUX </td><td>Luxembourg                                          </td><td>ECS     </td><td>HIC          </td></tr>\n",
       "<tr><td>LVA </td><td>Latvia                                              </td><td>ECS     </td><td>HIC          </td></tr>\n",
       "<tr><td>MAC </td><td>Macao SAR, China                                    </td><td>EAS     </td><td>HIC          </td></tr>\n",
       "<tr><td>MAF </td><td>St. Martin (French part)                            </td><td>LCN     </td><td>HIC          </td></tr>\n",
       "<tr><td>MAR </td><td>Morocco                                             </td><td>MEA     </td><td>LMC          </td></tr>\n",
       "<tr><td>MCO </td><td>Monaco                                              </td><td>ECS     </td><td>HIC          </td></tr>\n",
       "<tr><td>MDA </td><td>Moldova                                             </td><td>ECS     </td><td>UMC          </td></tr>\n",
       "<tr><td>MDG </td><td>Madagascar                                          </td><td>SSF     </td><td>LIC          </td></tr>\n",
       "<tr><td>MDV </td><td>Maldives                                            </td><td>SAS     </td><td>UMC          </td></tr>\n",
       "<tr><td>MEA </td><td>Middle East &amp; North Africa                          </td><td>        </td><td>             </td></tr>\n",
       "<tr><td>MEX </td><td>Mexico                                              </td><td>LCN     </td><td>UMC          </td></tr>\n",
       "<tr><td>MHL </td><td>Marshall Islands                                    </td><td>EAS     </td><td>UMC          </td></tr>\n",
       "<tr><td>MIC </td><td>Middle income                                       </td><td>        </td><td>             </td></tr>\n",
       "<tr><td>MKD </td><td>North Macedonia                                     </td><td>ECS     </td><td>UMC          </td></tr>\n",
       "<tr><td>MLI </td><td>Mali                                                </td><td>SSF     </td><td>LIC          </td></tr>\n",
       "<tr><td>MLT </td><td>Malta                                               </td><td>MEA     </td><td>HIC          </td></tr>\n",
       "<tr><td>MMR </td><td>Myanmar                                             </td><td>EAS     </td><td>LMC          </td></tr>\n",
       "<tr><td>MNA </td><td>Middle East &amp; North Africa (excluding high income)  </td><td>        </td><td>             </td></tr>\n",
       "<tr><td>MNE </td><td>Montenegro                                          </td><td>ECS     </td><td>UMC          </td></tr>\n",
       "<tr><td>MNG </td><td>Mongolia                                            </td><td>EAS     </td><td>LMC          </td></tr>\n",
       "<tr><td>MNP </td><td>Northern Mariana Islands                            </td><td>EAS     </td><td>HIC          </td></tr>\n",
       "<tr><td>MOZ </td><td>Mozambique                                          </td><td>SSF     </td><td>LIC          </td></tr>\n",
       "<tr><td>MRT </td><td>Mauritania                                          </td><td>SSF     </td><td>LMC          </td></tr>\n",
       "<tr><td>MUS </td><td>Mauritius                                           </td><td>SSF     </td><td>UMC          </td></tr>\n",
       "<tr><td>MWI </td><td>Malawi                                              </td><td>SSF     </td><td>LIC          </td></tr>\n",
       "<tr><td>MYS </td><td>Malaysia                                            </td><td>EAS     </td><td>UMC          </td></tr>\n",
       "<tr><td>NAC </td><td>North America                                       </td><td>        </td><td>             </td></tr>\n",
       "<tr><td>NAM </td><td>Namibia                                             </td><td>SSF     </td><td>UMC          </td></tr>\n",
       "<tr><td>NCL </td><td>New Caledonia                                       </td><td>EAS     </td><td>HIC          </td></tr>\n",
       "<tr><td>NER </td><td>Niger                                               </td><td>SSF     </td><td>LIC          </td></tr>\n",
       "<tr><td>NGA </td><td>Nigeria                                             </td><td>SSF     </td><td>LMC          </td></tr>\n",
       "<tr><td>NIC </td><td>Nicaragua                                           </td><td>LCN     </td><td>LMC          </td></tr>\n",
       "<tr><td>NLD </td><td>Netherlands                                         </td><td>ECS     </td><td>HIC          </td></tr>\n",
       "<tr><td>NOR </td><td>Norway                                              </td><td>ECS     </td><td>HIC          </td></tr>\n",
       "<tr><td>NPL </td><td>Nepal                                               </td><td>SAS     </td><td>LMC          </td></tr>\n",
       "<tr><td>NRU </td><td>Nauru                                               </td><td>EAS     </td><td>HIC          </td></tr>\n",
       "<tr><td>NZL </td><td>New Zealand                                         </td><td>EAS     </td><td>HIC          </td></tr>\n",
       "<tr><td>OED </td><td>OECD members                                        </td><td>        </td><td>             </td></tr>\n",
       "<tr><td>OMN </td><td>Oman                                                </td><td>MEA     </td><td>HIC          </td></tr>\n",
       "<tr><td>OSS </td><td>Other small states                                  </td><td>        </td><td>             </td></tr>\n",
       "<tr><td>PAK </td><td>Pakistan                                            </td><td>SAS     </td><td>LMC          </td></tr>\n",
       "<tr><td>PAN </td><td>Panama                                              </td><td>LCN     </td><td>HIC          </td></tr>\n",
       "<tr><td>PER </td><td>Peru                                                </td><td>LCN     </td><td>UMC          </td></tr>\n",
       "<tr><td>PHL </td><td>Philippines                                         </td><td>EAS     </td><td>LMC          </td></tr>\n",
       "<tr><td>PLW </td><td>Palau                                               </td><td>EAS     </td><td>UMC          </td></tr>\n",
       "<tr><td>PNG </td><td>Papua New Guinea                                    </td><td>EAS     </td><td>LMC          </td></tr>\n",
       "<tr><td>POL </td><td>Poland                                              </td><td>ECS     </td><td>HIC          </td></tr>\n",
       "<tr><td>PRE </td><td>Pre-demographic dividend                            </td><td>        </td><td>             </td></tr>\n",
       "<tr><td>PRI </td><td>Puerto Rico                                         </td><td>LCN     </td><td>HIC          </td></tr>\n",
       "<tr><td>PRK </td><td>Korea, Dem. People&#x27;s Rep.                           </td><td>EAS     </td><td>LIC          </td></tr>\n",
       "<tr><td>PRT </td><td>Portugal                                            </td><td>ECS     </td><td>HIC          </td></tr>\n",
       "<tr><td>PRY </td><td>Paraguay                                            </td><td>LCN     </td><td>UMC          </td></tr>\n",
       "<tr><td>PSE </td><td>West Bank and Gaza                                  </td><td>MEA     </td><td>UMC          </td></tr>\n",
       "<tr><td>PSS </td><td>Pacific island small states                         </td><td>        </td><td>             </td></tr>\n",
       "<tr><td>PST </td><td>Post-demographic dividend                           </td><td>        </td><td>             </td></tr>\n",
       "<tr><td>PYF </td><td>French Polynesia                                    </td><td>EAS     </td><td>HIC          </td></tr>\n",
       "<tr><td>QAT </td><td>Qatar                                               </td><td>MEA     </td><td>HIC          </td></tr>\n",
       "<tr><td>ROU </td><td>Romania                                             </td><td>ECS     </td><td>HIC          </td></tr>\n",
       "<tr><td>RUS </td><td>Russian Federation                                  </td><td>ECS     </td><td>UMC          </td></tr>\n",
       "<tr><td>RWA </td><td>Rwanda                                              </td><td>SSF     </td><td>LIC          </td></tr>\n",
       "<tr><td>SAS </td><td>South Asia                                          </td><td>        </td><td>             </td></tr>\n",
       "<tr><td>SAU </td><td>Saudi Arabia                                        </td><td>MEA     </td><td>HIC          </td></tr>\n",
       "<tr><td>SDN </td><td>Sudan                                               </td><td>SSF     </td><td>LIC          </td></tr>\n",
       "<tr><td>SEN </td><td>Senegal                                             </td><td>SSF     </td><td>LMC          </td></tr>\n",
       "<tr><td>SGP </td><td>Singapore                                           </td><td>EAS     </td><td>HIC          </td></tr>\n",
       "<tr><td>SLB </td><td>Solomon Islands                                     </td><td>EAS     </td><td>LMC          </td></tr>\n",
       "<tr><td>SLE </td><td>Sierra Leone                                        </td><td>SSF     </td><td>LIC          </td></tr>\n",
       "<tr><td>SLV </td><td>El Salvador                                         </td><td>LCN     </td><td>UMC          </td></tr>\n",
       "<tr><td>SMR </td><td>San Marino                                          </td><td>ECS     </td><td>HIC          </td></tr>\n",
       "<tr><td>SOM </td><td>Somalia                                             </td><td>SSF     </td><td>LIC          </td></tr>\n",
       "<tr><td>SRB </td><td>Serbia                                              </td><td>ECS     </td><td>UMC          </td></tr>\n",
       "<tr><td>SSA </td><td>Sub-Saharan Africa (excluding high income)          </td><td>        </td><td>             </td></tr>\n",
       "<tr><td>SSD </td><td>South Sudan                                         </td><td>SSF     </td><td>LIC          </td></tr>\n",
       "<tr><td>SSF </td><td>Sub-Saharan Africa                                  </td><td>        </td><td>             </td></tr>\n",
       "<tr><td>SST </td><td>Small states                                        </td><td>        </td><td>             </td></tr>\n",
       "<tr><td>STP </td><td>Sao Tome and Principe                               </td><td>SSF     </td><td>LMC          </td></tr>\n",
       "<tr><td>SUR </td><td>Suriname                                            </td><td>LCN     </td><td>UMC          </td></tr>\n",
       "<tr><td>SVK </td><td>Slovak Republic                                     </td><td>ECS     </td><td>HIC          </td></tr>\n",
       "<tr><td>SVN </td><td>Slovenia                                            </td><td>ECS     </td><td>HIC          </td></tr>\n",
       "<tr><td>SWE </td><td>Sweden                                              </td><td>ECS     </td><td>HIC          </td></tr>\n",
       "<tr><td>SWZ </td><td>Eswatini                                            </td><td>SSF     </td><td>LMC          </td></tr>\n",
       "<tr><td>SXM </td><td>Sint Maarten (Dutch part)                           </td><td>LCN     </td><td>HIC          </td></tr>\n",
       "<tr><td>SYC </td><td>Seychelles                                          </td><td>SSF     </td><td>HIC          </td></tr>\n",
       "<tr><td>SYR </td><td>Syrian Arab Republic                                </td><td>MEA     </td><td>LIC          </td></tr>\n",
       "<tr><td>TCA </td><td>Turks and Caicos Islands                            </td><td>LCN     </td><td>HIC          </td></tr>\n",
       "<tr><td>TCD </td><td>Chad                                                </td><td>SSF     </td><td>LIC          </td></tr>\n",
       "<tr><td>TEA </td><td>East Asia &amp; Pacific (IDA &amp; IBRD countries)          </td><td>        </td><td>             </td></tr>\n",
       "<tr><td>TEC </td><td>Europe &amp; Central Asia (IDA &amp; IBRD countries)        </td><td>        </td><td>             </td></tr>\n",
       "<tr><td>TGO </td><td>Togo                                                </td><td>SSF     </td><td>LIC          </td></tr>\n",
       "<tr><td>THA </td><td>Thailand                                            </td><td>EAS     </td><td>UMC          </td></tr>\n",
       "<tr><td>TJK </td><td>Tajikistan                                          </td><td>ECS     </td><td>LMC          </td></tr>\n",
       "<tr><td>TKM </td><td>Turkmenistan                                        </td><td>ECS     </td><td>UMC          </td></tr>\n",
       "<tr><td>TLA </td><td>Latin America &amp; the Caribbean (IDA &amp; IBRD countries)</td><td>        </td><td>             </td></tr>\n",
       "<tr><td>TLS </td><td>Timor-Leste                                         </td><td>EAS     </td><td>LMC          </td></tr>\n",
       "<tr><td>TMN </td><td>Middle East &amp; North Africa (IDA &amp; IBRD countries)   </td><td>        </td><td>             </td></tr>\n",
       "<tr><td>TON </td><td>Tonga                                               </td><td>EAS     </td><td>UMC          </td></tr>\n",
       "<tr><td>TSA </td><td>South Asia (IDA &amp; IBRD)                             </td><td>        </td><td>             </td></tr>\n",
       "<tr><td>TSS </td><td>Sub-Saharan Africa (IDA &amp; IBRD countries)           </td><td>        </td><td>             </td></tr>\n",
       "<tr><td>TTO </td><td>Trinidad and Tobago                                 </td><td>LCN     </td><td>HIC          </td></tr>\n",
       "<tr><td>TUN </td><td>Tunisia                                             </td><td>MEA     </td><td>LMC          </td></tr>\n",
       "<tr><td>TUR </td><td>Turkiye                                             </td><td>ECS     </td><td>UMC          </td></tr>\n",
       "<tr><td>TUV </td><td>Tuvalu                                              </td><td>EAS     </td><td>UMC          </td></tr>\n",
       "<tr><td>TZA </td><td>Tanzania                                            </td><td>SSF     </td><td>LMC          </td></tr>\n",
       "<tr><td>UGA </td><td>Uganda                                              </td><td>SSF     </td><td>LIC          </td></tr>\n",
       "<tr><td>UKR </td><td>Ukraine                                             </td><td>ECS     </td><td>LMC          </td></tr>\n",
       "<tr><td>UMC </td><td>Upper middle income                                 </td><td>        </td><td>             </td></tr>\n",
       "<tr><td>URY </td><td>Uruguay                                             </td><td>LCN     </td><td>HIC          </td></tr>\n",
       "<tr><td>USA </td><td>United States                                       </td><td>NAC     </td><td>HIC          </td></tr>\n",
       "<tr><td>UZB </td><td>Uzbekistan                                          </td><td>ECS     </td><td>LMC          </td></tr>\n",
       "<tr><td>VCT </td><td>St. Vincent and the Grenadines                      </td><td>LCN     </td><td>UMC          </td></tr>\n",
       "<tr><td>VEN </td><td>Venezuela, RB                                       </td><td>LCN     </td><td>INX          </td></tr>\n",
       "<tr><td>VGB </td><td>British Virgin Islands                              </td><td>LCN     </td><td>HIC          </td></tr>\n",
       "<tr><td>VIR </td><td>Virgin Islands (U.S.)                               </td><td>LCN     </td><td>HIC          </td></tr>\n",
       "<tr><td>VNM </td><td>Viet Nam                                            </td><td>EAS     </td><td>LMC          </td></tr>\n",
       "<tr><td>VUT </td><td>Vanuatu                                             </td><td>EAS     </td><td>LMC          </td></tr>\n",
       "<tr><td>WLD </td><td>World                                               </td><td>        </td><td>             </td></tr>\n",
       "<tr><td>WSM </td><td>Samoa                                               </td><td>EAS     </td><td>LMC          </td></tr>\n",
       "<tr><td>XKX </td><td>Kosovo                                              </td><td>ECS     </td><td>UMC          </td></tr>\n",
       "<tr><td>YEM </td><td>Yemen, Rep.                                         </td><td>MEA     </td><td>LIC          </td></tr>\n",
       "<tr><td>ZAF </td><td>South Africa                                        </td><td>SSF     </td><td>UMC          </td></tr>\n",
       "<tr><td>ZMB </td><td>Zambia                                              </td><td>SSF     </td><td>LMC          </td></tr>\n",
       "<tr><td>ZWE </td><td>Zimbabwe                                            </td><td>SSF     </td><td>LMC          </td></tr>\n",
       "<tr><td>    </td><td>266 elements                                        </td><td>        </td><td>             </td></tr>\n",
       "</tbody>\n",
       "</table></div>"
      ],
      "text/plain": [
       "id    value                                                 region    incomeLevel\n",
       "----  ----------------------------------------------------  --------  -------------\n",
       "ABW   Aruba                                                 LCN       HIC\n",
       "AFE   Africa Eastern and Southern\n",
       "AFG   Afghanistan                                           SAS       LIC\n",
       "AFW   Africa Western and Central\n",
       "AGO   Angola                                                SSF       LMC\n",
       "ALB   Albania                                               ECS       UMC\n",
       "AND   Andorra                                               ECS       HIC\n",
       "ARB   Arab World\n",
       "ARE   United Arab Emirates                                  MEA       HIC\n",
       "ARG   Argentina                                             LCN       UMC\n",
       "ARM   Armenia                                               ECS       UMC\n",
       "ASM   American Samoa                                        EAS       HIC\n",
       "ATG   Antigua and Barbuda                                   LCN       HIC\n",
       "AUS   Australia                                             EAS       HIC\n",
       "AUT   Austria                                               ECS       HIC\n",
       "AZE   Azerbaijan                                            ECS       UMC\n",
       "BDI   Burundi                                               SSF       LIC\n",
       "BEL   Belgium                                               ECS       HIC\n",
       "BEN   Benin                                                 SSF       LMC\n",
       "BFA   Burkina Faso                                          SSF       LIC\n",
       "BGD   Bangladesh                                            SAS       LMC\n",
       "BGR   Bulgaria                                              ECS       UMC\n",
       "BHR   Bahrain                                               MEA       HIC\n",
       "BHS   Bahamas, The                                          LCN       HIC\n",
       "BIH   Bosnia and Herzegovina                                ECS       UMC\n",
       "BLR   Belarus                                               ECS       UMC\n",
       "BLZ   Belize                                                LCN       UMC\n",
       "BMU   Bermuda                                               NAC       HIC\n",
       "BOL   Bolivia                                               LCN       LMC\n",
       "BRA   Brazil                                                LCN       UMC\n",
       "BRB   Barbados                                              LCN       HIC\n",
       "BRN   Brunei Darussalam                                     EAS       HIC\n",
       "BTN   Bhutan                                                SAS       LMC\n",
       "BWA   Botswana                                              SSF       UMC\n",
       "CAF   Central African Republic                              SSF       LIC\n",
       "CAN   Canada                                                NAC       HIC\n",
       "CEB   Central Europe and the Baltics\n",
       "CHE   Switzerland                                           ECS       HIC\n",
       "CHI   Channel Islands                                       ECS       HIC\n",
       "CHL   Chile                                                 LCN       HIC\n",
       "CHN   China                                                 EAS       UMC\n",
       "CIV   Cote d'Ivoire                                         SSF       LMC\n",
       "CMR   Cameroon                                              SSF       LMC\n",
       "COD   Congo, Dem. Rep.                                      SSF       LIC\n",
       "COG   Congo, Rep.                                           SSF       LMC\n",
       "COL   Colombia                                              LCN       UMC\n",
       "COM   Comoros                                               SSF       LMC\n",
       "CPV   Cabo Verde                                            SSF       LMC\n",
       "CRI   Costa Rica                                            LCN       UMC\n",
       "CSS   Caribbean small states\n",
       "CUB   Cuba                                                  LCN       UMC\n",
       "CUW   Curacao                                               LCN       HIC\n",
       "CYM   Cayman Islands                                        LCN       HIC\n",
       "CYP   Cyprus                                                ECS       HIC\n",
       "CZE   Czechia                                               ECS       HIC\n",
       "DEU   Germany                                               ECS       HIC\n",
       "DJI   Djibouti                                              MEA       LMC\n",
       "DMA   Dominica                                              LCN       UMC\n",
       "DNK   Denmark                                               ECS       HIC\n",
       "DOM   Dominican Republic                                    LCN       UMC\n",
       "DZA   Algeria                                               MEA       LMC\n",
       "EAP   East Asia & Pacific (excluding high income)\n",
       "EAR   Early-demographic dividend\n",
       "EAS   East Asia & Pacific\n",
       "ECA   Europe & Central Asia (excluding high income)\n",
       "ECS   Europe & Central Asia\n",
       "ECU   Ecuador                                               LCN       UMC\n",
       "EGY   Egypt, Arab Rep.                                      MEA       LMC\n",
       "EMU   Euro area\n",
       "ERI   Eritrea                                               SSF       LIC\n",
       "ESP   Spain                                                 ECS       HIC\n",
       "EST   Estonia                                               ECS       HIC\n",
       "ETH   Ethiopia                                              SSF       LIC\n",
       "EUU   European Union\n",
       "FCS   Fragile and conflict affected situations\n",
       "FIN   Finland                                               ECS       HIC\n",
       "FJI   Fiji                                                  EAS       UMC\n",
       "FRA   France                                                ECS       HIC\n",
       "FRO   Faroe Islands                                         ECS       HIC\n",
       "FSM   Micronesia, Fed. Sts.                                 EAS       LMC\n",
       "GAB   Gabon                                                 SSF       UMC\n",
       "GBR   United Kingdom                                        ECS       HIC\n",
       "GEO   Georgia                                               ECS       UMC\n",
       "GHA   Ghana                                                 SSF       LMC\n",
       "GIB   Gibraltar                                             ECS       HIC\n",
       "GIN   Guinea                                                SSF       LMC\n",
       "GMB   Gambia, The                                           SSF       LIC\n",
       "GNB   Guinea-Bissau                                         SSF       LIC\n",
       "GNQ   Equatorial Guinea                                     SSF       UMC\n",
       "GRC   Greece                                                ECS       HIC\n",
       "GRD   Grenada                                               LCN       UMC\n",
       "GRL   Greenland                                             ECS       HIC\n",
       "GTM   Guatemala                                             LCN       UMC\n",
       "GUM   Guam                                                  EAS       HIC\n",
       "GUY   Guyana                                                LCN       HIC\n",
       "HIC   High income\n",
       "HKG   Hong Kong SAR, China                                  EAS       HIC\n",
       "HND   Honduras                                              LCN       LMC\n",
       "HPC   Heavily indebted poor countries (HIPC)\n",
       "HRV   Croatia                                               ECS       HIC\n",
       "HTI   Haiti                                                 LCN       LMC\n",
       "HUN   Hungary                                               ECS       HIC\n",
       "IBD   IBRD only\n",
       "IBT   IDA & IBRD total\n",
       "IDA   IDA total\n",
       "IDB   IDA blend\n",
       "IDN   Indonesia                                             EAS       UMC\n",
       "IDX   IDA only\n",
       "IMN   Isle of Man                                           ECS       HIC\n",
       "IND   India                                                 SAS       LMC\n",
       "INX   Not classified\n",
       "IRL   Ireland                                               ECS       HIC\n",
       "IRN   Iran, Islamic Rep.                                    MEA       LMC\n",
       "IRQ   Iraq                                                  MEA       UMC\n",
       "ISL   Iceland                                               ECS       HIC\n",
       "ISR   Israel                                                MEA       HIC\n",
       "ITA   Italy                                                 ECS       HIC\n",
       "JAM   Jamaica                                               LCN       UMC\n",
       "JOR   Jordan                                                MEA       LMC\n",
       "JPN   Japan                                                 EAS       HIC\n",
       "KAZ   Kazakhstan                                            ECS       UMC\n",
       "KEN   Kenya                                                 SSF       LMC\n",
       "KGZ   Kyrgyz Republic                                       ECS       LMC\n",
       "KHM   Cambodia                                              EAS       LMC\n",
       "KIR   Kiribati                                              EAS       LMC\n",
       "KNA   St. Kitts and Nevis                                   LCN       HIC\n",
       "KOR   Korea, Rep.                                           EAS       HIC\n",
       "KWT   Kuwait                                                MEA       HIC\n",
       "LAC   Latin America & Caribbean (excluding high income)\n",
       "LAO   Lao PDR                                               EAS       LMC\n",
       "LBN   Lebanon                                               MEA       LMC\n",
       "LBR   Liberia                                               SSF       LIC\n",
       "LBY   Libya                                                 MEA       UMC\n",
       "LCA   St. Lucia                                             LCN       UMC\n",
       "LCN   Latin America & Caribbean\n",
       "LDC   Least developed countries: UN classification\n",
       "LIC   Low income\n",
       "LIE   Liechtenstein                                         ECS       HIC\n",
       "LKA   Sri Lanka                                             SAS       LMC\n",
       "LMC   Lower middle income\n",
       "LMY   Low & middle income\n",
       "LSO   Lesotho                                               SSF       LMC\n",
       "LTE   Late-demographic dividend\n",
       "LTU   Lithuania                                             ECS       HIC\n",
       "LUX   Luxembourg                                            ECS       HIC\n",
       "LVA   Latvia                                                ECS       HIC\n",
       "MAC   Macao SAR, China                                      EAS       HIC\n",
       "MAF   St. Martin (French part)                              LCN       HIC\n",
       "MAR   Morocco                                               MEA       LMC\n",
       "MCO   Monaco                                                ECS       HIC\n",
       "MDA   Moldova                                               ECS       UMC\n",
       "MDG   Madagascar                                            SSF       LIC\n",
       "MDV   Maldives                                              SAS       UMC\n",
       "MEA   Middle East & North Africa\n",
       "MEX   Mexico                                                LCN       UMC\n",
       "MHL   Marshall Islands                                      EAS       UMC\n",
       "MIC   Middle income\n",
       "MKD   North Macedonia                                       ECS       UMC\n",
       "MLI   Mali                                                  SSF       LIC\n",
       "MLT   Malta                                                 MEA       HIC\n",
       "MMR   Myanmar                                               EAS       LMC\n",
       "MNA   Middle East & North Africa (excluding high income)\n",
       "MNE   Montenegro                                            ECS       UMC\n",
       "MNG   Mongolia                                              EAS       LMC\n",
       "MNP   Northern Mariana Islands                              EAS       HIC\n",
       "MOZ   Mozambique                                            SSF       LIC\n",
       "MRT   Mauritania                                            SSF       LMC\n",
       "MUS   Mauritius                                             SSF       UMC\n",
       "MWI   Malawi                                                SSF       LIC\n",
       "MYS   Malaysia                                              EAS       UMC\n",
       "NAC   North America\n",
       "NAM   Namibia                                               SSF       UMC\n",
       "NCL   New Caledonia                                         EAS       HIC\n",
       "NER   Niger                                                 SSF       LIC\n",
       "NGA   Nigeria                                               SSF       LMC\n",
       "NIC   Nicaragua                                             LCN       LMC\n",
       "NLD   Netherlands                                           ECS       HIC\n",
       "NOR   Norway                                                ECS       HIC\n",
       "NPL   Nepal                                                 SAS       LMC\n",
       "NRU   Nauru                                                 EAS       HIC\n",
       "NZL   New Zealand                                           EAS       HIC\n",
       "OED   OECD members\n",
       "OMN   Oman                                                  MEA       HIC\n",
       "OSS   Other small states\n",
       "PAK   Pakistan                                              SAS       LMC\n",
       "PAN   Panama                                                LCN       HIC\n",
       "PER   Peru                                                  LCN       UMC\n",
       "PHL   Philippines                                           EAS       LMC\n",
       "PLW   Palau                                                 EAS       UMC\n",
       "PNG   Papua New Guinea                                      EAS       LMC\n",
       "POL   Poland                                                ECS       HIC\n",
       "PRE   Pre-demographic dividend\n",
       "PRI   Puerto Rico                                           LCN       HIC\n",
       "PRK   Korea, Dem. People's Rep.                             EAS       LIC\n",
       "PRT   Portugal                                              ECS       HIC\n",
       "PRY   Paraguay                                              LCN       UMC\n",
       "PSE   West Bank and Gaza                                    MEA       UMC\n",
       "PSS   Pacific island small states\n",
       "PST   Post-demographic dividend\n",
       "PYF   French Polynesia                                      EAS       HIC\n",
       "QAT   Qatar                                                 MEA       HIC\n",
       "ROU   Romania                                               ECS       HIC\n",
       "RUS   Russian Federation                                    ECS       UMC\n",
       "RWA   Rwanda                                                SSF       LIC\n",
       "SAS   South Asia\n",
       "SAU   Saudi Arabia                                          MEA       HIC\n",
       "SDN   Sudan                                                 SSF       LIC\n",
       "SEN   Senegal                                               SSF       LMC\n",
       "SGP   Singapore                                             EAS       HIC\n",
       "SLB   Solomon Islands                                       EAS       LMC\n",
       "SLE   Sierra Leone                                          SSF       LIC\n",
       "SLV   El Salvador                                           LCN       UMC\n",
       "SMR   San Marino                                            ECS       HIC\n",
       "SOM   Somalia                                               SSF       LIC\n",
       "SRB   Serbia                                                ECS       UMC\n",
       "SSA   Sub-Saharan Africa (excluding high income)\n",
       "SSD   South Sudan                                           SSF       LIC\n",
       "SSF   Sub-Saharan Africa\n",
       "SST   Small states\n",
       "STP   Sao Tome and Principe                                 SSF       LMC\n",
       "SUR   Suriname                                              LCN       UMC\n",
       "SVK   Slovak Republic                                       ECS       HIC\n",
       "SVN   Slovenia                                              ECS       HIC\n",
       "SWE   Sweden                                                ECS       HIC\n",
       "SWZ   Eswatini                                              SSF       LMC\n",
       "SXM   Sint Maarten (Dutch part)                             LCN       HIC\n",
       "SYC   Seychelles                                            SSF       HIC\n",
       "SYR   Syrian Arab Republic                                  MEA       LIC\n",
       "TCA   Turks and Caicos Islands                              LCN       HIC\n",
       "TCD   Chad                                                  SSF       LIC\n",
       "TEA   East Asia & Pacific (IDA & IBRD countries)\n",
       "TEC   Europe & Central Asia (IDA & IBRD countries)\n",
       "TGO   Togo                                                  SSF       LIC\n",
       "THA   Thailand                                              EAS       UMC\n",
       "TJK   Tajikistan                                            ECS       LMC\n",
       "TKM   Turkmenistan                                          ECS       UMC\n",
       "TLA   Latin America & the Caribbean (IDA & IBRD countries)\n",
       "TLS   Timor-Leste                                           EAS       LMC\n",
       "TMN   Middle East & North Africa (IDA & IBRD countries)\n",
       "TON   Tonga                                                 EAS       UMC\n",
       "TSA   South Asia (IDA & IBRD)\n",
       "TSS   Sub-Saharan Africa (IDA & IBRD countries)\n",
       "TTO   Trinidad and Tobago                                   LCN       HIC\n",
       "TUN   Tunisia                                               MEA       LMC\n",
       "TUR   Turkiye                                               ECS       UMC\n",
       "TUV   Tuvalu                                                EAS       UMC\n",
       "TZA   Tanzania                                              SSF       LMC\n",
       "UGA   Uganda                                                SSF       LIC\n",
       "UKR   Ukraine                                               ECS       LMC\n",
       "UMC   Upper middle income\n",
       "URY   Uruguay                                               LCN       HIC\n",
       "USA   United States                                         NAC       HIC\n",
       "UZB   Uzbekistan                                            ECS       LMC\n",
       "VCT   St. Vincent and the Grenadines                        LCN       UMC\n",
       "VEN   Venezuela, RB                                         LCN       INX\n",
       "VGB   British Virgin Islands                                LCN       HIC\n",
       "VIR   Virgin Islands (U.S.)                                 LCN       HIC\n",
       "VNM   Viet Nam                                              EAS       LMC\n",
       "VUT   Vanuatu                                               EAS       LMC\n",
       "WLD   World\n",
       "WSM   Samoa                                                 EAS       LMC\n",
       "XKX   Kosovo                                                ECS       UMC\n",
       "YEM   Yemen, Rep.                                           MEA       LIC\n",
       "ZAF   South Africa                                          SSF       UMC\n",
       "ZMB   Zambia                                                SSF       LMC\n",
       "ZWE   Zimbabwe                                              SSF       LMC\n",
       "      266 elements"
      ]
     },
     "execution_count": 6,
     "metadata": {},
     "output_type": "execute_result"
    }
   ],
   "source": [
    "wb.economy.info() # list country ISO 3-letter codes, and names\n",
    "# includes supranational regions which is why it is labelled \"economy\" rather than \"country\""
   ]
  },
  {
   "cell_type": "code",
   "execution_count": 43,
   "id": "08fe17b1",
   "metadata": {},
   "outputs": [
    {
     "data": {
      "text/plain": [
       "[Country(alpha_2='AW', alpha_3='ABW', flag='🇦🇼', name='Aruba', numeric='533'),\n",
       " Country(alpha_2='AF', alpha_3='AFG', flag='🇦🇫', name='Afghanistan', numeric='004', official_name='Islamic Republic of Afghanistan'),\n",
       " Country(alpha_2='AO', alpha_3='AGO', flag='🇦🇴', name='Angola', numeric='024', official_name='Republic of Angola'),\n",
       " Country(alpha_2='AI', alpha_3='AIA', flag='🇦🇮', name='Anguilla', numeric='660'),\n",
       " Country(alpha_2='AX', alpha_3='ALA', flag='🇦🇽', name='Åland Islands', numeric='248')]"
      ]
     },
     "execution_count": 43,
     "metadata": {},
     "output_type": "execute_result"
    }
   ],
   "source": [
    "# need a list of countries, to match against WB and only include these\n",
    "\n",
    "import pycountry as cy\n",
    "list(cy.countries)[:5]  # pycountry.ExistingCountries"
   ]
  },
  {
   "cell_type": "code",
   "execution_count": 62,
   "id": "8b4d6711",
   "metadata": {},
   "outputs": [
    {
     "name": "stdout",
     "output_type": "stream",
     "text": [
      "249\n",
      "['ABW', 'AFG', 'AGO', 'AIA', 'ALA', 'ALB', 'AND', 'ARE', 'ARG']\n"
     ]
    }
   ],
   "source": [
    "# get 3-letter codes for all countries in pycountry\n",
    "\n",
    "countries = list(cy.countries)\n",
    "py_country_codes = [country.alpha_3 for country in countries]\n",
    "print(len(py_country_codes))\n",
    "print(py_country_codes[0:9])"
   ]
  },
  {
   "cell_type": "code",
   "execution_count": 63,
   "id": "69dc284a",
   "metadata": {},
   "outputs": [
    {
     "name": "stdout",
     "output_type": "stream",
     "text": [
      "266\n",
      "         SP.POP.TOTL\n",
      "economy             \n",
      "ABW         106445.0\n",
      "AFE      720839314.0\n",
      "AFG       41128771.0\n",
      "AFW      490330870.0\n",
      "AGO       35588987.0\n"
     ]
    }
   ],
   "source": [
    "# now to check country list in WB; first see how they appear\n",
    "df = wb.data.DataFrame('SP.POP.TOTL', time=2022)\n",
    "print(len(df))\n",
    "print(df.head())"
   ]
  },
  {
   "cell_type": "code",
   "execution_count": 64,
   "id": "88aab331",
   "metadata": {},
   "outputs": [
    {
     "name": "stdout",
     "output_type": "stream",
     "text": [
      "0    ABW\n",
      "1    AFE\n",
      "2    AFG\n",
      "3    AFW\n",
      "4    AGO\n",
      "Name: economy, dtype: object\n"
     ]
    }
   ],
   "source": [
    "# move WB countrycodes from index to column\n",
    "df.reset_index(inplace=True)\n",
    "print(df['economy'].head())"
   ]
  },
  {
   "cell_type": "code",
   "execution_count": 61,
   "id": "91b1e228",
   "metadata": {},
   "outputs": [
    {
     "name": "stdout",
     "output_type": "stream",
     "text": [
      "['ABW', 'AFE', 'AFG', 'AFW', 'AGO', 'ALB', 'AND', 'ARB', 'ARE', 'ARG']\n"
     ]
    }
   ],
   "source": [
    "# get codes for all regions & countries from WorldBank SP data into a list\n",
    "# aim is to separate those that coincide with pycountry \n",
    "# and visually inspect to check the remainder are regions.\n",
    "\n",
    "df = wb.data.DataFrame('SP.POP.TOTL', time=2022)\n",
    "df = df.reset_index()\n",
    "wb_country_codes = list(df.economy)\n",
    "# %pprint\n",
    "print(wb_country_codes[:10])"
   ]
  },
  {
   "cell_type": "code",
   "execution_count": 48,
   "id": "f14611f7",
   "metadata": {},
   "outputs": [
    {
     "data": {
      "text/plain": [
       "Index(['economy', 'SP.POP.TOTL'], dtype='object')"
      ]
     },
     "execution_count": 48,
     "metadata": {},
     "output_type": "execute_result"
    }
   ],
   "source": [
    "df.columns"
   ]
  },
  {
   "cell_type": "code",
   "execution_count": 81,
   "id": "108ef953",
   "metadata": {},
   "outputs": [
    {
     "name": "stdout",
     "output_type": "stream",
     "text": [
      "215\n"
     ]
    }
   ],
   "source": [
    "# WorldBank rows that are countries according to pycountry\n",
    "dfc = df[df['economy'].isin(py_country_codes)]\n",
    "print(len(dfc))"
   ]
  },
  {
   "cell_type": "code",
   "execution_count": 82,
   "id": "d8f57d64",
   "metadata": {},
   "outputs": [
    {
     "name": "stdout",
     "output_type": "stream",
     "text": [
      "  economy  SP.POP.TOTL\n",
      "0     ABW     106445.0\n",
      "2     AFG   41128771.0\n",
      "4     AGO   35588987.0\n"
     ]
    }
   ],
   "source": [
    "print(dfc.head(3))\n",
    "# gaps in index where noncountries were omitted"
   ]
  },
  {
   "cell_type": "code",
   "execution_count": 83,
   "id": "75d90c7e",
   "metadata": {},
   "outputs": [
    {
     "name": "stdout",
     "output_type": "stream",
     "text": [
      "51\n"
     ]
    }
   ],
   "source": [
    "# inverse (with tilde) to get WB rows that are NOT countries\n",
    "dfr = df[~df['economy'].isin(py_country_codes)]\n",
    "print(len(dfr))"
   ]
  },
  {
   "cell_type": "code",
   "execution_count": 80,
   "id": "852cd210",
   "metadata": {},
   "outputs": [
    {
     "name": "stdout",
     "output_type": "stream",
     "text": [
      "    economy   SP.POP.TOTL\n",
      "249     UMC  2.784208e+09\n",
      "259     WLD  7.951150e+09\n",
      "261     XKX  1.761985e+06\n"
     ]
    }
   ],
   "source": [
    "# view some of the 51 non-countries in WB data\n",
    "print(dfr.tail(3))"
   ]
  },
  {
   "cell_type": "code",
   "execution_count": null,
   "id": "d41b654e",
   "metadata": {},
   "outputs": [],
   "source": [
    "# e.g. WLD = World, and (not in tail view) EMU = Eurozone (European Monetary Union)"
   ]
  },
  {
   "cell_type": "code",
   "execution_count": null,
   "id": "3fe40fec",
   "metadata": {},
   "outputs": [],
   "source": [
    "# Curious: which countries in pycountry list are not in World Bank list?"
   ]
  },
  {
   "cell_type": "markdown",
   "id": "b729503a",
   "metadata": {},
   "source": [
    "## Names of countries"
   ]
  },
  {
   "cell_type": "code",
   "execution_count": 68,
   "id": "8b996ca0",
   "metadata": {},
   "outputs": [],
   "source": [
    "# now need names of economy/country for visual inspection\n",
    "# wbgapi doesn't seem to have these but another library does\n",
    "import wbdata as wbd"
   ]
  },
  {
   "cell_type": "code",
   "execution_count": 70,
   "id": "246d4954",
   "metadata": {},
   "outputs": [
    {
     "name": "stdout",
     "output_type": "stream",
     "text": [
      "<class 'wbdata.api.WBSearchResult'>\n",
      "id    name\n",
      "----  --------------------------------------------------------------------------------\n",
      "ABW   Aruba\n",
      "AFE   Africa Eastern and Southern\n",
      "AFG   Afghanistan\n",
      "AFR   Africa\n",
      "AFW   Africa Western and Central\n",
      "AGO   Angola\n",
      "ALB   Albania\n",
      "AND   Andorra\n",
      "ARB   Arab World\n",
      "ARE   United Arab Emirates\n",
      "ARG   Argentina\n",
      "ARM   Armenia\n",
      "ASM   American Samoa\n",
      "ATG   Antigua and Barbuda\n",
      "AUS   Australia\n",
      "AUT   Austria\n",
      "AZE   Azerbaijan\n",
      "BDI   Burundi\n",
      "BEA   East Asia & Pacific (IBRD-only countries)\n",
      "BEC   Europe & Central Asia (IBRD-only countries)\n",
      "BEL   Belgium\n",
      "BEN   Benin\n",
      "BFA   Burkina Faso\n",
      "BGD   Bangladesh\n",
      "BGR   Bulgaria\n",
      "BHI   IBRD countries classified as high income\n",
      "BHR   Bahrain\n",
      "BHS   Bahamas, The\n",
      "BIH   Bosnia and Herzegovina\n",
      "BLA   Latin America & the Caribbean (IBRD-only countries)\n",
      "BLR   Belarus\n",
      "BLZ   Belize\n",
      "BMN   Middle East & North Africa (IBRD-only countries)\n",
      "BMU   Bermuda\n",
      "BOL   Bolivia\n",
      "BRA   Brazil\n",
      "BRB   Barbados\n",
      "BRN   Brunei Darussalam\n",
      "BSS   Sub-Saharan Africa (IBRD-only countries)\n",
      "BTN   Bhutan\n",
      "BWA   Botswana\n",
      "CAA   Sub-Saharan Africa (IFC classification)\n",
      "CAF   Central African Republic\n",
      "CAN   Canada\n",
      "CEA   East Asia and the Pacific (IFC classification)\n",
      "CEB   Central Europe and the Baltics\n",
      "CEU   Europe and Central Asia (IFC classification)\n",
      "CHE   Switzerland\n",
      "CHI   Channel Islands\n",
      "CHL   Chile\n",
      "CHN   China\n",
      "CIV   Cote d'Ivoire\n",
      "CLA   Latin America and the Caribbean (IFC classification)\n",
      "CME   Middle East and North Africa (IFC classification)\n",
      "CMR   Cameroon\n",
      "COD   Congo, Dem. Rep.\n",
      "COG   Congo, Rep.\n",
      "COL   Colombia\n",
      "COM   Comoros\n",
      "CPV   Cabo Verde\n",
      "CRI   Costa Rica\n",
      "CSA   South Asia (IFC classification)\n",
      "CSS   Caribbean small states\n",
      "CUB   Cuba\n",
      "CUW   Curacao\n",
      "CYM   Cayman Islands\n",
      "CYP   Cyprus\n",
      "CZE   Czechia\n",
      "DEA   East Asia & Pacific (IDA-eligible countries)\n",
      "DEC   Europe & Central Asia (IDA-eligible countries)\n",
      "DEU   Germany\n",
      "DJI   Djibouti\n",
      "DLA   Latin America & the Caribbean (IDA-eligible countries)\n",
      "DMA   Dominica\n",
      "DMN   Middle East & North Africa (IDA-eligible countries)\n",
      "DNK   Denmark\n",
      "DNS   IDA countries in Sub-Saharan Africa not classified as fragile situations\n",
      "DOM   Dominican Republic\n",
      "DSA   South Asia (IDA-eligible countries)\n",
      "DSF   IDA countries in Sub-Saharan Africa classified as fragile situations\n",
      "DSS   Sub-Saharan Africa (IDA-eligible countries)\n",
      "DZA   Algeria\n",
      "EAP   East Asia & Pacific (excluding high income)\n",
      "EAR   Early-demographic dividend\n",
      "EAS   East Asia & Pacific\n",
      "ECA   Europe & Central Asia (excluding high income)\n",
      "ECS   Europe & Central Asia\n",
      "ECU   Ecuador\n",
      "EGY   Egypt, Arab Rep.\n",
      "EMU   Euro area\n",
      "ERI   Eritrea\n",
      "ESP   Spain\n",
      "EST   Estonia\n",
      "ETH   Ethiopia\n",
      "EUU   European Union\n",
      "FCS   Fragile and conflict affected situations\n",
      "FIN   Finland\n",
      "FJI   Fiji\n",
      "FRA   France\n",
      "FRO   Faroe Islands\n",
      "FSM   Micronesia, Fed. Sts.\n",
      "FXS   IDA countries classified as fragile situations, excluding Sub-Saharan Africa\n",
      "GAB   Gabon\n",
      "GBR   United Kingdom\n",
      "GEO   Georgia\n",
      "GHA   Ghana\n",
      "GIB   Gibraltar\n",
      "GIN   Guinea\n",
      "GMB   Gambia, The\n",
      "GNB   Guinea-Bissau\n",
      "GNQ   Equatorial Guinea\n",
      "GRC   Greece\n",
      "GRD   Grenada\n",
      "GRL   Greenland\n",
      "GTM   Guatemala\n",
      "GUM   Guam\n",
      "GUY   Guyana\n",
      "HIC   High income\n",
      "HKG   Hong Kong SAR, China\n",
      "HND   Honduras\n",
      "HPC   Heavily indebted poor countries (HIPC)\n",
      "HRV   Croatia\n",
      "HTI   Haiti\n",
      "HUN   Hungary\n",
      "IBB   IBRD, including blend\n",
      "IBD   IBRD only\n",
      "IBT   IDA & IBRD total\n",
      "IDA   IDA total\n",
      "IDB   IDA blend\n",
      "IDN   Indonesia\n",
      "IDX   IDA only\n",
      "IMN   Isle of Man\n",
      "IND   India\n",
      "INX   Not classified\n",
      "IRL   Ireland\n",
      "IRN   Iran, Islamic Rep.\n",
      "IRQ   Iraq\n",
      "ISL   Iceland\n",
      "ISR   Israel\n",
      "ITA   Italy\n",
      "JAM   Jamaica\n",
      "JOR   Jordan\n",
      "JPN   Japan\n",
      "KAZ   Kazakhstan\n",
      "KEN   Kenya\n",
      "KGZ   Kyrgyz Republic\n",
      "KHM   Cambodia\n",
      "KIR   Kiribati\n",
      "KNA   St. Kitts and Nevis\n",
      "KOR   Korea, Rep.\n",
      "KWT   Kuwait\n",
      "LAC   Latin America & Caribbean (excluding high income)\n",
      "LAO   Lao PDR\n",
      "LBN   Lebanon\n",
      "LBR   Liberia\n",
      "LBY   Libya\n",
      "LCA   St. Lucia\n",
      "LCN   Latin America & Caribbean\n",
      "LDC   Least developed countries: UN classification\n",
      "LIC   Low income\n",
      "LIE   Liechtenstein\n",
      "LKA   Sri Lanka\n",
      "LMC   Lower middle income\n",
      "LMY   Low & middle income\n",
      "LSO   Lesotho\n",
      "LTE   Late-demographic dividend\n",
      "LTU   Lithuania\n",
      "LUX   Luxembourg\n",
      "LVA   Latvia\n",
      "MAC   Macao SAR, China\n",
      "MAF   St. Martin (French part)\n",
      "MAR   Morocco\n",
      "MCO   Monaco\n",
      "MDA   Moldova\n",
      "MDE   Middle East (developing only)\n",
      "MDG   Madagascar\n",
      "MDV   Maldives\n",
      "MEA   Middle East & North Africa\n",
      "MEX   Mexico\n",
      "MHL   Marshall Islands\n",
      "MIC   Middle income\n",
      "MKD   North Macedonia\n",
      "MLI   Mali\n",
      "MLT   Malta\n",
      "MMR   Myanmar\n",
      "MNA   Middle East & North Africa (excluding high income)\n",
      "MNE   Montenegro\n",
      "MNG   Mongolia\n",
      "MNP   Northern Mariana Islands\n",
      "MOZ   Mozambique\n",
      "MRT   Mauritania\n",
      "MUS   Mauritius\n",
      "MWI   Malawi\n",
      "MYS   Malaysia\n",
      "NAC   North America\n",
      "NAF   North Africa\n",
      "NAM   Namibia\n",
      "NCL   New Caledonia\n",
      "NER   Niger\n",
      "NGA   Nigeria\n",
      "NIC   Nicaragua\n",
      "NLD   Netherlands\n",
      "NOR   Norway\n",
      "NPL   Nepal\n",
      "NRS   Non-resource rich Sub-Saharan Africa countries\n",
      "NRU   Nauru\n",
      "NXS   IDA countries not classified as fragile situations, excluding Sub-Saharan Africa\n",
      "NZL   New Zealand\n",
      "OED   OECD members\n",
      "OMN   Oman\n",
      "OSS   Other small states\n",
      "PAK   Pakistan\n",
      "PAN   Panama\n",
      "PER   Peru\n",
      "PHL   Philippines\n",
      "PLW   Palau\n",
      "PNG   Papua New Guinea\n",
      "POL   Poland\n",
      "PRE   Pre-demographic dividend\n",
      "PRI   Puerto Rico\n",
      "PRK   Korea, Dem. People's Rep.\n",
      "PRT   Portugal\n",
      "PRY   Paraguay\n",
      "PSE   West Bank and Gaza\n",
      "PSS   Pacific island small states\n",
      "PST   Post-demographic dividend\n",
      "PYF   French Polynesia\n",
      "QAT   Qatar\n",
      "ROU   Romania\n",
      "RRS   Resource rich Sub-Saharan Africa countries\n",
      "RUS   Russian Federation\n",
      "RWA   Rwanda\n",
      "SAS   South Asia\n",
      "SAU   Saudi Arabia\n",
      "SDN   Sudan\n",
      "SEN   Senegal\n",
      "SGP   Singapore\n",
      "SLB   Solomon Islands\n",
      "SLE   Sierra Leone\n",
      "SLV   El Salvador\n",
      "SMR   San Marino\n",
      "SOM   Somalia\n",
      "SRB   Serbia\n",
      "SSA   Sub-Saharan Africa (excluding high income)\n",
      "SSD   South Sudan\n",
      "SSF   Sub-Saharan Africa\n",
      "SST   Small states\n",
      "STP   Sao Tome and Principe\n",
      "SUR   Suriname\n",
      "SVK   Slovak Republic\n",
      "SVN   Slovenia\n",
      "SWE   Sweden\n",
      "SWZ   Eswatini\n",
      "SXM   Sint Maarten (Dutch part)\n",
      "SXZ   Sub-Saharan Africa excluding South Africa\n",
      "SYC   Seychelles\n",
      "SYR   Syrian Arab Republic\n",
      "TCA   Turks and Caicos Islands\n",
      "TCD   Chad\n",
      "TEA   East Asia & Pacific (IDA & IBRD countries)\n",
      "TEC   Europe & Central Asia (IDA & IBRD countries)\n",
      "TGO   Togo\n",
      "THA   Thailand\n",
      "TJK   Tajikistan\n",
      "TKM   Turkmenistan\n",
      "TLA   Latin America & the Caribbean (IDA & IBRD countries)\n",
      "TLS   Timor-Leste\n",
      "TMN   Middle East & North Africa (IDA & IBRD countries)\n",
      "TON   Tonga\n",
      "TSA   South Asia (IDA & IBRD)\n",
      "TSS   Sub-Saharan Africa (IDA & IBRD countries)\n",
      "TTO   Trinidad and Tobago\n",
      "TUN   Tunisia\n",
      "TUR   Turkiye\n",
      "TUV   Tuvalu\n",
      "TWN   Taiwan, China\n",
      "TZA   Tanzania\n",
      "UGA   Uganda\n",
      "UKR   Ukraine\n",
      "UMC   Upper middle income\n",
      "URY   Uruguay\n",
      "USA   United States\n",
      "UZB   Uzbekistan\n",
      "VCT   St. Vincent and the Grenadines\n",
      "VEN   Venezuela, RB\n",
      "VGB   British Virgin Islands\n",
      "VIR   Virgin Islands (U.S.)\n",
      "VNM   Viet Nam\n",
      "VUT   Vanuatu\n",
      "WLD   World\n",
      "WSM   Samoa\n",
      "XKX   Kosovo\n",
      "XZN   Sub-Saharan Africa excluding South Africa and Nigeria\n",
      "YEM   Yemen, Rep.\n",
      "ZAF   South Africa\n",
      "ZMB   Zambia\n",
      "ZWE   Zimbabwe\n"
     ]
    }
   ],
   "source": [
    "all_wb_economy = wbd.get_country()\n",
    "print(type(all_wb_economy))\n",
    "print(all_wb_economy)"
   ]
  },
  {
   "cell_type": "code",
   "execution_count": 51,
   "id": "901223f1",
   "metadata": {},
   "outputs": [
    {
     "name": "stdout",
     "output_type": "stream",
     "text": [
      "<class 'dict'>\n"
     ]
    }
   ],
   "source": [
    "# convert custom type into a Dictionary\n",
    "country_codes_mapping = {country['id']: country['name'] for country in all_wb_economy}\n",
    "print(type(country_codes_mapping))"
   ]
  },
  {
   "cell_type": "code",
   "execution_count": 71,
   "id": "e0989dab",
   "metadata": {},
   "outputs": [
    {
     "name": "stdout",
     "output_type": "stream",
     "text": [
      "ABW: Aruba\n",
      "AFE: Africa Eastern and Southern\n",
      "AFG: Afghanistan\n",
      "AFR: Africa\n",
      "AFW: Africa Western and Central\n"
     ]
    }
   ],
   "source": [
    "# View it - to avoid printing whole dictionary (250+ items) use iterator\n",
    "from itertools import islice\n",
    "for key, value in islice(country_codes_mapping.items(), 5):\n",
    "    print(f\"{key}: {value}\")"
   ]
  },
  {
   "cell_type": "code",
   "execution_count": 73,
   "id": "84f1a7c5",
   "metadata": {},
   "outputs": [
    {
     "data": {
      "text/html": [
       "<div>\n",
       "<style scoped>\n",
       "    .dataframe tbody tr th:only-of-type {\n",
       "        vertical-align: middle;\n",
       "    }\n",
       "\n",
       "    .dataframe tbody tr th {\n",
       "        vertical-align: top;\n",
       "    }\n",
       "\n",
       "    .dataframe thead th {\n",
       "        text-align: right;\n",
       "    }\n",
       "</style>\n",
       "<table border=\"1\" class=\"dataframe\">\n",
       "  <thead>\n",
       "    <tr style=\"text-align: right;\">\n",
       "      <th></th>\n",
       "      <th>economy</th>\n",
       "      <th>Name</th>\n",
       "    </tr>\n",
       "  </thead>\n",
       "  <tbody>\n",
       "    <tr>\n",
       "      <th>1</th>\n",
       "      <td>AFE</td>\n",
       "      <td>Africa Eastern and Southern</td>\n",
       "    </tr>\n",
       "    <tr>\n",
       "      <th>3</th>\n",
       "      <td>AFW</td>\n",
       "      <td>Africa Western and Central</td>\n",
       "    </tr>\n",
       "    <tr>\n",
       "      <th>7</th>\n",
       "      <td>ARB</td>\n",
       "      <td>Arab World</td>\n",
       "    </tr>\n",
       "    <tr>\n",
       "      <th>36</th>\n",
       "      <td>CEB</td>\n",
       "      <td>Central Europe and the Baltics</td>\n",
       "    </tr>\n",
       "    <tr>\n",
       "      <th>38</th>\n",
       "      <td>CHI</td>\n",
       "      <td>Channel Islands</td>\n",
       "    </tr>\n",
       "    <tr>\n",
       "      <th>49</th>\n",
       "      <td>CSS</td>\n",
       "      <td>Caribbean small states</td>\n",
       "    </tr>\n",
       "    <tr>\n",
       "      <th>61</th>\n",
       "      <td>EAP</td>\n",
       "      <td>East Asia &amp; Pacific (excluding high income)</td>\n",
       "    </tr>\n",
       "    <tr>\n",
       "      <th>62</th>\n",
       "      <td>EAR</td>\n",
       "      <td>Early-demographic dividend</td>\n",
       "    </tr>\n",
       "    <tr>\n",
       "      <th>63</th>\n",
       "      <td>EAS</td>\n",
       "      <td>East Asia &amp; Pacific</td>\n",
       "    </tr>\n",
       "    <tr>\n",
       "      <th>64</th>\n",
       "      <td>ECA</td>\n",
       "      <td>Europe &amp; Central Asia (excluding high income)</td>\n",
       "    </tr>\n",
       "    <tr>\n",
       "      <th>65</th>\n",
       "      <td>ECS</td>\n",
       "      <td>Europe &amp; Central Asia</td>\n",
       "    </tr>\n",
       "    <tr>\n",
       "      <th>68</th>\n",
       "      <td>EMU</td>\n",
       "      <td>Euro area</td>\n",
       "    </tr>\n",
       "    <tr>\n",
       "      <th>73</th>\n",
       "      <td>EUU</td>\n",
       "      <td>European Union</td>\n",
       "    </tr>\n",
       "    <tr>\n",
       "      <th>74</th>\n",
       "      <td>FCS</td>\n",
       "      <td>Fragile and conflict affected situations</td>\n",
       "    </tr>\n",
       "    <tr>\n",
       "      <th>95</th>\n",
       "      <td>HIC</td>\n",
       "      <td>High income</td>\n",
       "    </tr>\n",
       "    <tr>\n",
       "      <th>98</th>\n",
       "      <td>HPC</td>\n",
       "      <td>Heavily indebted poor countries (HIPC)</td>\n",
       "    </tr>\n",
       "    <tr>\n",
       "      <th>102</th>\n",
       "      <td>IBD</td>\n",
       "      <td>IBRD only</td>\n",
       "    </tr>\n",
       "    <tr>\n",
       "      <th>103</th>\n",
       "      <td>IBT</td>\n",
       "      <td>IDA &amp; IBRD total</td>\n",
       "    </tr>\n",
       "    <tr>\n",
       "      <th>104</th>\n",
       "      <td>IDA</td>\n",
       "      <td>IDA total</td>\n",
       "    </tr>\n",
       "    <tr>\n",
       "      <th>105</th>\n",
       "      <td>IDB</td>\n",
       "      <td>IDA blend</td>\n",
       "    </tr>\n",
       "    <tr>\n",
       "      <th>107</th>\n",
       "      <td>IDX</td>\n",
       "      <td>IDA only</td>\n",
       "    </tr>\n",
       "    <tr>\n",
       "      <th>110</th>\n",
       "      <td>INX</td>\n",
       "      <td>Not classified</td>\n",
       "    </tr>\n",
       "    <tr>\n",
       "      <th>128</th>\n",
       "      <td>LAC</td>\n",
       "      <td>Latin America &amp; Caribbean (excluding high income)</td>\n",
       "    </tr>\n",
       "    <tr>\n",
       "      <th>134</th>\n",
       "      <td>LCN</td>\n",
       "      <td>Latin America &amp; Caribbean</td>\n",
       "    </tr>\n",
       "    <tr>\n",
       "      <th>135</th>\n",
       "      <td>LDC</td>\n",
       "      <td>Least developed countries: UN classification</td>\n",
       "    </tr>\n",
       "    <tr>\n",
       "      <th>136</th>\n",
       "      <td>LIC</td>\n",
       "      <td>Low income</td>\n",
       "    </tr>\n",
       "    <tr>\n",
       "      <th>139</th>\n",
       "      <td>LMC</td>\n",
       "      <td>Lower middle income</td>\n",
       "    </tr>\n",
       "    <tr>\n",
       "      <th>140</th>\n",
       "      <td>LMY</td>\n",
       "      <td>Low &amp; middle income</td>\n",
       "    </tr>\n",
       "    <tr>\n",
       "      <th>142</th>\n",
       "      <td>LTE</td>\n",
       "      <td>Late-demographic dividend</td>\n",
       "    </tr>\n",
       "    <tr>\n",
       "      <th>153</th>\n",
       "      <td>MEA</td>\n",
       "      <td>Middle East &amp; North Africa</td>\n",
       "    </tr>\n",
       "    <tr>\n",
       "      <th>156</th>\n",
       "      <td>MIC</td>\n",
       "      <td>Middle income</td>\n",
       "    </tr>\n",
       "    <tr>\n",
       "      <th>161</th>\n",
       "      <td>MNA</td>\n",
       "      <td>Middle East &amp; North Africa (excluding high inc...</td>\n",
       "    </tr>\n",
       "    <tr>\n",
       "      <th>170</th>\n",
       "      <td>NAC</td>\n",
       "      <td>North America</td>\n",
       "    </tr>\n",
       "    <tr>\n",
       "      <th>181</th>\n",
       "      <td>OED</td>\n",
       "      <td>OECD members</td>\n",
       "    </tr>\n",
       "    <tr>\n",
       "      <th>183</th>\n",
       "      <td>OSS</td>\n",
       "      <td>Other small states</td>\n",
       "    </tr>\n",
       "    <tr>\n",
       "      <th>191</th>\n",
       "      <td>PRE</td>\n",
       "      <td>Pre-demographic dividend</td>\n",
       "    </tr>\n",
       "    <tr>\n",
       "      <th>197</th>\n",
       "      <td>PSS</td>\n",
       "      <td>Pacific island small states</td>\n",
       "    </tr>\n",
       "    <tr>\n",
       "      <th>198</th>\n",
       "      <td>PST</td>\n",
       "      <td>Post-demographic dividend</td>\n",
       "    </tr>\n",
       "    <tr>\n",
       "      <th>204</th>\n",
       "      <td>SAS</td>\n",
       "      <td>South Asia</td>\n",
       "    </tr>\n",
       "    <tr>\n",
       "      <th>215</th>\n",
       "      <td>SSA</td>\n",
       "      <td>Sub-Saharan Africa (excluding high income)</td>\n",
       "    </tr>\n",
       "    <tr>\n",
       "      <th>217</th>\n",
       "      <td>SSF</td>\n",
       "      <td>Sub-Saharan Africa</td>\n",
       "    </tr>\n",
       "    <tr>\n",
       "      <th>218</th>\n",
       "      <td>SST</td>\n",
       "      <td>Small states</td>\n",
       "    </tr>\n",
       "    <tr>\n",
       "      <th>230</th>\n",
       "      <td>TEA</td>\n",
       "      <td>East Asia &amp; Pacific (IDA &amp; IBRD countries)</td>\n",
       "    </tr>\n",
       "    <tr>\n",
       "      <th>231</th>\n",
       "      <td>TEC</td>\n",
       "      <td>Europe &amp; Central Asia (IDA &amp; IBRD countries)</td>\n",
       "    </tr>\n",
       "    <tr>\n",
       "      <th>236</th>\n",
       "      <td>TLA</td>\n",
       "      <td>Latin America &amp; the Caribbean (IDA &amp; IBRD coun...</td>\n",
       "    </tr>\n",
       "    <tr>\n",
       "      <th>238</th>\n",
       "      <td>TMN</td>\n",
       "      <td>Middle East &amp; North Africa (IDA &amp; IBRD countries)</td>\n",
       "    </tr>\n",
       "    <tr>\n",
       "      <th>240</th>\n",
       "      <td>TSA</td>\n",
       "      <td>South Asia (IDA &amp; IBRD)</td>\n",
       "    </tr>\n",
       "    <tr>\n",
       "      <th>241</th>\n",
       "      <td>TSS</td>\n",
       "      <td>Sub-Saharan Africa (IDA &amp; IBRD countries)</td>\n",
       "    </tr>\n",
       "    <tr>\n",
       "      <th>249</th>\n",
       "      <td>UMC</td>\n",
       "      <td>Upper middle income</td>\n",
       "    </tr>\n",
       "    <tr>\n",
       "      <th>259</th>\n",
       "      <td>WLD</td>\n",
       "      <td>World</td>\n",
       "    </tr>\n",
       "    <tr>\n",
       "      <th>261</th>\n",
       "      <td>XKX</td>\n",
       "      <td>Kosovo</td>\n",
       "    </tr>\n",
       "  </tbody>\n",
       "</table>\n",
       "</div>"
      ],
      "text/plain": [
       "    economy                                               Name\n",
       "1       AFE                        Africa Eastern and Southern\n",
       "3       AFW                         Africa Western and Central\n",
       "7       ARB                                         Arab World\n",
       "36      CEB                     Central Europe and the Baltics\n",
       "38      CHI                                    Channel Islands\n",
       "49      CSS                             Caribbean small states\n",
       "61      EAP        East Asia & Pacific (excluding high income)\n",
       "62      EAR                         Early-demographic dividend\n",
       "63      EAS                                East Asia & Pacific\n",
       "64      ECA      Europe & Central Asia (excluding high income)\n",
       "65      ECS                              Europe & Central Asia\n",
       "68      EMU                                          Euro area\n",
       "73      EUU                                     European Union\n",
       "74      FCS           Fragile and conflict affected situations\n",
       "95      HIC                                        High income\n",
       "98      HPC             Heavily indebted poor countries (HIPC)\n",
       "102     IBD                                          IBRD only\n",
       "103     IBT                                   IDA & IBRD total\n",
       "104     IDA                                          IDA total\n",
       "105     IDB                                          IDA blend\n",
       "107     IDX                                           IDA only\n",
       "110     INX                                     Not classified\n",
       "128     LAC  Latin America & Caribbean (excluding high income)\n",
       "134     LCN                         Latin America & Caribbean \n",
       "135     LDC       Least developed countries: UN classification\n",
       "136     LIC                                         Low income\n",
       "139     LMC                                Lower middle income\n",
       "140     LMY                                Low & middle income\n",
       "142     LTE                          Late-demographic dividend\n",
       "153     MEA                         Middle East & North Africa\n",
       "156     MIC                                      Middle income\n",
       "161     MNA  Middle East & North Africa (excluding high inc...\n",
       "170     NAC                                      North America\n",
       "181     OED                                       OECD members\n",
       "183     OSS                                 Other small states\n",
       "191     PRE                           Pre-demographic dividend\n",
       "197     PSS                        Pacific island small states\n",
       "198     PST                          Post-demographic dividend\n",
       "204     SAS                                         South Asia\n",
       "215     SSA         Sub-Saharan Africa (excluding high income)\n",
       "217     SSF                                Sub-Saharan Africa \n",
       "218     SST                                       Small states\n",
       "230     TEA         East Asia & Pacific (IDA & IBRD countries)\n",
       "231     TEC       Europe & Central Asia (IDA & IBRD countries)\n",
       "236     TLA  Latin America & the Caribbean (IDA & IBRD coun...\n",
       "238     TMN  Middle East & North Africa (IDA & IBRD countries)\n",
       "240     TSA                            South Asia (IDA & IBRD)\n",
       "241     TSS          Sub-Saharan Africa (IDA & IBRD countries)\n",
       "249     UMC                                Upper middle income\n",
       "259     WLD                                              World\n",
       "261     XKX                                             Kosovo"
      ]
     },
     "execution_count": 73,
     "metadata": {},
     "output_type": "execute_result"
    }
   ],
   "source": [
    "# add Name column to the dfr of suspected noncountries\n",
    "\n",
    "# prepare new column in a list\n",
    "country_names = []\n",
    "dfr_copy = dfr.copy()\n",
    "\n",
    "# from each country code look up associated name\n",
    "for code in dfr['economy']:\n",
    "    if code in country_codes_mapping:\n",
    "        country_names.append(country_codes_mapping[code])\n",
    "    else:\n",
    "        country_names.append(\"Not Found\")\n",
    "\n",
    "# Add the 'Country Name' column to the DataFrame\n",
    "dfr_copy.loc[:, 'Name'] = country_names\n",
    "dfr_copy[['economy', 'Name']]\n",
    "\n",
    "# show all because I want to see if any countries in there"
   ]
  },
  {
   "cell_type": "code",
   "execution_count": null,
   "id": "30d798b3",
   "metadata": {},
   "outputs": [],
   "source": [
    "# yes those are all noncountry aggregates\n",
    "# except Kosovo which is in World Bank data but not in pycountry list"
   ]
  },
  {
   "cell_type": "code",
   "execution_count": 88,
   "id": "d7df7816",
   "metadata": {},
   "outputs": [
    {
     "name": "stdout",
     "output_type": "stream",
     "text": [
      "  Code Country_name  Population\n",
      "0  ABW        Aruba    106445.0\n",
      "2  AFG  Afghanistan  41128771.0\n",
      "4  AGO       Angola  35588987.0\n",
      "5  ALB      Albania   2775634.0\n",
      "6  AND      Andorra     79824.0\n"
     ]
    }
   ],
   "source": [
    "dfcn = dfc.copy()\n",
    "country_names = []\n",
    "\n",
    "# Iterate through each country code and look up the corresponding country or region name\n",
    "for code in dfc['economy']:\n",
    "    if code in country_codes_mapping:\n",
    "        country_names.append(country_codes_mapping[code])\n",
    "    else:\n",
    "        country_names.append(\"Not Found\")\n",
    "\n",
    "# Add the 'Country Name' column to the DataFrame\n",
    "dfcn['Country_name'] = country_names\n",
    "\n",
    "dfcn.rename(columns={\"economy\": \"Code\", \"SP.POP.TOTL\": \"Population\"}, inplace=True)\n",
    "\n",
    "# rearrange columns order\n",
    "cols = ['Code', 'Country_name', 'Population']\n",
    "dfcn = dfcn[cols]\n",
    "\n",
    "# dfcn[['Code', 'Country_name']]\n",
    "print(dfcn.head())"
   ]
  },
  {
   "cell_type": "code",
   "execution_count": 89,
   "id": "cfd3ae9d",
   "metadata": {},
   "outputs": [
    {
     "name": "stdout",
     "output_type": "stream",
     "text": [
      "    Code        Country_name    Population\n",
      "109  IND               India  1.417173e+09\n",
      "40   CHN               China  1.412175e+09\n",
      "251  USA       United States  3.332876e+08\n",
      "106  IDN           Indonesia  2.755013e+08\n",
      "184  PAK            Pakistan  2.358249e+08\n",
      "174  NGA             Nigeria  2.185412e+08\n",
      "29   BRA              Brazil  2.153135e+08\n",
      "20   BGD          Bangladesh  1.711864e+08\n",
      "202  RUS  Russian Federation  1.435557e+08\n",
      "154  MEX              Mexico  1.275041e+08\n"
     ]
    }
   ],
   "source": [
    "pop_10 = dfcn.sort_values(\"Population\", ascending=False)[:10]\n",
    "print(pop_10)"
   ]
  },
  {
   "cell_type": "code",
   "execution_count": 93,
   "id": "17671902",
   "metadata": {},
   "outputs": [
    {
     "data": {
      "image/png": "[encoded data removed]",
      "text/plain": [
       "<Figure size 640x480 with 1 Axes>"
      ]
     },
     "metadata": {},
     "output_type": "display_data"
    }
   ],
   "source": [
    "plt.bar(x='Country_name', height='Population', data=pop_10)\n",
    "plt.xticks(rotation=90)\n",
    "plt.title(\"Ten most populated countries\")\n",
    "plt.ylabel(\"Population (billions)\")\n",
    "plt.show()"
   ]
  },
  {
   "cell_type": "code",
   "execution_count": 96,
   "id": "d34d843a",
   "metadata": {},
   "outputs": [
    {
     "data": {
      "application/vnd.plotly.v1+json": {
       "config": {
        "plotlyServerURL": "https://plot.ly"
       },
       "data": [
        {
         "alignmentgroup": "True",
         "customdata": [
          [
           "India"
          ],
          [
           "China"
          ],
          [
           "United States"
          ],
          [
           "Indonesia"
          ],
          [
           "Pakistan"
          ],
          [
           "Nigeria"
          ],
          [
           "Brazil"
          ],
          [
           "Bangladesh"
          ],
          [
           "Russian Federation"
          ],
          [
           "Mexico"
          ]
         ],
         "hovertemplate": "Code=%{x}<br>Population=%{y}<br>Country_name=%{customdata[0]}<extra></extra>",
         "legendgroup": "",
         "marker": {
          "color": "#636efa",
          "pattern": {
           "shape": ""
          }
         },
         "name": "",
         "offsetgroup": "",
         "orientation": "v",
         "showlegend": false,
         "textposition": "auto",
         "type": "bar",
         "x": [
          "IND",
          "CHN",
          "USA",
          "IDN",
          "PAK",
          "NGA",
          "BRA",
          "BGD",
          "RUS",
          "MEX"
         ],
         "xaxis": "x",
         "y": [
          1417173173,
          1412175000,
          333287557,
          275501339,
          235824862,
          218541212,
          215313498,
          171186372,
          143555736,
          127504125
         ],
         "yaxis": "y"
        }
       ],
       "layout": {
        "barmode": "relative",
        "legend": {
         "tracegroupgap": 0
        },
        "template": {
         "data": {
          "bar": [
           {
            "error_x": {
             "color": "#2a3f5f"
            },
            "error_y": {
             "color": "#2a3f5f"
            },
            "marker": {
             "line": {
              "color": "#E5ECF6",
              "width": 0.5
             },
             "pattern": {
              "fillmode": "overlay",
              "size": 10,
              "solidity": 0.2
             }
            },
            "type": "bar"
           }
          ],
          "barpolar": [
           {
            "marker": {
             "line": {
              "color": "#E5ECF6",
              "width": 0.5
             },
             "pattern": {
              "fillmode": "overlay",
              "size": 10,
              "solidity": 0.2
             }
            },
            "type": "barpolar"
           }
          ],
          "carpet": [
           {
            "aaxis": {
             "endlinecolor": "#2a3f5f",
             "gridcolor": "white",
             "linecolor": "white",
             "minorgridcolor": "white",
             "startlinecolor": "#2a3f5f"
            },
            "baxis": {
             "endlinecolor": "#2a3f5f",
             "gridcolor": "white",
             "linecolor": "white",
             "minorgridcolor": "white",
             "startlinecolor": "#2a3f5f"
            },
            "type": "carpet"
           }
          ],
          "choropleth": [
           {
            "colorbar": {
             "outlinewidth": 0,
             "ticks": ""
            },
            "type": "choropleth"
           }
          ],
          "contour": [
           {
            "colorbar": {
             "outlinewidth": 0,
             "ticks": ""
            },
            "colorscale": [
             [
              0,
              "#0d0887"
             ],
             [
              0.1111111111111111,
              "#46039f"
             ],
             [
              0.2222222222222222,
              "#7201a8"
             ],
             [
              0.3333333333333333,
              "#9c179e"
             ],
             [
              0.4444444444444444,
              "#bd3786"
             ],
             [
              0.5555555555555556,
              "#d8576b"
             ],
             [
              0.6666666666666666,
              "#ed7953"
             ],
             [
              0.7777777777777778,
              "#fb9f3a"
             ],
             [
              0.8888888888888888,
              "#fdca26"
             ],
             [
              1,
              "#f0f921"
             ]
            ],
            "type": "contour"
           }
          ],
          "contourcarpet": [
           {
            "colorbar": {
             "outlinewidth": 0,
             "ticks": ""
            },
            "type": "contourcarpet"
           }
          ],
          "heatmap": [
           {
            "colorbar": {
             "outlinewidth": 0,
             "ticks": ""
            },
            "colorscale": [
             [
              0,
              "#0d0887"
             ],
             [
              0.1111111111111111,
              "#46039f"
             ],
             [
              0.2222222222222222,
              "#7201a8"
             ],
             [
              0.3333333333333333,
              "#9c179e"
             ],
             [
              0.4444444444444444,
              "#bd3786"
             ],
             [
              0.5555555555555556,
              "#d8576b"
             ],
             [
              0.6666666666666666,
              "#ed7953"
             ],
             [
              0.7777777777777778,
              "#fb9f3a"
             ],
             [
              0.8888888888888888,
              "#fdca26"
             ],
             [
              1,
              "#f0f921"
             ]
            ],
            "type": "heatmap"
           }
          ],
          "heatmapgl": [
           {
            "colorbar": {
             "outlinewidth": 0,
             "ticks": ""
            },
            "colorscale": [
             [
              0,
              "#0d0887"
             ],
             [
              0.1111111111111111,
              "#46039f"
             ],
             [
              0.2222222222222222,
              "#7201a8"
             ],
             [
              0.3333333333333333,
              "#9c179e"
             ],
             [
              0.4444444444444444,
              "#bd3786"
             ],
             [
              0.5555555555555556,
              "#d8576b"
             ],
             [
              0.6666666666666666,
              "#ed7953"
             ],
             [
              0.7777777777777778,
              "#fb9f3a"
             ],
             [
              0.8888888888888888,
              "#fdca26"
             ],
             [
              1,
              "#f0f921"
             ]
            ],
            "type": "heatmapgl"
           }
          ],
          "histogram": [
           {
            "marker": {
             "pattern": {
              "fillmode": "overlay",
              "size": 10,
              "solidity": 0.2
             }
            },
            "type": "histogram"
           }
          ],
          "histogram2d": [
           {
            "colorbar": {
             "outlinewidth": 0,
             "ticks": ""
            },
            "colorscale": [
             [
              0,
              "#0d0887"
             ],
             [
              0.1111111111111111,
              "#46039f"
             ],
             [
              0.2222222222222222,
              "#7201a8"
             ],
             [
              0.3333333333333333,
              "#9c179e"
             ],
             [
              0.4444444444444444,
              "#bd3786"
             ],
             [
              0.5555555555555556,
              "#d8576b"
             ],
             [
              0.6666666666666666,
              "#ed7953"
             ],
             [
              0.7777777777777778,
              "#fb9f3a"
             ],
             [
              0.8888888888888888,
              "#fdca26"
             ],
             [
              1,
              "#f0f921"
             ]
            ],
            "type": "histogram2d"
           }
          ],
          "histogram2dcontour": [
           {
            "colorbar": {
             "outlinewidth": 0,
             "ticks": ""
            },
            "colorscale": [
             [
              0,
              "#0d0887"
             ],
             [
              0.1111111111111111,
              "#46039f"
             ],
             [
              0.2222222222222222,
              "#7201a8"
             ],
             [
              0.3333333333333333,
              "#9c179e"
             ],
             [
              0.4444444444444444,
              "#bd3786"
             ],
             [
              0.5555555555555556,
              "#d8576b"
             ],
             [
              0.6666666666666666,
              "#ed7953"
             ],
             [
              0.7777777777777778,
              "#fb9f3a"
             ],
             [
              0.8888888888888888,
              "#fdca26"
             ],
             [
              1,
              "#f0f921"
             ]
            ],
            "type": "histogram2dcontour"
           }
          ],
          "mesh3d": [
           {
            "colorbar": {
             "outlinewidth": 0,
             "ticks": ""
            },
            "type": "mesh3d"
           }
          ],
          "parcoords": [
           {
            "line": {
             "colorbar": {
              "outlinewidth": 0,
              "ticks": ""
             }
            },
            "type": "parcoords"
           }
          ],
          "pie": [
           {
            "automargin": true,
            "type": "pie"
           }
          ],
          "scatter": [
           {
            "fillpattern": {
             "fillmode": "overlay",
             "size": 10,
             "solidity": 0.2
            },
            "type": "scatter"
           }
          ],
          "scatter3d": [
           {
            "line": {
             "colorbar": {
              "outlinewidth": 0,
              "ticks": ""
             }
            },
            "marker": {
             "colorbar": {
              "outlinewidth": 0,
              "ticks": ""
             }
            },
            "type": "scatter3d"
           }
          ],
          "scattercarpet": [
           {
            "marker": {
             "colorbar": {
              "outlinewidth": 0,
              "ticks": ""
             }
            },
            "type": "scattercarpet"
           }
          ],
          "scattergeo": [
           {
            "marker": {
             "colorbar": {
              "outlinewidth": 0,
              "ticks": ""
             }
            },
            "type": "scattergeo"
           }
          ],
          "scattergl": [
           {
            "marker": {
             "colorbar": {
              "outlinewidth": 0,
              "ticks": ""
             }
            },
            "type": "scattergl"
           }
          ],
          "scattermapbox": [
           {
            "marker": {
             "colorbar": {
              "outlinewidth": 0,
              "ticks": ""
             }
            },
            "type": "scattermapbox"
           }
          ],
          "scatterpolar": [
           {
            "marker": {
             "colorbar": {
              "outlinewidth": 0,
              "ticks": ""
             }
            },
            "type": "scatterpolar"
           }
          ],
          "scatterpolargl": [
           {
            "marker": {
             "colorbar": {
              "outlinewidth": 0,
              "ticks": ""
             }
            },
            "type": "scatterpolargl"
           }
          ],
          "scatterternary": [
           {
            "marker": {
             "colorbar": {
              "outlinewidth": 0,
              "ticks": ""
             }
            },
            "type": "scatterternary"
           }
          ],
          "surface": [
           {
            "colorbar": {
             "outlinewidth": 0,
             "ticks": ""
            },
            "colorscale": [
             [
              0,
              "#0d0887"
             ],
             [
              0.1111111111111111,
              "#46039f"
             ],
             [
              0.2222222222222222,
              "#7201a8"
             ],
             [
              0.3333333333333333,
              "#9c179e"
             ],
             [
              0.4444444444444444,
              "#bd3786"
             ],
             [
              0.5555555555555556,
              "#d8576b"
             ],
             [
              0.6666666666666666,
              "#ed7953"
             ],
             [
              0.7777777777777778,
              "#fb9f3a"
             ],
             [
              0.8888888888888888,
              "#fdca26"
             ],
             [
              1,
              "#f0f921"
             ]
            ],
            "type": "surface"
           }
          ],
          "table": [
           {
            "cells": {
             "fill": {
              "color": "#EBF0F8"
             },
             "line": {
              "color": "white"
             }
            },
            "header": {
             "fill": {
              "color": "#C8D4E3"
             },
             "line": {
              "color": "white"
             }
            },
            "type": "table"
           }
          ]
         },
         "layout": {
          "annotationdefaults": {
           "arrowcolor": "#2a3f5f",
           "arrowhead": 0,
           "arrowwidth": 1
          },
          "autotypenumbers": "strict",
          "coloraxis": {
           "colorbar": {
            "outlinewidth": 0,
            "ticks": ""
           }
          },
          "colorscale": {
           "diverging": [
            [
             0,
             "#8e0152"
            ],
            [
             0.1,
             "#c51b7d"
            ],
            [
             0.2,
             "#de77ae"
            ],
            [
             0.3,
             "#f1b6da"
            ],
            [
             0.4,
             "#fde0ef"
            ],
            [
             0.5,
             "#f7f7f7"
            ],
            [
             0.6,
             "#e6f5d0"
            ],
            [
             0.7,
             "#b8e186"
            ],
            [
             0.8,
             "#7fbc41"
            ],
            [
             0.9,
             "#4d9221"
            ],
            [
             1,
             "#276419"
            ]
           ],
           "sequential": [
            [
             0,
             "#0d0887"
            ],
            [
             0.1111111111111111,
             "#46039f"
            ],
            [
             0.2222222222222222,
             "#7201a8"
            ],
            [
             0.3333333333333333,
             "#9c179e"
            ],
            [
             0.4444444444444444,
             "#bd3786"
            ],
            [
             0.5555555555555556,
             "#d8576b"
            ],
            [
             0.6666666666666666,
             "#ed7953"
            ],
            [
             0.7777777777777778,
             "#fb9f3a"
            ],
            [
             0.8888888888888888,
             "#fdca26"
            ],
            [
             1,
             "#f0f921"
            ]
           ],
           "sequentialminus": [
            [
             0,
             "#0d0887"
            ],
            [
             0.1111111111111111,
             "#46039f"
            ],
            [
             0.2222222222222222,
             "#7201a8"
            ],
            [
             0.3333333333333333,
             "#9c179e"
            ],
            [
             0.4444444444444444,
             "#bd3786"
            ],
            [
             0.5555555555555556,
             "#d8576b"
            ],
            [
             0.6666666666666666,
             "#ed7953"
            ],
            [
             0.7777777777777778,
             "#fb9f3a"
            ],
            [
             0.8888888888888888,
             "#fdca26"
            ],
            [
             1,
             "#f0f921"
            ]
           ]
          },
          "colorway": [
           "#636efa",
           "#EF553B",
           "#00cc96",
           "#ab63fa",
           "#FFA15A",
           "#19d3f3",
           "#FF6692",
           "#B6E880",
           "#FF97FF",
           "#FECB52"
          ],
          "font": {
           "color": "#2a3f5f"
          },
          "geo": {
           "bgcolor": "white",
           "lakecolor": "white",
           "landcolor": "#E5ECF6",
           "showlakes": true,
           "showland": true,
           "subunitcolor": "white"
          },
          "hoverlabel": {
           "align": "left"
          },
          "hovermode": "closest",
          "mapbox": {
           "style": "light"
          },
          "paper_bgcolor": "white",
          "plot_bgcolor": "#E5ECF6",
          "polar": {
           "angularaxis": {
            "gridcolor": "white",
            "linecolor": "white",
            "ticks": ""
           },
           "bgcolor": "#E5ECF6",
           "radialaxis": {
            "gridcolor": "white",
            "linecolor": "white",
            "ticks": ""
           }
          },
          "scene": {
           "xaxis": {
            "backgroundcolor": "#E5ECF6",
            "gridcolor": "white",
            "gridwidth": 2,
            "linecolor": "white",
            "showbackground": true,
            "ticks": "",
            "zerolinecolor": "white"
           },
           "yaxis": {
            "backgroundcolor": "#E5ECF6",
            "gridcolor": "white",
            "gridwidth": 2,
            "linecolor": "white",
            "showbackground": true,
            "ticks": "",
            "zerolinecolor": "white"
           },
           "zaxis": {
            "backgroundcolor": "#E5ECF6",
            "gridcolor": "white",
            "gridwidth": 2,
            "linecolor": "white",
            "showbackground": true,
            "ticks": "",
            "zerolinecolor": "white"
           }
          },
          "shapedefaults": {
           "line": {
            "color": "#2a3f5f"
           }
          },
          "ternary": {
           "aaxis": {
            "gridcolor": "white",
            "linecolor": "white",
            "ticks": ""
           },
           "baxis": {
            "gridcolor": "white",
            "linecolor": "white",
            "ticks": ""
           },
           "bgcolor": "#E5ECF6",
           "caxis": {
            "gridcolor": "white",
            "linecolor": "white",
            "ticks": ""
           }
          },
          "title": {
           "x": 0.05
          },
          "xaxis": {
           "automargin": true,
           "gridcolor": "white",
           "linecolor": "white",
           "ticks": "",
           "title": {
            "standoff": 15
           },
           "zerolinecolor": "white",
           "zerolinewidth": 2
          },
          "yaxis": {
           "automargin": true,
           "gridcolor": "white",
           "linecolor": "white",
           "ticks": "",
           "title": {
            "standoff": 15
           },
           "zerolinecolor": "white",
           "zerolinewidth": 2
          }
         }
        },
        "title": {
         "text": "Ten most populated countries"
        },
        "xaxis": {
         "anchor": "y",
         "domain": [
          0,
          1
         ],
         "title": {
          "text": "Country"
         }
        },
        "yaxis": {
         "anchor": "x",
         "domain": [
          0,
          1
         ],
         "title": {
          "text": "Population (billions)"
         }
        }
       }
      },
      "text/html": [
       "<div>                            <div id=\"b4edcf92-b238-48e0-9a22-9854f8b4514d\" class=\"plotly-graph-div\" style=\"height:525px; width:100%;\"></div>            <script type=\"text/javascript\">                require([\"plotly\"], function(Plotly) {                    window.PLOTLYENV=window.PLOTLYENV || {};                                    if (document.getElementById(\"b4edcf92-b238-48e0-9a22-9854f8b4514d\")) {                    Plotly.newPlot(                        \"b4edcf92-b238-48e0-9a22-9854f8b4514d\",                        [{\"alignmentgroup\":\"True\",\"customdata\":[[\"India\"],[\"China\"],[\"United States\"],[\"Indonesia\"],[\"Pakistan\"],[\"Nigeria\"],[\"Brazil\"],[\"Bangladesh\"],[\"Russian Federation\"],[\"Mexico\"]],\"hovertemplate\":\"Code=%{x}\\u003cbr\\u003ePopulation=%{y}\\u003cbr\\u003eCountry_name=%{customdata[0]}\\u003cextra\\u003e\\u003c\\u002fextra\\u003e\",\"legendgroup\":\"\",\"marker\":{\"color\":\"#636efa\",\"pattern\":{\"shape\":\"\"}},\"name\":\"\",\"offsetgroup\":\"\",\"orientation\":\"v\",\"showlegend\":false,\"textposition\":\"auto\",\"x\":[\"IND\",\"CHN\",\"USA\",\"IDN\",\"PAK\",\"NGA\",\"BRA\",\"BGD\",\"RUS\",\"MEX\"],\"xaxis\":\"x\",\"y\":[1417173173.0,1412175000.0,333287557.0,275501339.0,235824862.0,218541212.0,215313498.0,171186372.0,143555736.0,127504125.0],\"yaxis\":\"y\",\"type\":\"bar\"}],                        {\"template\":{\"data\":{\"histogram2dcontour\":[{\"type\":\"histogram2dcontour\",\"colorbar\":{\"outlinewidth\":0,\"ticks\":\"\"},\"colorscale\":[[0.0,\"#0d0887\"],[0.1111111111111111,\"#46039f\"],[0.2222222222222222,\"#7201a8\"],[0.3333333333333333,\"#9c179e\"],[0.4444444444444444,\"#bd3786\"],[0.5555555555555556,\"#d8576b\"],[0.6666666666666666,\"#ed7953\"],[0.7777777777777778,\"#fb9f3a\"],[0.8888888888888888,\"#fdca26\"],[1.0,\"#f0f921\"]]}],\"choropleth\":[{\"type\":\"choropleth\",\"colorbar\":{\"outlinewidth\":0,\"ticks\":\"\"}}],\"histogram2d\":[{\"type\":\"histogram2d\",\"colorbar\":{\"outlinewidth\":0,\"ticks\":\"\"},\"colorscale\":[[0.0,\"#0d0887\"],[0.1111111111111111,\"#46039f\"],[0.2222222222222222,\"#7201a8\"],[0.3333333333333333,\"#9c179e\"],[0.4444444444444444,\"#bd3786\"],[0.5555555555555556,\"#d8576b\"],[0.6666666666666666,\"#ed7953\"],[0.7777777777777778,\"#fb9f3a\"],[0.8888888888888888,\"#fdca26\"],[1.0,\"#f0f921\"]]}],\"heatmap\":[{\"type\":\"heatmap\",\"colorbar\":{\"outlinewidth\":0,\"ticks\":\"\"},\"colorscale\":[[0.0,\"#0d0887\"],[0.1111111111111111,\"#46039f\"],[0.2222222222222222,\"#7201a8\"],[0.3333333333333333,\"#9c179e\"],[0.4444444444444444,\"#bd3786\"],[0.5555555555555556,\"#d8576b\"],[0.6666666666666666,\"#ed7953\"],[0.7777777777777778,\"#fb9f3a\"],[0.8888888888888888,\"#fdca26\"],[1.0,\"#f0f921\"]]}],\"heatmapgl\":[{\"type\":\"heatmapgl\",\"colorbar\":{\"outlinewidth\":0,\"ticks\":\"\"},\"colorscale\":[[0.0,\"#0d0887\"],[0.1111111111111111,\"#46039f\"],[0.2222222222222222,\"#7201a8\"],[0.3333333333333333,\"#9c179e\"],[0.4444444444444444,\"#bd3786\"],[0.5555555555555556,\"#d8576b\"],[0.6666666666666666,\"#ed7953\"],[0.7777777777777778,\"#fb9f3a\"],[0.8888888888888888,\"#fdca26\"],[1.0,\"#f0f921\"]]}],\"contourcarpet\":[{\"type\":\"contourcarpet\",\"colorbar\":{\"outlinewidth\":0,\"ticks\":\"\"}}],\"contour\":[{\"type\":\"contour\",\"colorbar\":{\"outlinewidth\":0,\"ticks\":\"\"},\"colorscale\":[[0.0,\"#0d0887\"],[0.1111111111111111,\"#46039f\"],[0.2222222222222222,\"#7201a8\"],[0.3333333333333333,\"#9c179e\"],[0.4444444444444444,\"#bd3786\"],[0.5555555555555556,\"#d8576b\"],[0.6666666666666666,\"#ed7953\"],[0.7777777777777778,\"#fb9f3a\"],[0.8888888888888888,\"#fdca26\"],[1.0,\"#f0f921\"]]}],\"surface\":[{\"type\":\"surface\",\"colorbar\":{\"outlinewidth\":0,\"ticks\":\"\"},\"colorscale\":[[0.0,\"#0d0887\"],[0.1111111111111111,\"#46039f\"],[0.2222222222222222,\"#7201a8\"],[0.3333333333333333,\"#9c179e\"],[0.4444444444444444,\"#bd3786\"],[0.5555555555555556,\"#d8576b\"],[0.6666666666666666,\"#ed7953\"],[0.7777777777777778,\"#fb9f3a\"],[0.8888888888888888,\"#fdca26\"],[1.0,\"#f0f921\"]]}],\"mesh3d\":[{\"type\":\"mesh3d\",\"colorbar\":{\"outlinewidth\":0,\"ticks\":\"\"}}],\"scatter\":[{\"fillpattern\":{\"fillmode\":\"overlay\",\"size\":10,\"solidity\":0.2},\"type\":\"scatter\"}],\"parcoords\":[{\"type\":\"parcoords\",\"line\":{\"colorbar\":{\"outlinewidth\":0,\"ticks\":\"\"}}}],\"scatterpolargl\":[{\"type\":\"scatterpolargl\",\"marker\":{\"colorbar\":{\"outlinewidth\":0,\"ticks\":\"\"}}}],\"bar\":[{\"error_x\":{\"color\":\"#2a3f5f\"},\"error_y\":{\"color\":\"#2a3f5f\"},\"marker\":{\"line\":{\"color\":\"#E5ECF6\",\"width\":0.5},\"pattern\":{\"fillmode\":\"overlay\",\"size\":10,\"solidity\":0.2}},\"type\":\"bar\"}],\"scattergeo\":[{\"type\":\"scattergeo\",\"marker\":{\"colorbar\":{\"outlinewidth\":0,\"ticks\":\"\"}}}],\"scatterpolar\":[{\"type\":\"scatterpolar\",\"marker\":{\"colorbar\":{\"outlinewidth\":0,\"ticks\":\"\"}}}],\"histogram\":[{\"marker\":{\"pattern\":{\"fillmode\":\"overlay\",\"size\":10,\"solidity\":0.2}},\"type\":\"histogram\"}],\"scattergl\":[{\"type\":\"scattergl\",\"marker\":{\"colorbar\":{\"outlinewidth\":0,\"ticks\":\"\"}}}],\"scatter3d\":[{\"type\":\"scatter3d\",\"line\":{\"colorbar\":{\"outlinewidth\":0,\"ticks\":\"\"}},\"marker\":{\"colorbar\":{\"outlinewidth\":0,\"ticks\":\"\"}}}],\"scattermapbox\":[{\"type\":\"scattermapbox\",\"marker\":{\"colorbar\":{\"outlinewidth\":0,\"ticks\":\"\"}}}],\"scatterternary\":[{\"type\":\"scatterternary\",\"marker\":{\"colorbar\":{\"outlinewidth\":0,\"ticks\":\"\"}}}],\"scattercarpet\":[{\"type\":\"scattercarpet\",\"marker\":{\"colorbar\":{\"outlinewidth\":0,\"ticks\":\"\"}}}],\"carpet\":[{\"aaxis\":{\"endlinecolor\":\"#2a3f5f\",\"gridcolor\":\"white\",\"linecolor\":\"white\",\"minorgridcolor\":\"white\",\"startlinecolor\":\"#2a3f5f\"},\"baxis\":{\"endlinecolor\":\"#2a3f5f\",\"gridcolor\":\"white\",\"linecolor\":\"white\",\"minorgridcolor\":\"white\",\"startlinecolor\":\"#2a3f5f\"},\"type\":\"carpet\"}],\"table\":[{\"cells\":{\"fill\":{\"color\":\"#EBF0F8\"},\"line\":{\"color\":\"white\"}},\"header\":{\"fill\":{\"color\":\"#C8D4E3\"},\"line\":{\"color\":\"white\"}},\"type\":\"table\"}],\"barpolar\":[{\"marker\":{\"line\":{\"color\":\"#E5ECF6\",\"width\":0.5},\"pattern\":{\"fillmode\":\"overlay\",\"size\":10,\"solidity\":0.2}},\"type\":\"barpolar\"}],\"pie\":[{\"automargin\":true,\"type\":\"pie\"}]},\"layout\":{\"autotypenumbers\":\"strict\",\"colorway\":[\"#636efa\",\"#EF553B\",\"#00cc96\",\"#ab63fa\",\"#FFA15A\",\"#19d3f3\",\"#FF6692\",\"#B6E880\",\"#FF97FF\",\"#FECB52\"],\"font\":{\"color\":\"#2a3f5f\"},\"hovermode\":\"closest\",\"hoverlabel\":{\"align\":\"left\"},\"paper_bgcolor\":\"white\",\"plot_bgcolor\":\"#E5ECF6\",\"polar\":{\"bgcolor\":\"#E5ECF6\",\"angularaxis\":{\"gridcolor\":\"white\",\"linecolor\":\"white\",\"ticks\":\"\"},\"radialaxis\":{\"gridcolor\":\"white\",\"linecolor\":\"white\",\"ticks\":\"\"}},\"ternary\":{\"bgcolor\":\"#E5ECF6\",\"aaxis\":{\"gridcolor\":\"white\",\"linecolor\":\"white\",\"ticks\":\"\"},\"baxis\":{\"gridcolor\":\"white\",\"linecolor\":\"white\",\"ticks\":\"\"},\"caxis\":{\"gridcolor\":\"white\",\"linecolor\":\"white\",\"ticks\":\"\"}},\"coloraxis\":{\"colorbar\":{\"outlinewidth\":0,\"ticks\":\"\"}},\"colorscale\":{\"sequential\":[[0.0,\"#0d0887\"],[0.1111111111111111,\"#46039f\"],[0.2222222222222222,\"#7201a8\"],[0.3333333333333333,\"#9c179e\"],[0.4444444444444444,\"#bd3786\"],[0.5555555555555556,\"#d8576b\"],[0.6666666666666666,\"#ed7953\"],[0.7777777777777778,\"#fb9f3a\"],[0.8888888888888888,\"#fdca26\"],[1.0,\"#f0f921\"]],\"sequentialminus\":[[0.0,\"#0d0887\"],[0.1111111111111111,\"#46039f\"],[0.2222222222222222,\"#7201a8\"],[0.3333333333333333,\"#9c179e\"],[0.4444444444444444,\"#bd3786\"],[0.5555555555555556,\"#d8576b\"],[0.6666666666666666,\"#ed7953\"],[0.7777777777777778,\"#fb9f3a\"],[0.8888888888888888,\"#fdca26\"],[1.0,\"#f0f921\"]],\"diverging\":[[0,\"#8e0152\"],[0.1,\"#c51b7d\"],[0.2,\"#de77ae\"],[0.3,\"#f1b6da\"],[0.4,\"#fde0ef\"],[0.5,\"#f7f7f7\"],[0.6,\"#e6f5d0\"],[0.7,\"#b8e186\"],[0.8,\"#7fbc41\"],[0.9,\"#4d9221\"],[1,\"#276419\"]]},\"xaxis\":{\"gridcolor\":\"white\",\"linecolor\":\"white\",\"ticks\":\"\",\"title\":{\"standoff\":15},\"zerolinecolor\":\"white\",\"automargin\":true,\"zerolinewidth\":2},\"yaxis\":{\"gridcolor\":\"white\",\"linecolor\":\"white\",\"ticks\":\"\",\"title\":{\"standoff\":15},\"zerolinecolor\":\"white\",\"automargin\":true,\"zerolinewidth\":2},\"scene\":{\"xaxis\":{\"backgroundcolor\":\"#E5ECF6\",\"gridcolor\":\"white\",\"linecolor\":\"white\",\"showbackground\":true,\"ticks\":\"\",\"zerolinecolor\":\"white\",\"gridwidth\":2},\"yaxis\":{\"backgroundcolor\":\"#E5ECF6\",\"gridcolor\":\"white\",\"linecolor\":\"white\",\"showbackground\":true,\"ticks\":\"\",\"zerolinecolor\":\"white\",\"gridwidth\":2},\"zaxis\":{\"backgroundcolor\":\"#E5ECF6\",\"gridcolor\":\"white\",\"linecolor\":\"white\",\"showbackground\":true,\"ticks\":\"\",\"zerolinecolor\":\"white\",\"gridwidth\":2}},\"shapedefaults\":{\"line\":{\"color\":\"#2a3f5f\"}},\"annotationdefaults\":{\"arrowcolor\":\"#2a3f5f\",\"arrowhead\":0,\"arrowwidth\":1},\"geo\":{\"bgcolor\":\"white\",\"landcolor\":\"#E5ECF6\",\"subunitcolor\":\"white\",\"showland\":true,\"showlakes\":true,\"lakecolor\":\"white\"},\"title\":{\"x\":0.05},\"mapbox\":{\"style\":\"light\"}}},\"xaxis\":{\"anchor\":\"y\",\"domain\":[0.0,1.0],\"title\":{\"text\":\"Country\"}},\"yaxis\":{\"anchor\":\"x\",\"domain\":[0.0,1.0],\"title\":{\"text\":\"Population (billions)\"}},\"legend\":{\"tracegroupgap\":0},\"title\":{\"text\":\"Ten most populated countries\"},\"barmode\":\"relative\"},                        {\"responsive\": true}                    ).then(function(){\n",
       "                            \n",
       "var gd = document.getElementById('b4edcf92-b238-48e0-9a22-9854f8b4514d');\n",
       "var x = new MutationObserver(function (mutations, observer) {{\n",
       "        var display = window.getComputedStyle(gd).display;\n",
       "        if (!display || display === 'none') {{\n",
       "            console.log([gd, 'removed!']);\n",
       "            Plotly.purge(gd);\n",
       "            observer.disconnect();\n",
       "        }}\n",
       "}});\n",
       "\n",
       "// Listen for the removal of the full notebook cells\n",
       "var notebookContainer = gd.closest('#notebook-container');\n",
       "if (notebookContainer) {{\n",
       "    x.observe(notebookContainer, {childList: true});\n",
       "}}\n",
       "\n",
       "// Listen for the clearing of the current output cell\n",
       "var outputEl = gd.closest('.output');\n",
       "if (outputEl) {{\n",
       "    x.observe(outputEl, {childList: true});\n",
       "}}\n",
       "\n",
       "                        })                };                });            </script>        </div>"
      ]
     },
     "metadata": {},
     "output_type": "display_data"
    }
   ],
   "source": [
    "# Plotly, same data\n",
    "fig = px.bar(pop_10, x=\"Code\", y=\"Population\", hover_data=[\"Country_name\", \"Population\"], title=\"Ten most populated countries\", labels={'x': 'Country', 'y': 'Population (billions)'})\n",
    "fig.update_layout(xaxis_title='Country', yaxis_title='Population (billions)')\n",
    "fig.show()"
   ]
  },
  {
   "cell_type": "code",
   "execution_count": 97,
   "id": "aec5d35c",
   "metadata": {},
   "outputs": [],
   "source": [
    "dfcn.to_csv('pop_2022.csv', sep=',', index=False, encoding='utf-8')"
   ]
  },
  {
   "cell_type": "markdown",
   "id": "22c8d42c",
   "metadata": {},
   "source": [
    "## Time series for one country"
   ]
  },
  {
   "cell_type": "code",
   "execution_count": 107,
   "id": "1d5871b9",
   "metadata": {},
   "outputs": [
    {
     "data": {
      "text/html": [
       "<div>\n",
       "<style scoped>\n",
       "    .dataframe tbody tr th:only-of-type {\n",
       "        vertical-align: middle;\n",
       "    }\n",
       "\n",
       "    .dataframe tbody tr th {\n",
       "        vertical-align: top;\n",
       "    }\n",
       "\n",
       "    .dataframe thead th {\n",
       "        text-align: right;\n",
       "    }\n",
       "</style>\n",
       "<table border=\"1\" class=\"dataframe\">\n",
       "  <thead>\n",
       "    <tr style=\"text-align: right;\">\n",
       "      <th></th>\n",
       "      <th>YR1960</th>\n",
       "      <th>YR1965</th>\n",
       "      <th>YR1970</th>\n",
       "      <th>YR1975</th>\n",
       "      <th>YR1980</th>\n",
       "      <th>YR1985</th>\n",
       "      <th>YR1990</th>\n",
       "      <th>YR1995</th>\n",
       "      <th>YR2000</th>\n",
       "      <th>YR2005</th>\n",
       "      <th>YR2010</th>\n",
       "      <th>YR2015</th>\n",
       "      <th>YR2020</th>\n",
       "    </tr>\n",
       "    <tr>\n",
       "      <th>economy</th>\n",
       "      <th></th>\n",
       "      <th></th>\n",
       "      <th></th>\n",
       "      <th></th>\n",
       "      <th></th>\n",
       "      <th></th>\n",
       "      <th></th>\n",
       "      <th></th>\n",
       "      <th></th>\n",
       "      <th></th>\n",
       "      <th></th>\n",
       "      <th></th>\n",
       "      <th></th>\n",
       "    </tr>\n",
       "  </thead>\n",
       "  <tbody>\n",
       "    <tr>\n",
       "      <th>GBR</th>\n",
       "      <td>52400000.0</td>\n",
       "      <td>54348050.0</td>\n",
       "      <td>55663250.0</td>\n",
       "      <td>56225800.0</td>\n",
       "      <td>56314216.0</td>\n",
       "      <td>56550268.0</td>\n",
       "      <td>57247586.0</td>\n",
       "      <td>58019030.0</td>\n",
       "      <td>58892514.0</td>\n",
       "      <td>60401206.0</td>\n",
       "      <td>62766365.0</td>\n",
       "      <td>65116219.0</td>\n",
       "      <td>67081234.0</td>\n",
       "    </tr>\n",
       "  </tbody>\n",
       "</table>\n",
       "</div>"
      ],
      "text/plain": [
       "             YR1960      YR1965      YR1970      YR1975      YR1980  \\\n",
       "economy                                                               \n",
       "GBR      52400000.0  54348050.0  55663250.0  56225800.0  56314216.0   \n",
       "\n",
       "             YR1985      YR1990      YR1995      YR2000      YR2005  \\\n",
       "economy                                                               \n",
       "GBR      56550268.0  57247586.0  58019030.0  58892514.0  60401206.0   \n",
       "\n",
       "             YR2010      YR2015      YR2020  \n",
       "economy                                      \n",
       "GBR      62766365.0  65116219.0  67081234.0  "
      ]
     },
     "execution_count": 107,
     "metadata": {},
     "output_type": "execute_result"
    }
   ],
   "source": [
    "dfgb = wb.data.DataFrame('SP.POP.TOTL', 'GBR', time=range(1960, 2023, 5))\n",
    "dfgb"
   ]
  },
  {
   "cell_type": "code",
   "execution_count": 108,
   "id": "cc21c14a",
   "metadata": {},
   "outputs": [
    {
     "data": {
      "text/html": [
       "<div>\n",
       "<style scoped>\n",
       "    .dataframe tbody tr th:only-of-type {\n",
       "        vertical-align: middle;\n",
       "    }\n",
       "\n",
       "    .dataframe tbody tr th {\n",
       "        vertical-align: top;\n",
       "    }\n",
       "\n",
       "    .dataframe thead th {\n",
       "        text-align: right;\n",
       "    }\n",
       "</style>\n",
       "<table border=\"1\" class=\"dataframe\">\n",
       "  <thead>\n",
       "    <tr style=\"text-align: right;\">\n",
       "      <th></th>\n",
       "      <th>economy</th>\n",
       "      <th>YR1960</th>\n",
       "      <th>YR1965</th>\n",
       "      <th>YR1970</th>\n",
       "      <th>YR1975</th>\n",
       "      <th>YR1980</th>\n",
       "      <th>YR1985</th>\n",
       "      <th>YR1990</th>\n",
       "      <th>YR1995</th>\n",
       "      <th>YR2000</th>\n",
       "      <th>YR2005</th>\n",
       "      <th>YR2010</th>\n",
       "      <th>YR2015</th>\n",
       "      <th>YR2020</th>\n",
       "    </tr>\n",
       "  </thead>\n",
       "  <tbody>\n",
       "    <tr>\n",
       "      <th>0</th>\n",
       "      <td>GBR</td>\n",
       "      <td>52400000.0</td>\n",
       "      <td>54348050.0</td>\n",
       "      <td>55663250.0</td>\n",
       "      <td>56225800.0</td>\n",
       "      <td>56314216.0</td>\n",
       "      <td>56550268.0</td>\n",
       "      <td>57247586.0</td>\n",
       "      <td>58019030.0</td>\n",
       "      <td>58892514.0</td>\n",
       "      <td>60401206.0</td>\n",
       "      <td>62766365.0</td>\n",
       "      <td>65116219.0</td>\n",
       "      <td>67081234.0</td>\n",
       "    </tr>\n",
       "  </tbody>\n",
       "</table>\n",
       "</div>"
      ],
      "text/plain": [
       "  economy      YR1960      YR1965      YR1970      YR1975      YR1980  \\\n",
       "0     GBR  52400000.0  54348050.0  55663250.0  56225800.0  56314216.0   \n",
       "\n",
       "       YR1985      YR1990      YR1995      YR2000      YR2005      YR2010  \\\n",
       "0  56550268.0  57247586.0  58019030.0  58892514.0  60401206.0  62766365.0   \n",
       "\n",
       "       YR2015      YR2020  \n",
       "0  65116219.0  67081234.0  "
      ]
     },
     "execution_count": 108,
     "metadata": {},
     "output_type": "execute_result"
    }
   ],
   "source": [
    "# prepare for melt() by making index into a column\n",
    "dfgb.reset_index(inplace=True)\n",
    "dfgb"
   ]
  },
  {
   "cell_type": "code",
   "execution_count": 109,
   "id": "da193727",
   "metadata": {},
   "outputs": [
    {
     "data": {
      "text/html": [
       "<div>\n",
       "<style scoped>\n",
       "    .dataframe tbody tr th:only-of-type {\n",
       "        vertical-align: middle;\n",
       "    }\n",
       "\n",
       "    .dataframe tbody tr th {\n",
       "        vertical-align: top;\n",
       "    }\n",
       "\n",
       "    .dataframe thead th {\n",
       "        text-align: right;\n",
       "    }\n",
       "</style>\n",
       "<table border=\"1\" class=\"dataframe\">\n",
       "  <thead>\n",
       "    <tr style=\"text-align: right;\">\n",
       "      <th></th>\n",
       "      <th>economy</th>\n",
       "      <th>year</th>\n",
       "      <th>population</th>\n",
       "    </tr>\n",
       "  </thead>\n",
       "  <tbody>\n",
       "    <tr>\n",
       "      <th>0</th>\n",
       "      <td>GBR</td>\n",
       "      <td>YR1960</td>\n",
       "      <td>52400000.0</td>\n",
       "    </tr>\n",
       "    <tr>\n",
       "      <th>1</th>\n",
       "      <td>GBR</td>\n",
       "      <td>YR1965</td>\n",
       "      <td>54348050.0</td>\n",
       "    </tr>\n",
       "    <tr>\n",
       "      <th>2</th>\n",
       "      <td>GBR</td>\n",
       "      <td>YR1970</td>\n",
       "      <td>55663250.0</td>\n",
       "    </tr>\n",
       "    <tr>\n",
       "      <th>3</th>\n",
       "      <td>GBR</td>\n",
       "      <td>YR1975</td>\n",
       "      <td>56225800.0</td>\n",
       "    </tr>\n",
       "    <tr>\n",
       "      <th>4</th>\n",
       "      <td>GBR</td>\n",
       "      <td>YR1980</td>\n",
       "      <td>56314216.0</td>\n",
       "    </tr>\n",
       "    <tr>\n",
       "      <th>5</th>\n",
       "      <td>GBR</td>\n",
       "      <td>YR1985</td>\n",
       "      <td>56550268.0</td>\n",
       "    </tr>\n",
       "    <tr>\n",
       "      <th>6</th>\n",
       "      <td>GBR</td>\n",
       "      <td>YR1990</td>\n",
       "      <td>57247586.0</td>\n",
       "    </tr>\n",
       "    <tr>\n",
       "      <th>7</th>\n",
       "      <td>GBR</td>\n",
       "      <td>YR1995</td>\n",
       "      <td>58019030.0</td>\n",
       "    </tr>\n",
       "    <tr>\n",
       "      <th>8</th>\n",
       "      <td>GBR</td>\n",
       "      <td>YR2000</td>\n",
       "      <td>58892514.0</td>\n",
       "    </tr>\n",
       "    <tr>\n",
       "      <th>9</th>\n",
       "      <td>GBR</td>\n",
       "      <td>YR2005</td>\n",
       "      <td>60401206.0</td>\n",
       "    </tr>\n",
       "    <tr>\n",
       "      <th>10</th>\n",
       "      <td>GBR</td>\n",
       "      <td>YR2010</td>\n",
       "      <td>62766365.0</td>\n",
       "    </tr>\n",
       "    <tr>\n",
       "      <th>11</th>\n",
       "      <td>GBR</td>\n",
       "      <td>YR2015</td>\n",
       "      <td>65116219.0</td>\n",
       "    </tr>\n",
       "    <tr>\n",
       "      <th>12</th>\n",
       "      <td>GBR</td>\n",
       "      <td>YR2020</td>\n",
       "      <td>67081234.0</td>\n",
       "    </tr>\n",
       "  </tbody>\n",
       "</table>\n",
       "</div>"
      ],
      "text/plain": [
       "   economy    year  population\n",
       "0      GBR  YR1960  52400000.0\n",
       "1      GBR  YR1965  54348050.0\n",
       "2      GBR  YR1970  55663250.0\n",
       "3      GBR  YR1975  56225800.0\n",
       "4      GBR  YR1980  56314216.0\n",
       "5      GBR  YR1985  56550268.0\n",
       "6      GBR  YR1990  57247586.0\n",
       "7      GBR  YR1995  58019030.0\n",
       "8      GBR  YR2000  58892514.0\n",
       "9      GBR  YR2005  60401206.0\n",
       "10     GBR  YR2010  62766365.0\n",
       "11     GBR  YR2015  65116219.0\n",
       "12     GBR  YR2020  67081234.0"
      ]
     },
     "execution_count": 109,
     "metadata": {},
     "output_type": "execute_result"
    }
   ],
   "source": [
    "gb_long = pd.melt(dfgb, id_vars='economy', var_name='year', value_name='population')\n",
    "gb_long\n",
    "# Plotting the bar chart\n",
    "# df_long.plot(x='Year', y='Value', kind='bar', legend=False, color='skyblue')"
   ]
  },
  {
   "cell_type": "code",
   "execution_count": 114,
   "id": "29198bd6",
   "metadata": {},
   "outputs": [
    {
     "data": {
      "application/vnd.plotly.v1+json": {
       "config": {
        "plotlyServerURL": "https://plot.ly"
       },
       "data": [
        {
         "alignmentgroup": "True",
         "hovertemplate": "year=%{x}<br>population=%{y}<extra></extra>",
         "legendgroup": "",
         "marker": {
          "color": "#636efa",
          "pattern": {
           "shape": ""
          }
         },
         "name": "",
         "offsetgroup": "",
         "orientation": "v",
         "showlegend": false,
         "textposition": "auto",
         "type": "bar",
         "x": [
          "YR1960",
          "YR1965",
          "YR1970",
          "YR1975",
          "YR1980",
          "YR1985",
          "YR1990",
          "YR1995",
          "YR2000",
          "YR2005",
          "YR2010",
          "YR2015",
          "YR2020"
         ],
         "xaxis": "x",
         "y": [
          52400000,
          54348050,
          55663250,
          56225800,
          56314216,
          56550268,
          57247586,
          58019030,
          58892514,
          60401206,
          62766365,
          65116219,
          67081234
         ],
         "yaxis": "y"
        }
       ],
       "layout": {
        "barmode": "relative",
        "legend": {
         "tracegroupgap": 0
        },
        "template": {
         "data": {
          "bar": [
           {
            "error_x": {
             "color": "#2a3f5f"
            },
            "error_y": {
             "color": "#2a3f5f"
            },
            "marker": {
             "line": {
              "color": "#E5ECF6",
              "width": 0.5
             },
             "pattern": {
              "fillmode": "overlay",
              "size": 10,
              "solidity": 0.2
             }
            },
            "type": "bar"
           }
          ],
          "barpolar": [
           {
            "marker": {
             "line": {
              "color": "#E5ECF6",
              "width": 0.5
             },
             "pattern": {
              "fillmode": "overlay",
              "size": 10,
              "solidity": 0.2
             }
            },
            "type": "barpolar"
           }
          ],
          "carpet": [
           {
            "aaxis": {
             "endlinecolor": "#2a3f5f",
             "gridcolor": "white",
             "linecolor": "white",
             "minorgridcolor": "white",
             "startlinecolor": "#2a3f5f"
            },
            "baxis": {
             "endlinecolor": "#2a3f5f",
             "gridcolor": "white",
             "linecolor": "white",
             "minorgridcolor": "white",
             "startlinecolor": "#2a3f5f"
            },
            "type": "carpet"
           }
          ],
          "choropleth": [
           {
            "colorbar": {
             "outlinewidth": 0,
             "ticks": ""
            },
            "type": "choropleth"
           }
          ],
          "contour": [
           {
            "colorbar": {
             "outlinewidth": 0,
             "ticks": ""
            },
            "colorscale": [
             [
              0,
              "#0d0887"
             ],
             [
              0.1111111111111111,
              "#46039f"
             ],
             [
              0.2222222222222222,
              "#7201a8"
             ],
             [
              0.3333333333333333,
              "#9c179e"
             ],
             [
              0.4444444444444444,
              "#bd3786"
             ],
             [
              0.5555555555555556,
              "#d8576b"
             ],
             [
              0.6666666666666666,
              "#ed7953"
             ],
             [
              0.7777777777777778,
              "#fb9f3a"
             ],
             [
              0.8888888888888888,
              "#fdca26"
             ],
             [
              1,
              "#f0f921"
             ]
            ],
            "type": "contour"
           }
          ],
          "contourcarpet": [
           {
            "colorbar": {
             "outlinewidth": 0,
             "ticks": ""
            },
            "type": "contourcarpet"
           }
          ],
          "heatmap": [
           {
            "colorbar": {
             "outlinewidth": 0,
             "ticks": ""
            },
            "colorscale": [
             [
              0,
              "#0d0887"
             ],
             [
              0.1111111111111111,
              "#46039f"
             ],
             [
              0.2222222222222222,
              "#7201a8"
             ],
             [
              0.3333333333333333,
              "#9c179e"
             ],
             [
              0.4444444444444444,
              "#bd3786"
             ],
             [
              0.5555555555555556,
              "#d8576b"
             ],
             [
              0.6666666666666666,
              "#ed7953"
             ],
             [
              0.7777777777777778,
              "#fb9f3a"
             ],
             [
              0.8888888888888888,
              "#fdca26"
             ],
             [
              1,
              "#f0f921"
             ]
            ],
            "type": "heatmap"
           }
          ],
          "heatmapgl": [
           {
            "colorbar": {
             "outlinewidth": 0,
             "ticks": ""
            },
            "colorscale": [
             [
              0,
              "#0d0887"
             ],
             [
              0.1111111111111111,
              "#46039f"
             ],
             [
              0.2222222222222222,
              "#7201a8"
             ],
             [
              0.3333333333333333,
              "#9c179e"
             ],
             [
              0.4444444444444444,
              "#bd3786"
             ],
             [
              0.5555555555555556,
              "#d8576b"
             ],
             [
              0.6666666666666666,
              "#ed7953"
             ],
             [
              0.7777777777777778,
              "#fb9f3a"
             ],
             [
              0.8888888888888888,
              "#fdca26"
             ],
             [
              1,
              "#f0f921"
             ]
            ],
            "type": "heatmapgl"
           }
          ],
          "histogram": [
           {
            "marker": {
             "pattern": {
              "fillmode": "overlay",
              "size": 10,
              "solidity": 0.2
             }
            },
            "type": "histogram"
           }
          ],
          "histogram2d": [
           {
            "colorbar": {
             "outlinewidth": 0,
             "ticks": ""
            },
            "colorscale": [
             [
              0,
              "#0d0887"
             ],
             [
              0.1111111111111111,
              "#46039f"
             ],
             [
              0.2222222222222222,
              "#7201a8"
             ],
             [
              0.3333333333333333,
              "#9c179e"
             ],
             [
              0.4444444444444444,
              "#bd3786"
             ],
             [
              0.5555555555555556,
              "#d8576b"
             ],
             [
              0.6666666666666666,
              "#ed7953"
             ],
             [
              0.7777777777777778,
              "#fb9f3a"
             ],
             [
              0.8888888888888888,
              "#fdca26"
             ],
             [
              1,
              "#f0f921"
             ]
            ],
            "type": "histogram2d"
           }
          ],
          "histogram2dcontour": [
           {
            "colorbar": {
             "outlinewidth": 0,
             "ticks": ""
            },
            "colorscale": [
             [
              0,
              "#0d0887"
             ],
             [
              0.1111111111111111,
              "#46039f"
             ],
             [
              0.2222222222222222,
              "#7201a8"
             ],
             [
              0.3333333333333333,
              "#9c179e"
             ],
             [
              0.4444444444444444,
              "#bd3786"
             ],
             [
              0.5555555555555556,
              "#d8576b"
             ],
             [
              0.6666666666666666,
              "#ed7953"
             ],
             [
              0.7777777777777778,
              "#fb9f3a"
             ],
             [
              0.8888888888888888,
              "#fdca26"
             ],
             [
              1,
              "#f0f921"
             ]
            ],
            "type": "histogram2dcontour"
           }
          ],
          "mesh3d": [
           {
            "colorbar": {
             "outlinewidth": 0,
             "ticks": ""
            },
            "type": "mesh3d"
           }
          ],
          "parcoords": [
           {
            "line": {
             "colorbar": {
              "outlinewidth": 0,
              "ticks": ""
             }
            },
            "type": "parcoords"
           }
          ],
          "pie": [
           {
            "automargin": true,
            "type": "pie"
           }
          ],
          "scatter": [
           {
            "fillpattern": {
             "fillmode": "overlay",
             "size": 10,
             "solidity": 0.2
            },
            "type": "scatter"
           }
          ],
          "scatter3d": [
           {
            "line": {
             "colorbar": {
              "outlinewidth": 0,
              "ticks": ""
             }
            },
            "marker": {
             "colorbar": {
              "outlinewidth": 0,
              "ticks": ""
             }
            },
            "type": "scatter3d"
           }
          ],
          "scattercarpet": [
           {
            "marker": {
             "colorbar": {
              "outlinewidth": 0,
              "ticks": ""
             }
            },
            "type": "scattercarpet"
           }
          ],
          "scattergeo": [
           {
            "marker": {
             "colorbar": {
              "outlinewidth": 0,
              "ticks": ""
             }
            },
            "type": "scattergeo"
           }
          ],
          "scattergl": [
           {
            "marker": {
             "colorbar": {
              "outlinewidth": 0,
              "ticks": ""
             }
            },
            "type": "scattergl"
           }
          ],
          "scattermapbox": [
           {
            "marker": {
             "colorbar": {
              "outlinewidth": 0,
              "ticks": ""
             }
            },
            "type": "scattermapbox"
           }
          ],
          "scatterpolar": [
           {
            "marker": {
             "colorbar": {
              "outlinewidth": 0,
              "ticks": ""
             }
            },
            "type": "scatterpolar"
           }
          ],
          "scatterpolargl": [
           {
            "marker": {
             "colorbar": {
              "outlinewidth": 0,
              "ticks": ""
             }
            },
            "type": "scatterpolargl"
           }
          ],
          "scatterternary": [
           {
            "marker": {
             "colorbar": {
              "outlinewidth": 0,
              "ticks": ""
             }
            },
            "type": "scatterternary"
           }
          ],
          "surface": [
           {
            "colorbar": {
             "outlinewidth": 0,
             "ticks": ""
            },
            "colorscale": [
             [
              0,
              "#0d0887"
             ],
             [
              0.1111111111111111,
              "#46039f"
             ],
             [
              0.2222222222222222,
              "#7201a8"
             ],
             [
              0.3333333333333333,
              "#9c179e"
             ],
             [
              0.4444444444444444,
              "#bd3786"
             ],
             [
              0.5555555555555556,
              "#d8576b"
             ],
             [
              0.6666666666666666,
              "#ed7953"
             ],
             [
              0.7777777777777778,
              "#fb9f3a"
             ],
             [
              0.8888888888888888,
              "#fdca26"
             ],
             [
              1,
              "#f0f921"
             ]
            ],
            "type": "surface"
           }
          ],
          "table": [
           {
            "cells": {
             "fill": {
              "color": "#EBF0F8"
             },
             "line": {
              "color": "white"
             }
            },
            "header": {
             "fill": {
              "color": "#C8D4E3"
             },
             "line": {
              "color": "white"
             }
            },
            "type": "table"
           }
          ]
         },
         "layout": {
          "annotationdefaults": {
           "arrowcolor": "#2a3f5f",
           "arrowhead": 0,
           "arrowwidth": 1
          },
          "autotypenumbers": "strict",
          "coloraxis": {
           "colorbar": {
            "outlinewidth": 0,
            "ticks": ""
           }
          },
          "colorscale": {
           "diverging": [
            [
             0,
             "#8e0152"
            ],
            [
             0.1,
             "#c51b7d"
            ],
            [
             0.2,
             "#de77ae"
            ],
            [
             0.3,
             "#f1b6da"
            ],
            [
             0.4,
             "#fde0ef"
            ],
            [
             0.5,
             "#f7f7f7"
            ],
            [
             0.6,
             "#e6f5d0"
            ],
            [
             0.7,
             "#b8e186"
            ],
            [
             0.8,
             "#7fbc41"
            ],
            [
             0.9,
             "#4d9221"
            ],
            [
             1,
             "#276419"
            ]
           ],
           "sequential": [
            [
             0,
             "#0d0887"
            ],
            [
             0.1111111111111111,
             "#46039f"
            ],
            [
             0.2222222222222222,
             "#7201a8"
            ],
            [
             0.3333333333333333,
             "#9c179e"
            ],
            [
             0.4444444444444444,
             "#bd3786"
            ],
            [
             0.5555555555555556,
             "#d8576b"
            ],
            [
             0.6666666666666666,
             "#ed7953"
            ],
            [
             0.7777777777777778,
             "#fb9f3a"
            ],
            [
             0.8888888888888888,
             "#fdca26"
            ],
            [
             1,
             "#f0f921"
            ]
           ],
           "sequentialminus": [
            [
             0,
             "#0d0887"
            ],
            [
             0.1111111111111111,
             "#46039f"
            ],
            [
             0.2222222222222222,
             "#7201a8"
            ],
            [
             0.3333333333333333,
             "#9c179e"
            ],
            [
             0.4444444444444444,
             "#bd3786"
            ],
            [
             0.5555555555555556,
             "#d8576b"
            ],
            [
             0.6666666666666666,
             "#ed7953"
            ],
            [
             0.7777777777777778,
             "#fb9f3a"
            ],
            [
             0.8888888888888888,
             "#fdca26"
            ],
            [
             1,
             "#f0f921"
            ]
           ]
          },
          "colorway": [
           "#636efa",
           "#EF553B",
           "#00cc96",
           "#ab63fa",
           "#FFA15A",
           "#19d3f3",
           "#FF6692",
           "#B6E880",
           "#FF97FF",
           "#FECB52"
          ],
          "font": {
           "color": "#2a3f5f"
          },
          "geo": {
           "bgcolor": "white",
           "lakecolor": "white",
           "landcolor": "#E5ECF6",
           "showlakes": true,
           "showland": true,
           "subunitcolor": "white"
          },
          "hoverlabel": {
           "align": "left"
          },
          "hovermode": "closest",
          "mapbox": {
           "style": "light"
          },
          "paper_bgcolor": "white",
          "plot_bgcolor": "#E5ECF6",
          "polar": {
           "angularaxis": {
            "gridcolor": "white",
            "linecolor": "white",
            "ticks": ""
           },
           "bgcolor": "#E5ECF6",
           "radialaxis": {
            "gridcolor": "white",
            "linecolor": "white",
            "ticks": ""
           }
          },
          "scene": {
           "xaxis": {
            "backgroundcolor": "#E5ECF6",
            "gridcolor": "white",
            "gridwidth": 2,
            "linecolor": "white",
            "showbackground": true,
            "ticks": "",
            "zerolinecolor": "white"
           },
           "yaxis": {
            "backgroundcolor": "#E5ECF6",
            "gridcolor": "white",
            "gridwidth": 2,
            "linecolor": "white",
            "showbackground": true,
            "ticks": "",
            "zerolinecolor": "white"
           },
           "zaxis": {
            "backgroundcolor": "#E5ECF6",
            "gridcolor": "white",
            "gridwidth": 2,
            "linecolor": "white",
            "showbackground": true,
            "ticks": "",
            "zerolinecolor": "white"
           }
          },
          "shapedefaults": {
           "line": {
            "color": "#2a3f5f"
           }
          },
          "ternary": {
           "aaxis": {
            "gridcolor": "white",
            "linecolor": "white",
            "ticks": ""
           },
           "baxis": {
            "gridcolor": "white",
            "linecolor": "white",
            "ticks": ""
           },
           "bgcolor": "#E5ECF6",
           "caxis": {
            "gridcolor": "white",
            "linecolor": "white",
            "ticks": ""
           }
          },
          "title": {
           "x": 0.05
          },
          "xaxis": {
           "automargin": true,
           "gridcolor": "white",
           "linecolor": "white",
           "ticks": "",
           "title": {
            "standoff": 15
           },
           "zerolinecolor": "white",
           "zerolinewidth": 2
          },
          "yaxis": {
           "automargin": true,
           "gridcolor": "white",
           "linecolor": "white",
           "ticks": "",
           "title": {
            "standoff": 15
           },
           "zerolinecolor": "white",
           "zerolinewidth": 2
          }
         }
        },
        "title": {
         "text": "GB population 1960-2020"
        },
        "xaxis": {
         "anchor": "y",
         "domain": [
          0,
          1
         ],
         "title": {
          "text": "Year"
         }
        },
        "yaxis": {
         "anchor": "x",
         "domain": [
          0,
          1
         ],
         "title": {
          "text": "Population (millions)"
         }
        }
       }
      },
      "text/html": [
       "<div>                            <div id=\"5d415adc-90ad-4deb-bb70-765a6b2252dd\" class=\"plotly-graph-div\" style=\"height:525px; width:100%;\"></div>            <script type=\"text/javascript\">                require([\"plotly\"], function(Plotly) {                    window.PLOTLYENV=window.PLOTLYENV || {};                                    if (document.getElementById(\"5d415adc-90ad-4deb-bb70-765a6b2252dd\")) {                    Plotly.newPlot(                        \"5d415adc-90ad-4deb-bb70-765a6b2252dd\",                        [{\"alignmentgroup\":\"True\",\"hovertemplate\":\"year=%{x}\\u003cbr\\u003epopulation=%{y}\\u003cextra\\u003e\\u003c\\u002fextra\\u003e\",\"legendgroup\":\"\",\"marker\":{\"color\":\"#636efa\",\"pattern\":{\"shape\":\"\"}},\"name\":\"\",\"offsetgroup\":\"\",\"orientation\":\"v\",\"showlegend\":false,\"textposition\":\"auto\",\"x\":[\"YR1960\",\"YR1965\",\"YR1970\",\"YR1975\",\"YR1980\",\"YR1985\",\"YR1990\",\"YR1995\",\"YR2000\",\"YR2005\",\"YR2010\",\"YR2015\",\"YR2020\"],\"xaxis\":\"x\",\"y\":[52400000.0,54348050.0,55663250.0,56225800.0,56314216.0,56550268.0,57247586.0,58019030.0,58892514.0,60401206.0,62766365.0,65116219.0,67081234.0],\"yaxis\":\"y\",\"type\":\"bar\"}],                        {\"template\":{\"data\":{\"histogram2dcontour\":[{\"type\":\"histogram2dcontour\",\"colorbar\":{\"outlinewidth\":0,\"ticks\":\"\"},\"colorscale\":[[0.0,\"#0d0887\"],[0.1111111111111111,\"#46039f\"],[0.2222222222222222,\"#7201a8\"],[0.3333333333333333,\"#9c179e\"],[0.4444444444444444,\"#bd3786\"],[0.5555555555555556,\"#d8576b\"],[0.6666666666666666,\"#ed7953\"],[0.7777777777777778,\"#fb9f3a\"],[0.8888888888888888,\"#fdca26\"],[1.0,\"#f0f921\"]]}],\"choropleth\":[{\"type\":\"choropleth\",\"colorbar\":{\"outlinewidth\":0,\"ticks\":\"\"}}],\"histogram2d\":[{\"type\":\"histogram2d\",\"colorbar\":{\"outlinewidth\":0,\"ticks\":\"\"},\"colorscale\":[[0.0,\"#0d0887\"],[0.1111111111111111,\"#46039f\"],[0.2222222222222222,\"#7201a8\"],[0.3333333333333333,\"#9c179e\"],[0.4444444444444444,\"#bd3786\"],[0.5555555555555556,\"#d8576b\"],[0.6666666666666666,\"#ed7953\"],[0.7777777777777778,\"#fb9f3a\"],[0.8888888888888888,\"#fdca26\"],[1.0,\"#f0f921\"]]}],\"heatmap\":[{\"type\":\"heatmap\",\"colorbar\":{\"outlinewidth\":0,\"ticks\":\"\"},\"colorscale\":[[0.0,\"#0d0887\"],[0.1111111111111111,\"#46039f\"],[0.2222222222222222,\"#7201a8\"],[0.3333333333333333,\"#9c179e\"],[0.4444444444444444,\"#bd3786\"],[0.5555555555555556,\"#d8576b\"],[0.6666666666666666,\"#ed7953\"],[0.7777777777777778,\"#fb9f3a\"],[0.8888888888888888,\"#fdca26\"],[1.0,\"#f0f921\"]]}],\"heatmapgl\":[{\"type\":\"heatmapgl\",\"colorbar\":{\"outlinewidth\":0,\"ticks\":\"\"},\"colorscale\":[[0.0,\"#0d0887\"],[0.1111111111111111,\"#46039f\"],[0.2222222222222222,\"#7201a8\"],[0.3333333333333333,\"#9c179e\"],[0.4444444444444444,\"#bd3786\"],[0.5555555555555556,\"#d8576b\"],[0.6666666666666666,\"#ed7953\"],[0.7777777777777778,\"#fb9f3a\"],[0.8888888888888888,\"#fdca26\"],[1.0,\"#f0f921\"]]}],\"contourcarpet\":[{\"type\":\"contourcarpet\",\"colorbar\":{\"outlinewidth\":0,\"ticks\":\"\"}}],\"contour\":[{\"type\":\"contour\",\"colorbar\":{\"outlinewidth\":0,\"ticks\":\"\"},\"colorscale\":[[0.0,\"#0d0887\"],[0.1111111111111111,\"#46039f\"],[0.2222222222222222,\"#7201a8\"],[0.3333333333333333,\"#9c179e\"],[0.4444444444444444,\"#bd3786\"],[0.5555555555555556,\"#d8576b\"],[0.6666666666666666,\"#ed7953\"],[0.7777777777777778,\"#fb9f3a\"],[0.8888888888888888,\"#fdca26\"],[1.0,\"#f0f921\"]]}],\"surface\":[{\"type\":\"surface\",\"colorbar\":{\"outlinewidth\":0,\"ticks\":\"\"},\"colorscale\":[[0.0,\"#0d0887\"],[0.1111111111111111,\"#46039f\"],[0.2222222222222222,\"#7201a8\"],[0.3333333333333333,\"#9c179e\"],[0.4444444444444444,\"#bd3786\"],[0.5555555555555556,\"#d8576b\"],[0.6666666666666666,\"#ed7953\"],[0.7777777777777778,\"#fb9f3a\"],[0.8888888888888888,\"#fdca26\"],[1.0,\"#f0f921\"]]}],\"mesh3d\":[{\"type\":\"mesh3d\",\"colorbar\":{\"outlinewidth\":0,\"ticks\":\"\"}}],\"scatter\":[{\"fillpattern\":{\"fillmode\":\"overlay\",\"size\":10,\"solidity\":0.2},\"type\":\"scatter\"}],\"parcoords\":[{\"type\":\"parcoords\",\"line\":{\"colorbar\":{\"outlinewidth\":0,\"ticks\":\"\"}}}],\"scatterpolargl\":[{\"type\":\"scatterpolargl\",\"marker\":{\"colorbar\":{\"outlinewidth\":0,\"ticks\":\"\"}}}],\"bar\":[{\"error_x\":{\"color\":\"#2a3f5f\"},\"error_y\":{\"color\":\"#2a3f5f\"},\"marker\":{\"line\":{\"color\":\"#E5ECF6\",\"width\":0.5},\"pattern\":{\"fillmode\":\"overlay\",\"size\":10,\"solidity\":0.2}},\"type\":\"bar\"}],\"scattergeo\":[{\"type\":\"scattergeo\",\"marker\":{\"colorbar\":{\"outlinewidth\":0,\"ticks\":\"\"}}}],\"scatterpolar\":[{\"type\":\"scatterpolar\",\"marker\":{\"colorbar\":{\"outlinewidth\":0,\"ticks\":\"\"}}}],\"histogram\":[{\"marker\":{\"pattern\":{\"fillmode\":\"overlay\",\"size\":10,\"solidity\":0.2}},\"type\":\"histogram\"}],\"scattergl\":[{\"type\":\"scattergl\",\"marker\":{\"colorbar\":{\"outlinewidth\":0,\"ticks\":\"\"}}}],\"scatter3d\":[{\"type\":\"scatter3d\",\"line\":{\"colorbar\":{\"outlinewidth\":0,\"ticks\":\"\"}},\"marker\":{\"colorbar\":{\"outlinewidth\":0,\"ticks\":\"\"}}}],\"scattermapbox\":[{\"type\":\"scattermapbox\",\"marker\":{\"colorbar\":{\"outlinewidth\":0,\"ticks\":\"\"}}}],\"scatterternary\":[{\"type\":\"scatterternary\",\"marker\":{\"colorbar\":{\"outlinewidth\":0,\"ticks\":\"\"}}}],\"scattercarpet\":[{\"type\":\"scattercarpet\",\"marker\":{\"colorbar\":{\"outlinewidth\":0,\"ticks\":\"\"}}}],\"carpet\":[{\"aaxis\":{\"endlinecolor\":\"#2a3f5f\",\"gridcolor\":\"white\",\"linecolor\":\"white\",\"minorgridcolor\":\"white\",\"startlinecolor\":\"#2a3f5f\"},\"baxis\":{\"endlinecolor\":\"#2a3f5f\",\"gridcolor\":\"white\",\"linecolor\":\"white\",\"minorgridcolor\":\"white\",\"startlinecolor\":\"#2a3f5f\"},\"type\":\"carpet\"}],\"table\":[{\"cells\":{\"fill\":{\"color\":\"#EBF0F8\"},\"line\":{\"color\":\"white\"}},\"header\":{\"fill\":{\"color\":\"#C8D4E3\"},\"line\":{\"color\":\"white\"}},\"type\":\"table\"}],\"barpolar\":[{\"marker\":{\"line\":{\"color\":\"#E5ECF6\",\"width\":0.5},\"pattern\":{\"fillmode\":\"overlay\",\"size\":10,\"solidity\":0.2}},\"type\":\"barpolar\"}],\"pie\":[{\"automargin\":true,\"type\":\"pie\"}]},\"layout\":{\"autotypenumbers\":\"strict\",\"colorway\":[\"#636efa\",\"#EF553B\",\"#00cc96\",\"#ab63fa\",\"#FFA15A\",\"#19d3f3\",\"#FF6692\",\"#B6E880\",\"#FF97FF\",\"#FECB52\"],\"font\":{\"color\":\"#2a3f5f\"},\"hovermode\":\"closest\",\"hoverlabel\":{\"align\":\"left\"},\"paper_bgcolor\":\"white\",\"plot_bgcolor\":\"#E5ECF6\",\"polar\":{\"bgcolor\":\"#E5ECF6\",\"angularaxis\":{\"gridcolor\":\"white\",\"linecolor\":\"white\",\"ticks\":\"\"},\"radialaxis\":{\"gridcolor\":\"white\",\"linecolor\":\"white\",\"ticks\":\"\"}},\"ternary\":{\"bgcolor\":\"#E5ECF6\",\"aaxis\":{\"gridcolor\":\"white\",\"linecolor\":\"white\",\"ticks\":\"\"},\"baxis\":{\"gridcolor\":\"white\",\"linecolor\":\"white\",\"ticks\":\"\"},\"caxis\":{\"gridcolor\":\"white\",\"linecolor\":\"white\",\"ticks\":\"\"}},\"coloraxis\":{\"colorbar\":{\"outlinewidth\":0,\"ticks\":\"\"}},\"colorscale\":{\"sequential\":[[0.0,\"#0d0887\"],[0.1111111111111111,\"#46039f\"],[0.2222222222222222,\"#7201a8\"],[0.3333333333333333,\"#9c179e\"],[0.4444444444444444,\"#bd3786\"],[0.5555555555555556,\"#d8576b\"],[0.6666666666666666,\"#ed7953\"],[0.7777777777777778,\"#fb9f3a\"],[0.8888888888888888,\"#fdca26\"],[1.0,\"#f0f921\"]],\"sequentialminus\":[[0.0,\"#0d0887\"],[0.1111111111111111,\"#46039f\"],[0.2222222222222222,\"#7201a8\"],[0.3333333333333333,\"#9c179e\"],[0.4444444444444444,\"#bd3786\"],[0.5555555555555556,\"#d8576b\"],[0.6666666666666666,\"#ed7953\"],[0.7777777777777778,\"#fb9f3a\"],[0.8888888888888888,\"#fdca26\"],[1.0,\"#f0f921\"]],\"diverging\":[[0,\"#8e0152\"],[0.1,\"#c51b7d\"],[0.2,\"#de77ae\"],[0.3,\"#f1b6da\"],[0.4,\"#fde0ef\"],[0.5,\"#f7f7f7\"],[0.6,\"#e6f5d0\"],[0.7,\"#b8e186\"],[0.8,\"#7fbc41\"],[0.9,\"#4d9221\"],[1,\"#276419\"]]},\"xaxis\":{\"gridcolor\":\"white\",\"linecolor\":\"white\",\"ticks\":\"\",\"title\":{\"standoff\":15},\"zerolinecolor\":\"white\",\"automargin\":true,\"zerolinewidth\":2},\"yaxis\":{\"gridcolor\":\"white\",\"linecolor\":\"white\",\"ticks\":\"\",\"title\":{\"standoff\":15},\"zerolinecolor\":\"white\",\"automargin\":true,\"zerolinewidth\":2},\"scene\":{\"xaxis\":{\"backgroundcolor\":\"#E5ECF6\",\"gridcolor\":\"white\",\"linecolor\":\"white\",\"showbackground\":true,\"ticks\":\"\",\"zerolinecolor\":\"white\",\"gridwidth\":2},\"yaxis\":{\"backgroundcolor\":\"#E5ECF6\",\"gridcolor\":\"white\",\"linecolor\":\"white\",\"showbackground\":true,\"ticks\":\"\",\"zerolinecolor\":\"white\",\"gridwidth\":2},\"zaxis\":{\"backgroundcolor\":\"#E5ECF6\",\"gridcolor\":\"white\",\"linecolor\":\"white\",\"showbackground\":true,\"ticks\":\"\",\"zerolinecolor\":\"white\",\"gridwidth\":2}},\"shapedefaults\":{\"line\":{\"color\":\"#2a3f5f\"}},\"annotationdefaults\":{\"arrowcolor\":\"#2a3f5f\",\"arrowhead\":0,\"arrowwidth\":1},\"geo\":{\"bgcolor\":\"white\",\"landcolor\":\"#E5ECF6\",\"subunitcolor\":\"white\",\"showland\":true,\"showlakes\":true,\"lakecolor\":\"white\"},\"title\":{\"x\":0.05},\"mapbox\":{\"style\":\"light\"}}},\"xaxis\":{\"anchor\":\"y\",\"domain\":[0.0,1.0],\"title\":{\"text\":\"Year\"}},\"yaxis\":{\"anchor\":\"x\",\"domain\":[0.0,1.0],\"title\":{\"text\":\"Population (millions)\"}},\"legend\":{\"tracegroupgap\":0},\"title\":{\"text\":\"GB population 1960-2020\"},\"barmode\":\"relative\"},                        {\"responsive\": true}                    ).then(function(){\n",
       "                            \n",
       "var gd = document.getElementById('5d415adc-90ad-4deb-bb70-765a6b2252dd');\n",
       "var x = new MutationObserver(function (mutations, observer) {{\n",
       "        var display = window.getComputedStyle(gd).display;\n",
       "        if (!display || display === 'none') {{\n",
       "            console.log([gd, 'removed!']);\n",
       "            Plotly.purge(gd);\n",
       "            observer.disconnect();\n",
       "        }}\n",
       "}});\n",
       "\n",
       "// Listen for the removal of the full notebook cells\n",
       "var notebookContainer = gd.closest('#notebook-container');\n",
       "if (notebookContainer) {{\n",
       "    x.observe(notebookContainer, {childList: true});\n",
       "}}\n",
       "\n",
       "// Listen for the clearing of the current output cell\n",
       "var outputEl = gd.closest('.output');\n",
       "if (outputEl) {{\n",
       "    x.observe(outputEl, {childList: true});\n",
       "}}\n",
       "\n",
       "                        })                };                });            </script>        </div>"
      ]
     },
     "metadata": {},
     "output_type": "display_data"
    }
   ],
   "source": [
    "fig = px.bar(gb_long, x=\"year\", y=\"population\", title=\"GB population 1960-2020\")\n",
    "fig.update_layout(xaxis_title='Year', yaxis_title='Population (millions)')\n",
    "fig.show()"
   ]
  },
  {
   "cell_type": "markdown",
   "id": "1d0f0f7e",
   "metadata": {},
   "source": [
    "That's all for now!"
   ]
  },
  {
   "cell_type": "code",
   "execution_count": 5,
   "id": "a314b277",
   "metadata": {},
   "outputs": [
    {
     "name": "stdout",
     "output_type": "stream",
     "text": [
      "{'value': 67081234, 'series': 'SP.POP.TOTL', 'economy': 'GBR', 'aggregate': False, 'time': 'YR2020'}\n",
      "{'value': 65116219, 'series': 'SP.POP.TOTL', 'economy': 'GBR', 'aggregate': False, 'time': 'YR2015'}\n",
      "{'value': 62766365, 'series': 'SP.POP.TOTL', 'economy': 'GBR', 'aggregate': False, 'time': 'YR2010'}\n",
      "{'value': 60401206, 'series': 'SP.POP.TOTL', 'economy': 'GBR', 'aggregate': False, 'time': 'YR2005'}\n",
      "{'value': 58892514, 'series': 'SP.POP.TOTL', 'economy': 'GBR', 'aggregate': False, 'time': 'YR2000'}\n",
      "{'value': 58019030, 'series': 'SP.POP.TOTL', 'economy': 'GBR', 'aggregate': False, 'time': 'YR1995'}\n",
      "{'value': 57247586, 'series': 'SP.POP.TOTL', 'economy': 'GBR', 'aggregate': False, 'time': 'YR1990'}\n",
      "{'value': 56550268, 'series': 'SP.POP.TOTL', 'economy': 'GBR', 'aggregate': False, 'time': 'YR1985'}\n",
      "{'value': 56314216, 'series': 'SP.POP.TOTL', 'economy': 'GBR', 'aggregate': False, 'time': 'YR1980'}\n",
      "{'value': 56225800, 'series': 'SP.POP.TOTL', 'economy': 'GBR', 'aggregate': False, 'time': 'YR1975'}\n",
      "{'value': 55663250, 'series': 'SP.POP.TOTL', 'economy': 'GBR', 'aggregate': False, 'time': 'YR1970'}\n",
      "{'value': 54348050, 'series': 'SP.POP.TOTL', 'economy': 'GBR', 'aggregate': False, 'time': 'YR1965'}\n",
      "{'value': 52400000, 'series': 'SP.POP.TOTL', 'economy': 'GBR', 'aggregate': False, 'time': 'YR1960'}\n"
     ]
    }
   ],
   "source": [
    "for row in wb.data.fetch('SP.POP.TOTL', 'GBR', time=range(1960, 2023, 5)):\n",
    "    print(row)"
   ]
  },
  {
   "cell_type": "code",
   "execution_count": 28,
   "id": "3a1f25b5",
   "metadata": {},
   "outputs": [
    {
     "data": {
      "image/png": "[encoded data removed]",
      "text/plain": [
       "<Figure size 640x480 with 1 Axes>"
      ]
     },
     "metadata": {},
     "output_type": "display_data"
    }
   ],
   "source": [
    "plt.bar(x='name', height='Population', data=dfgb)\n",
    "plt.xticks(rotation=90)\n",
    "plt.title(\"Ten most populated countries\")\n",
    "plt.ylabel(\"Population (billions)\")\n",
    "plt.show()"
   ]
  },
  {
   "cell_type": "code",
   "execution_count": null,
   "id": "39bf4cdf",
   "metadata": {},
   "outputs": [],
   "source": []
  },
  {
   "cell_type": "code",
   "execution_count": 13,
   "id": "013dd85c",
   "metadata": {},
   "outputs": [
    {
     "data": {
      "text/html": [
       "<div class=\"wbgapi\"><table>\n",
       "<thead>\n",
       "<tr><th>id            </th><th>value                                                       </th></tr>\n",
       "</thead>\n",
       "<tbody>\n",
       "<tr><td>EG.ELC.RNEW.ZS</td><td>Renewable electricity output (% of total electricity output)</td></tr>\n",
       "<tr><td>              </td><td>1 elements                                                  </td></tr>\n",
       "</tbody>\n",
       "</table></div>"
      ],
      "text/plain": [
       "id              value\n",
       "--------------  ------------------------------------------------------------\n",
       "EG.ELC.RNEW.ZS  Renewable electricity output (% of total electricity output)\n",
       "                1 elements"
      ]
     },
     "execution_count": 13,
     "metadata": {},
     "output_type": "execute_result"
    }
   ],
   "source": [
    "wba.series.info(q='renewable electricity output')"
   ]
  },
  {
   "cell_type": "code",
   "execution_count": 14,
   "id": "58b5b77d",
   "metadata": {},
   "outputs": [
    {
     "name": "stdout",
     "output_type": "stream",
     "text": [
      "            YR2000     YR2005     YR2010     YR2015\n",
      "economy                                            \n",
      "DEU       6.198531  10.150211  16.727074  29.231770\n",
      "ESP      15.613726  14.601392  32.775543  34.949891\n",
      "FRA      12.967876   9.860647  13.857359  15.857667\n",
      "GBR       2.663105   4.283482   6.812813  24.840050\n",
      "USA       8.205997   8.578466  10.120355  13.228593\n"
     ]
    },
    {
     "data": {
      "text/plain": [
       "<Axes: xlabel='economy'>"
      ]
     },
     "execution_count": 14,
     "metadata": {},
     "output_type": "execute_result"
    },
    {
     "data": {
      "image/png": "[encoded data removed]",
      "text/plain": [
       "<Figure size 640x480 with 1 Axes>"
      ]
     },
     "metadata": {},
     "output_type": "display_data"
    }
   ],
   "source": [
    "renewable_5 = wba.data.DataFrame('EG.ELC.RNEW.ZS',\n",
    "                      ['DEU','FRA','ESP','GBR','USA'],\n",
    "                      time=range(2000,2016,5))\n",
    "print(renewable_5)\n",
    "renewable_5.plot.bar()"
   ]
  },
  {
   "cell_type": "code",
   "execution_count": 15,
   "id": "64240a21",
   "metadata": {},
   "outputs": [
    {
     "data": {
      "text/plain": [
       "<Axes: >"
      ]
     },
     "execution_count": 15,
     "metadata": {},
     "output_type": "execute_result"
    },
    {
     "data": {
      "image/png": "[encoded data removed]",
      "text/plain": [
       "<Figure size 640x480 with 1 Axes>"
      ]
     },
     "metadata": {},
     "output_type": "display_data"
    }
   ],
   "source": [
    "wba.data.DataFrame('EG.ELC.RNEW.ZS',\n",
    "       ['DEU','FRA','ESP','GBR','USA'],\n",
    "       time=range(2000,2016,5)).T.plot()"
   ]
  },
  {
   "cell_type": "code",
   "execution_count": 104,
   "id": "1e1906e3",
   "metadata": {},
   "outputs": [
    {
     "data": {
      "text/html": [
       "<div>\n",
       "<style scoped>\n",
       "    .dataframe tbody tr th:only-of-type {\n",
       "        vertical-align: middle;\n",
       "    }\n",
       "\n",
       "    .dataframe tbody tr th {\n",
       "        vertical-align: top;\n",
       "    }\n",
       "\n",
       "    .dataframe thead th {\n",
       "        text-align: right;\n",
       "    }\n",
       "</style>\n",
       "<table border=\"1\" class=\"dataframe\">\n",
       "  <thead>\n",
       "    <tr style=\"text-align: right;\">\n",
       "      <th></th>\n",
       "      <th>YR1960</th>\n",
       "      <th>YR1961</th>\n",
       "      <th>YR1962</th>\n",
       "      <th>YR1963</th>\n",
       "      <th>YR1964</th>\n",
       "      <th>YR1965</th>\n",
       "      <th>YR1966</th>\n",
       "      <th>YR1967</th>\n",
       "      <th>YR1968</th>\n",
       "      <th>YR1969</th>\n",
       "      <th>...</th>\n",
       "      <th>YR2013</th>\n",
       "      <th>YR2014</th>\n",
       "      <th>YR2015</th>\n",
       "      <th>YR2016</th>\n",
       "      <th>YR2017</th>\n",
       "      <th>YR2018</th>\n",
       "      <th>YR2019</th>\n",
       "      <th>YR2020</th>\n",
       "      <th>YR2021</th>\n",
       "      <th>YR2022</th>\n",
       "    </tr>\n",
       "    <tr>\n",
       "      <th>economy</th>\n",
       "      <th></th>\n",
       "      <th></th>\n",
       "      <th></th>\n",
       "      <th></th>\n",
       "      <th></th>\n",
       "      <th></th>\n",
       "      <th></th>\n",
       "      <th></th>\n",
       "      <th></th>\n",
       "      <th></th>\n",
       "      <th></th>\n",
       "      <th></th>\n",
       "      <th></th>\n",
       "      <th></th>\n",
       "      <th></th>\n",
       "      <th></th>\n",
       "      <th></th>\n",
       "      <th></th>\n",
       "      <th></th>\n",
       "      <th></th>\n",
       "      <th></th>\n",
       "    </tr>\n",
       "  </thead>\n",
       "  <tbody>\n",
       "    <tr>\n",
       "      <th>ABW</th>\n",
       "      <td>54608.0</td>\n",
       "      <td>55811.0</td>\n",
       "      <td>56682.0</td>\n",
       "      <td>57475.0</td>\n",
       "      <td>58178.0</td>\n",
       "      <td>58782.0</td>\n",
       "      <td>59291.0</td>\n",
       "      <td>59522.0</td>\n",
       "      <td>59471.0</td>\n",
       "      <td>59330.0</td>\n",
       "      <td>...</td>\n",
       "      <td>102880.0</td>\n",
       "      <td>103594.0</td>\n",
       "      <td>104257.0</td>\n",
       "      <td>104874.0</td>\n",
       "      <td>105439.0</td>\n",
       "      <td>105962.0</td>\n",
       "      <td>106442.0</td>\n",
       "      <td>106585.0</td>\n",
       "      <td>106537.0</td>\n",
       "      <td>106445.0</td>\n",
       "    </tr>\n",
       "    <tr>\n",
       "      <th>AFE</th>\n",
       "      <td>130692579.0</td>\n",
       "      <td>134169237.0</td>\n",
       "      <td>137835590.0</td>\n",
       "      <td>141630546.0</td>\n",
       "      <td>145605995.0</td>\n",
       "      <td>149742351.0</td>\n",
       "      <td>153955516.0</td>\n",
       "      <td>158313235.0</td>\n",
       "      <td>162875171.0</td>\n",
       "      <td>167596160.0</td>\n",
       "      <td>...</td>\n",
       "      <td>567892149.0</td>\n",
       "      <td>583651101.0</td>\n",
       "      <td>600008424.0</td>\n",
       "      <td>616377605.0</td>\n",
       "      <td>632746570.0</td>\n",
       "      <td>649757148.0</td>\n",
       "      <td>667242986.0</td>\n",
       "      <td>685112979.0</td>\n",
       "      <td>702977106.0</td>\n",
       "      <td>720839314.0</td>\n",
       "    </tr>\n",
       "    <tr>\n",
       "      <th>AFG</th>\n",
       "      <td>8622466.0</td>\n",
       "      <td>8790140.0</td>\n",
       "      <td>8969047.0</td>\n",
       "      <td>9157465.0</td>\n",
       "      <td>9355514.0</td>\n",
       "      <td>9565147.0</td>\n",
       "      <td>9783147.0</td>\n",
       "      <td>10010030.0</td>\n",
       "      <td>10247780.0</td>\n",
       "      <td>10494489.0</td>\n",
       "      <td>...</td>\n",
       "      <td>31541209.0</td>\n",
       "      <td>32716210.0</td>\n",
       "      <td>33753499.0</td>\n",
       "      <td>34636207.0</td>\n",
       "      <td>35643418.0</td>\n",
       "      <td>36686784.0</td>\n",
       "      <td>37769499.0</td>\n",
       "      <td>38972230.0</td>\n",
       "      <td>40099462.0</td>\n",
       "      <td>41128771.0</td>\n",
       "    </tr>\n",
       "    <tr>\n",
       "      <th>AFW</th>\n",
       "      <td>97256290.0</td>\n",
       "      <td>99314028.0</td>\n",
       "      <td>101445032.0</td>\n",
       "      <td>103667517.0</td>\n",
       "      <td>105959979.0</td>\n",
       "      <td>108336203.0</td>\n",
       "      <td>110798486.0</td>\n",
       "      <td>113319950.0</td>\n",
       "      <td>115921723.0</td>\n",
       "      <td>118615741.0</td>\n",
       "      <td>...</td>\n",
       "      <td>387204553.0</td>\n",
       "      <td>397855507.0</td>\n",
       "      <td>408690375.0</td>\n",
       "      <td>419778384.0</td>\n",
       "      <td>431138704.0</td>\n",
       "      <td>442646825.0</td>\n",
       "      <td>454306063.0</td>\n",
       "      <td>466189102.0</td>\n",
       "      <td>478185907.0</td>\n",
       "      <td>490330870.0</td>\n",
       "    </tr>\n",
       "    <tr>\n",
       "      <th>AGO</th>\n",
       "      <td>5357195.0</td>\n",
       "      <td>5441333.0</td>\n",
       "      <td>5521400.0</td>\n",
       "      <td>5599827.0</td>\n",
       "      <td>5673199.0</td>\n",
       "      <td>5736582.0</td>\n",
       "      <td>5787044.0</td>\n",
       "      <td>5827503.0</td>\n",
       "      <td>5868203.0</td>\n",
       "      <td>5928386.0</td>\n",
       "      <td>...</td>\n",
       "      <td>26147002.0</td>\n",
       "      <td>27128337.0</td>\n",
       "      <td>28127721.0</td>\n",
       "      <td>29154746.0</td>\n",
       "      <td>30208628.0</td>\n",
       "      <td>31273533.0</td>\n",
       "      <td>32353588.0</td>\n",
       "      <td>33428486.0</td>\n",
       "      <td>34503774.0</td>\n",
       "      <td>35588987.0</td>\n",
       "    </tr>\n",
       "  </tbody>\n",
       "</table>\n",
       "<p>5 rows × 63 columns</p>\n",
       "</div>"
      ],
      "text/plain": [
       "              YR1960       YR1961       YR1962       YR1963       YR1964  \\\n",
       "economy                                                                    \n",
       "ABW          54608.0      55811.0      56682.0      57475.0      58178.0   \n",
       "AFE      130692579.0  134169237.0  137835590.0  141630546.0  145605995.0   \n",
       "AFG        8622466.0    8790140.0    8969047.0    9157465.0    9355514.0   \n",
       "AFW       97256290.0   99314028.0  101445032.0  103667517.0  105959979.0   \n",
       "AGO        5357195.0    5441333.0    5521400.0    5599827.0    5673199.0   \n",
       "\n",
       "              YR1965       YR1966       YR1967       YR1968       YR1969  ...  \\\n",
       "economy                                                                   ...   \n",
       "ABW          58782.0      59291.0      59522.0      59471.0      59330.0  ...   \n",
       "AFE      149742351.0  153955516.0  158313235.0  162875171.0  167596160.0  ...   \n",
       "AFG        9565147.0    9783147.0   10010030.0   10247780.0   10494489.0  ...   \n",
       "AFW      108336203.0  110798486.0  113319950.0  115921723.0  118615741.0  ...   \n",
       "AGO        5736582.0    5787044.0    5827503.0    5868203.0    5928386.0  ...   \n",
       "\n",
       "              YR2013       YR2014       YR2015       YR2016       YR2017  \\\n",
       "economy                                                                    \n",
       "ABW         102880.0     103594.0     104257.0     104874.0     105439.0   \n",
       "AFE      567892149.0  583651101.0  600008424.0  616377605.0  632746570.0   \n",
       "AFG       31541209.0   32716210.0   33753499.0   34636207.0   35643418.0   \n",
       "AFW      387204553.0  397855507.0  408690375.0  419778384.0  431138704.0   \n",
       "AGO       26147002.0   27128337.0   28127721.0   29154746.0   30208628.0   \n",
       "\n",
       "              YR2018       YR2019       YR2020       YR2021       YR2022  \n",
       "economy                                                                   \n",
       "ABW         105962.0     106442.0     106585.0     106537.0     106445.0  \n",
       "AFE      649757148.0  667242986.0  685112979.0  702977106.0  720839314.0  \n",
       "AFG       36686784.0   37769499.0   38972230.0   40099462.0   41128771.0  \n",
       "AFW      442646825.0  454306063.0  466189102.0  478185907.0  490330870.0  \n",
       "AGO       31273533.0   32353588.0   33428486.0   34503774.0   35588987.0  \n",
       "\n",
       "[5 rows x 63 columns]"
      ]
     },
     "execution_count": 104,
     "metadata": {},
     "output_type": "execute_result"
    }
   ],
   "source": [
    "dft = wb.data.DataFrame('SP.POP.TOTL')\n",
    "dft.head()"
   ]
  },
  {
   "cell_type": "code",
   "execution_count": 16,
   "id": "06ca1973",
   "metadata": {},
   "outputs": [
    {
     "name": "stdout",
     "output_type": "stream",
     "text": [
      "(1, 63)\n"
     ]
    }
   ],
   "source": [
    "usa = wba.data.DataFrame('SP.POP.TOTL', 'USA')\n",
    "print(usa.shape)"
   ]
  },
  {
   "cell_type": "code",
   "execution_count": 17,
   "id": "f17dc414",
   "metadata": {},
   "outputs": [
    {
     "data": {
      "text/plain": [
       "(63, 1)"
      ]
     },
     "execution_count": 17,
     "metadata": {},
     "output_type": "execute_result"
    }
   ],
   "source": [
    "usa = wba.data.DataFrame('SP.POP.TOTL', 'USA').transpose()\n",
    "usa.shape"
   ]
  },
  {
   "cell_type": "code",
   "execution_count": 18,
   "id": "9a703295",
   "metadata": {},
   "outputs": [
    {
     "data": {
      "text/plain": [
       "<Axes: title={'center': 'Population USA'}>"
      ]
     },
     "execution_count": 18,
     "metadata": {},
     "output_type": "execute_result"
    },
    {
     "data": {
      "image/png": "[encoded data removed]",
      "text/plain": [
       "<Figure size 640x480 with 1 Axes>"
      ]
     },
     "metadata": {},
     "output_type": "display_data"
    }
   ],
   "source": [
    "usa = wba.data.DataFrame('SP.POP.TOTL', 'USA').transpose()\n",
    "df = pd.DataFrame(usa)\n",
    "df['USA'].plot(x='USA', kind=\"line\", title=\"Population USA\")"
   ]
  },
  {
   "cell_type": "code",
   "execution_count": null,
   "id": "6df1b01f",
   "metadata": {},
   "outputs": [],
   "source": []
  },
  {
   "cell_type": "code",
   "execution_count": null,
   "id": "d79317c2",
   "metadata": {},
   "outputs": [],
   "source": []
  },
  {
   "cell_type": "code",
   "execution_count": 19,
   "id": "b72e00c9",
   "metadata": {},
   "outputs": [
    {
     "data": {
      "text/plain": [
       "<Axes: title={'center': 'GDP per capita USA'}>"
      ]
     },
     "execution_count": 19,
     "metadata": {},
     "output_type": "execute_result"
    },
    {
     "data": {
      "image/png": "[encoded data removed]",
      "text/plain": [
       "<Figure size 640x480 with 1 Axes>"
      ]
     },
     "metadata": {},
     "output_type": "display_data"
    }
   ],
   "source": [
    "usa = wba.data.DataFrame('NY.GDP.PCAP.CD', 'USA').transpose()\n",
    "df = pd.DataFrame(usa)\n",
    "df['USA'].plot(x='USA', kind=\"line\", title=\"GDP per capita USA\")"
   ]
  },
  {
   "cell_type": "code",
   "execution_count": 20,
   "id": "046086d0",
   "metadata": {},
   "outputs": [
    {
     "data": {
      "text/plain": [
       "<Axes: >"
      ]
     },
     "execution_count": 20,
     "metadata": {},
     "output_type": "execute_result"
    },
    {
     "data": {
      "image/png": "[encoded data removed]",
      "text/plain": [
       "<Figure size 640x480 with 2 Axes>"
      ]
     },
     "metadata": {},
     "output_type": "display_data"
    }
   ],
   "source": [
    "pop = wba.data.DataFrame('SP.POP.TOTL', 'USA').transpose()\n",
    "dfp = pd.DataFrame(pop)\n",
    "dfp['USA'].plot(x='USA', kind=\"line\", title=\"Population USA\")\n",
    "gdp = wba.data.DataFrame('NY.GDP.PCAP.CD', 'USA').transpose()\n",
    "dfg = pd.DataFrame(gdp)\n",
    "dfg['USA'].plot(x='USA', kind=\"line\", secondary_y=True)"
   ]
  },
  {
   "cell_type": "code",
   "execution_count": null,
   "id": "1d62e3b9",
   "metadata": {},
   "outputs": [],
   "source": []
  },
  {
   "cell_type": "code",
   "execution_count": 10,
   "id": "443f4f6c",
   "metadata": {},
   "outputs": [
    {
     "data": {
      "text/html": [
       "<div class=\"wbgapi\"><table>\n",
       "<thead>\n",
       "<tr><th>id            </th><th>value                                                        </th></tr>\n",
       "</thead>\n",
       "<tbody>\n",
       "<tr><td>SP.ADO.TFRT   </td><td>Adolescent fertility rate (births per 1,000 women ages 15-19)</td></tr>\n",
       "<tr><td>SP.DYN.TFRT.IN</td><td>Fertility rate, total (births per woman)                     </td></tr>\n",
       "<tr><td>SP.DYN.WFRT   </td><td>Wanted fertility rate (births per woman)                     </td></tr>\n",
       "<tr><td>              </td><td>3 elements                                                   </td></tr>\n",
       "</tbody>\n",
       "</table></div>"
      ],
      "text/plain": [
       "id              value\n",
       "--------------  -------------------------------------------------------------\n",
       "SP.ADO.TFRT     Adolescent fertility rate (births per 1,000 women ages 15-19)\n",
       "SP.DYN.TFRT.IN  Fertility rate, total (births per woman)\n",
       "SP.DYN.WFRT     Wanted fertility rate (births per woman)\n",
       "                3 elements"
      ]
     },
     "execution_count": 10,
     "metadata": {},
     "output_type": "execute_result"
    }
   ],
   "source": [
    "wb.series.info(q=\"fertility\")"
   ]
  },
  {
   "cell_type": "code",
   "execution_count": 11,
   "id": "baf6a584",
   "metadata": {},
   "outputs": [
    {
     "data": {
      "text/plain": [
       "261"
      ]
     },
     "execution_count": 11,
     "metadata": {},
     "output_type": "execute_result"
    }
   ],
   "source": [
    "tfr = wb.data.DataFrame('SP.DYN.TFRT.IN', mrnev=1, columns='time', numericTimeKeys=True)\n",
    "len(tfr)"
   ]
  },
  {
   "cell_type": "code",
   "execution_count": 46,
   "id": "26dd39a8",
   "metadata": {},
   "outputs": [
    {
     "ename": "SyntaxError",
     "evalue": "invalid syntax (723107008.py, line 1)",
     "output_type": "error",
     "traceback": [
      "\u001b[0;36m  Cell \u001b[0;32mIn[46], line 1\u001b[0;36m\u001b[0m\n\u001b[0;31m    notCountry = wb.data.DataFrame('SP.POP.TOTL', !country_codes, time=2022)\u001b[0m\n\u001b[0m                                                  ^\u001b[0m\n\u001b[0;31mSyntaxError\u001b[0m\u001b[0;31m:\u001b[0m invalid syntax\n"
     ]
    }
   ],
   "source": [
    "notCountry = wb.data.DataFrame('SP.POP.TOTL', country_codes, time=2022)\n",
    "notCountry"
   ]
  },
  {
   "cell_type": "code",
   "execution_count": 31,
   "id": "e36ae9db",
   "metadata": {},
   "outputs": [
    {
     "data": {
      "text/html": [
       "<div>\n",
       "<style scoped>\n",
       "    .dataframe tbody tr th:only-of-type {\n",
       "        vertical-align: middle;\n",
       "    }\n",
       "\n",
       "    .dataframe tbody tr th {\n",
       "        vertical-align: top;\n",
       "    }\n",
       "\n",
       "    .dataframe thead th {\n",
       "        text-align: right;\n",
       "    }\n",
       "</style>\n",
       "<table border=\"1\" class=\"dataframe\">\n",
       "  <thead>\n",
       "    <tr style=\"text-align: right;\">\n",
       "      <th></th>\n",
       "      <th>YR1960</th>\n",
       "      <th>YR1961</th>\n",
       "      <th>YR1962</th>\n",
       "      <th>YR1963</th>\n",
       "      <th>YR1964</th>\n",
       "      <th>YR1965</th>\n",
       "      <th>YR1966</th>\n",
       "      <th>YR1967</th>\n",
       "      <th>YR1968</th>\n",
       "      <th>YR1969</th>\n",
       "      <th>...</th>\n",
       "      <th>YR2013</th>\n",
       "      <th>YR2014</th>\n",
       "      <th>YR2015</th>\n",
       "      <th>YR2016</th>\n",
       "      <th>YR2017</th>\n",
       "      <th>YR2018</th>\n",
       "      <th>YR2019</th>\n",
       "      <th>YR2020</th>\n",
       "      <th>YR2021</th>\n",
       "      <th>YR2022</th>\n",
       "    </tr>\n",
       "    <tr>\n",
       "      <th>economy</th>\n",
       "      <th></th>\n",
       "      <th></th>\n",
       "      <th></th>\n",
       "      <th></th>\n",
       "      <th></th>\n",
       "      <th></th>\n",
       "      <th></th>\n",
       "      <th></th>\n",
       "      <th></th>\n",
       "      <th></th>\n",
       "      <th></th>\n",
       "      <th></th>\n",
       "      <th></th>\n",
       "      <th></th>\n",
       "      <th></th>\n",
       "      <th></th>\n",
       "      <th></th>\n",
       "      <th></th>\n",
       "      <th></th>\n",
       "      <th></th>\n",
       "      <th></th>\n",
       "    </tr>\n",
       "  </thead>\n",
       "  <tbody>\n",
       "    <tr>\n",
       "      <th>AUT</th>\n",
       "      <td>7047539.0</td>\n",
       "      <td>7086299.0</td>\n",
       "      <td>7129864.0</td>\n",
       "      <td>7175811.0</td>\n",
       "      <td>7223801.0</td>\n",
       "      <td>7270889.0</td>\n",
       "      <td>7322066.0</td>\n",
       "      <td>7376998.0</td>\n",
       "      <td>7415403.0</td>\n",
       "      <td>7441055.0</td>\n",
       "      <td>...</td>\n",
       "      <td>8479823.0</td>\n",
       "      <td>8546356.0</td>\n",
       "      <td>8642699.0</td>\n",
       "      <td>8736668.0</td>\n",
       "      <td>8797566.0</td>\n",
       "      <td>8840521.0</td>\n",
       "      <td>8879920.0</td>\n",
       "      <td>8916864.0</td>\n",
       "      <td>8955797.0</td>\n",
       "      <td>9042528.0</td>\n",
       "    </tr>\n",
       "    <tr>\n",
       "      <th>BEL</th>\n",
       "      <td>9153489.0</td>\n",
       "      <td>9183948.0</td>\n",
       "      <td>9220578.0</td>\n",
       "      <td>9289770.0</td>\n",
       "      <td>9378113.0</td>\n",
       "      <td>9463667.0</td>\n",
       "      <td>9527807.0</td>\n",
       "      <td>9580991.0</td>\n",
       "      <td>9618756.0</td>\n",
       "      <td>9646032.0</td>\n",
       "      <td>...</td>\n",
       "      <td>11159407.0</td>\n",
       "      <td>11209057.0</td>\n",
       "      <td>11274196.0</td>\n",
       "      <td>11331422.0</td>\n",
       "      <td>11375158.0</td>\n",
       "      <td>11427054.0</td>\n",
       "      <td>11488980.0</td>\n",
       "      <td>11538604.0</td>\n",
       "      <td>11592952.0</td>\n",
       "      <td>11669446.0</td>\n",
       "    </tr>\n",
       "    <tr>\n",
       "      <th>CYP</th>\n",
       "      <td>585725.0</td>\n",
       "      <td>594771.0</td>\n",
       "      <td>601095.0</td>\n",
       "      <td>607072.0</td>\n",
       "      <td>612338.0</td>\n",
       "      <td>617345.0</td>\n",
       "      <td>622566.0</td>\n",
       "      <td>627695.0</td>\n",
       "      <td>632452.0</td>\n",
       "      <td>636821.0</td>\n",
       "      <td>...</td>\n",
       "      <td>1166968.0</td>\n",
       "      <td>1176995.0</td>\n",
       "      <td>1187280.0</td>\n",
       "      <td>1197881.0</td>\n",
       "      <td>1208523.0</td>\n",
       "      <td>1218831.0</td>\n",
       "      <td>1228836.0</td>\n",
       "      <td>1237537.0</td>\n",
       "      <td>1244188.0</td>\n",
       "      <td>1251488.0</td>\n",
       "    </tr>\n",
       "    <tr>\n",
       "      <th>DEU</th>\n",
       "      <td>72814900.0</td>\n",
       "      <td>73377632.0</td>\n",
       "      <td>74025784.0</td>\n",
       "      <td>74714353.0</td>\n",
       "      <td>75318337.0</td>\n",
       "      <td>75963695.0</td>\n",
       "      <td>76600311.0</td>\n",
       "      <td>76951336.0</td>\n",
       "      <td>77294314.0</td>\n",
       "      <td>77909682.0</td>\n",
       "      <td>...</td>\n",
       "      <td>80645605.0</td>\n",
       "      <td>80982500.0</td>\n",
       "      <td>81686611.0</td>\n",
       "      <td>82348669.0</td>\n",
       "      <td>82657002.0</td>\n",
       "      <td>82905782.0</td>\n",
       "      <td>83092962.0</td>\n",
       "      <td>83160871.0</td>\n",
       "      <td>83196078.0</td>\n",
       "      <td>84079811.0</td>\n",
       "    </tr>\n",
       "    <tr>\n",
       "      <th>ESP</th>\n",
       "      <td>30455000.0</td>\n",
       "      <td>30739250.0</td>\n",
       "      <td>31023366.0</td>\n",
       "      <td>31296651.0</td>\n",
       "      <td>31609195.0</td>\n",
       "      <td>31954292.0</td>\n",
       "      <td>32283194.0</td>\n",
       "      <td>32682947.0</td>\n",
       "      <td>33113134.0</td>\n",
       "      <td>33441054.0</td>\n",
       "      <td>...</td>\n",
       "      <td>46620045.0</td>\n",
       "      <td>46480882.0</td>\n",
       "      <td>46444832.0</td>\n",
       "      <td>46484062.0</td>\n",
       "      <td>46593236.0</td>\n",
       "      <td>46797754.0</td>\n",
       "      <td>47134837.0</td>\n",
       "      <td>47365655.0</td>\n",
       "      <td>47415750.0</td>\n",
       "      <td>47615034.0</td>\n",
       "    </tr>\n",
       "    <tr>\n",
       "      <th>EST</th>\n",
       "      <td>1211537.0</td>\n",
       "      <td>1225077.0</td>\n",
       "      <td>1241623.0</td>\n",
       "      <td>1258857.0</td>\n",
       "      <td>1277086.0</td>\n",
       "      <td>1294566.0</td>\n",
       "      <td>1308597.0</td>\n",
       "      <td>1318946.0</td>\n",
       "      <td>1331214.0</td>\n",
       "      <td>1345249.0</td>\n",
       "      <td>...</td>\n",
       "      <td>1317997.0</td>\n",
       "      <td>1314545.0</td>\n",
       "      <td>1315407.0</td>\n",
       "      <td>1315790.0</td>\n",
       "      <td>1317384.0</td>\n",
       "      <td>1321977.0</td>\n",
       "      <td>1326898.0</td>\n",
       "      <td>1329522.0</td>\n",
       "      <td>1330932.0</td>\n",
       "      <td>1344768.0</td>\n",
       "    </tr>\n",
       "    <tr>\n",
       "      <th>FIN</th>\n",
       "      <td>4429634.0</td>\n",
       "      <td>4461005.0</td>\n",
       "      <td>4491443.0</td>\n",
       "      <td>4523309.0</td>\n",
       "      <td>4548543.0</td>\n",
       "      <td>4563732.0</td>\n",
       "      <td>4580869.0</td>\n",
       "      <td>4605744.0</td>\n",
       "      <td>4626469.0</td>\n",
       "      <td>4623785.0</td>\n",
       "      <td>...</td>\n",
       "      <td>5438972.0</td>\n",
       "      <td>5461512.0</td>\n",
       "      <td>5479531.0</td>\n",
       "      <td>5495303.0</td>\n",
       "      <td>5508214.0</td>\n",
       "      <td>5515525.0</td>\n",
       "      <td>5521606.0</td>\n",
       "      <td>5529543.0</td>\n",
       "      <td>5541017.0</td>\n",
       "      <td>5556880.0</td>\n",
       "    </tr>\n",
       "    <tr>\n",
       "      <th>FRA</th>\n",
       "      <td>46649927.0</td>\n",
       "      <td>47161641.0</td>\n",
       "      <td>47679792.0</td>\n",
       "      <td>48189939.0</td>\n",
       "      <td>48733997.0</td>\n",
       "      <td>49282756.0</td>\n",
       "      <td>49817041.0</td>\n",
       "      <td>50334012.0</td>\n",
       "      <td>50817020.0</td>\n",
       "      <td>51272683.0</td>\n",
       "      <td>...</td>\n",
       "      <td>66002289.0</td>\n",
       "      <td>66312067.0</td>\n",
       "      <td>66548272.0</td>\n",
       "      <td>66724104.0</td>\n",
       "      <td>66918020.0</td>\n",
       "      <td>67158348.0</td>\n",
       "      <td>67388001.0</td>\n",
       "      <td>67571107.0</td>\n",
       "      <td>67749632.0</td>\n",
       "      <td>67935660.0</td>\n",
       "    </tr>\n",
       "    <tr>\n",
       "      <th>GRC</th>\n",
       "      <td>8331725.0</td>\n",
       "      <td>8398050.0</td>\n",
       "      <td>8448233.0</td>\n",
       "      <td>8479625.0</td>\n",
       "      <td>8510429.0</td>\n",
       "      <td>8550333.0</td>\n",
       "      <td>8613651.0</td>\n",
       "      <td>8684088.0</td>\n",
       "      <td>8740765.0</td>\n",
       "      <td>8772764.0</td>\n",
       "      <td>...</td>\n",
       "      <td>10965211.0</td>\n",
       "      <td>10892413.0</td>\n",
       "      <td>10820883.0</td>\n",
       "      <td>10775971.0</td>\n",
       "      <td>10754679.0</td>\n",
       "      <td>10732882.0</td>\n",
       "      <td>10721582.0</td>\n",
       "      <td>10698599.0</td>\n",
       "      <td>10641221.0</td>\n",
       "      <td>10566531.0</td>\n",
       "    </tr>\n",
       "    <tr>\n",
       "      <th>IRL</th>\n",
       "      <td>2828600.0</td>\n",
       "      <td>2824400.0</td>\n",
       "      <td>2836050.0</td>\n",
       "      <td>2852650.0</td>\n",
       "      <td>2866550.0</td>\n",
       "      <td>2877300.0</td>\n",
       "      <td>2888800.0</td>\n",
       "      <td>2902450.0</td>\n",
       "      <td>2915550.0</td>\n",
       "      <td>2932650.0</td>\n",
       "      <td>...</td>\n",
       "      <td>4623816.0</td>\n",
       "      <td>4657740.0</td>\n",
       "      <td>4701957.0</td>\n",
       "      <td>4755335.0</td>\n",
       "      <td>4807388.0</td>\n",
       "      <td>4867316.0</td>\n",
       "      <td>4934340.0</td>\n",
       "      <td>4985382.0</td>\n",
       "      <td>5033165.0</td>\n",
       "      <td>5086988.0</td>\n",
       "    </tr>\n",
       "    <tr>\n",
       "      <th>ITA</th>\n",
       "      <td>50199700.0</td>\n",
       "      <td>50536350.0</td>\n",
       "      <td>50879450.0</td>\n",
       "      <td>51252000.0</td>\n",
       "      <td>51675350.0</td>\n",
       "      <td>52112350.0</td>\n",
       "      <td>52519000.0</td>\n",
       "      <td>52900500.0</td>\n",
       "      <td>53235750.0</td>\n",
       "      <td>53537950.0</td>\n",
       "      <td>...</td>\n",
       "      <td>60233948.0</td>\n",
       "      <td>60789140.0</td>\n",
       "      <td>60730582.0</td>\n",
       "      <td>60627498.0</td>\n",
       "      <td>60536709.0</td>\n",
       "      <td>60421760.0</td>\n",
       "      <td>59729081.0</td>\n",
       "      <td>59438851.0</td>\n",
       "      <td>59109668.0</td>\n",
       "      <td>58856847.0</td>\n",
       "    </tr>\n",
       "    <tr>\n",
       "      <th>LTU</th>\n",
       "      <td>2778550.0</td>\n",
       "      <td>2823550.0</td>\n",
       "      <td>2863350.0</td>\n",
       "      <td>2898950.0</td>\n",
       "      <td>2935200.0</td>\n",
       "      <td>2971450.0</td>\n",
       "      <td>3008050.0</td>\n",
       "      <td>3044400.0</td>\n",
       "      <td>3078850.0</td>\n",
       "      <td>3107321.0</td>\n",
       "      <td>...</td>\n",
       "      <td>2957689.0</td>\n",
       "      <td>2932367.0</td>\n",
       "      <td>2904910.0</td>\n",
       "      <td>2868231.0</td>\n",
       "      <td>2828403.0</td>\n",
       "      <td>2801543.0</td>\n",
       "      <td>2794137.0</td>\n",
       "      <td>2794885.0</td>\n",
       "      <td>2800839.0</td>\n",
       "      <td>2833000.0</td>\n",
       "    </tr>\n",
       "    <tr>\n",
       "      <th>LUX</th>\n",
       "      <td>313970.0</td>\n",
       "      <td>316845.0</td>\n",
       "      <td>320750.0</td>\n",
       "      <td>324100.0</td>\n",
       "      <td>327750.0</td>\n",
       "      <td>331500.0</td>\n",
       "      <td>333895.0</td>\n",
       "      <td>334995.0</td>\n",
       "      <td>335850.0</td>\n",
       "      <td>337500.0</td>\n",
       "      <td>...</td>\n",
       "      <td>543360.0</td>\n",
       "      <td>556319.0</td>\n",
       "      <td>569604.0</td>\n",
       "      <td>582014.0</td>\n",
       "      <td>596336.0</td>\n",
       "      <td>607950.0</td>\n",
       "      <td>620001.0</td>\n",
       "      <td>630419.0</td>\n",
       "      <td>640064.0</td>\n",
       "      <td>650774.0</td>\n",
       "    </tr>\n",
       "    <tr>\n",
       "      <th>LVA</th>\n",
       "      <td>2120979.0</td>\n",
       "      <td>2152681.0</td>\n",
       "      <td>2181586.0</td>\n",
       "      <td>2210919.0</td>\n",
       "      <td>2240623.0</td>\n",
       "      <td>2265919.0</td>\n",
       "      <td>2283217.0</td>\n",
       "      <td>2301220.0</td>\n",
       "      <td>2323619.0</td>\n",
       "      <td>2343173.0</td>\n",
       "      <td>...</td>\n",
       "      <td>2012647.0</td>\n",
       "      <td>1993782.0</td>\n",
       "      <td>1977527.0</td>\n",
       "      <td>1959537.0</td>\n",
       "      <td>1942248.0</td>\n",
       "      <td>1927174.0</td>\n",
       "      <td>1913822.0</td>\n",
       "      <td>1900449.0</td>\n",
       "      <td>1884490.0</td>\n",
       "      <td>1883379.0</td>\n",
       "    </tr>\n",
       "    <tr>\n",
       "      <th>MLT</th>\n",
       "      <td>326550.0</td>\n",
       "      <td>325250.0</td>\n",
       "      <td>323900.0</td>\n",
       "      <td>322550.0</td>\n",
       "      <td>321250.0</td>\n",
       "      <td>318800.0</td>\n",
       "      <td>315200.0</td>\n",
       "      <td>311550.0</td>\n",
       "      <td>307900.0</td>\n",
       "      <td>304300.0</td>\n",
       "      <td>...</td>\n",
       "      <td>425967.0</td>\n",
       "      <td>434558.0</td>\n",
       "      <td>445053.0</td>\n",
       "      <td>455356.0</td>\n",
       "      <td>467999.0</td>\n",
       "      <td>484630.0</td>\n",
       "      <td>504062.0</td>\n",
       "      <td>515332.0</td>\n",
       "      <td>518536.0</td>\n",
       "      <td>523417.0</td>\n",
       "    </tr>\n",
       "    <tr>\n",
       "      <th>NLD</th>\n",
       "      <td>11486631.0</td>\n",
       "      <td>11638712.0</td>\n",
       "      <td>11805689.0</td>\n",
       "      <td>11965966.0</td>\n",
       "      <td>12127120.0</td>\n",
       "      <td>12294732.0</td>\n",
       "      <td>12456251.0</td>\n",
       "      <td>12598201.0</td>\n",
       "      <td>12729721.0</td>\n",
       "      <td>12877984.0</td>\n",
       "      <td>...</td>\n",
       "      <td>16804432.0</td>\n",
       "      <td>16865008.0</td>\n",
       "      <td>16939923.0</td>\n",
       "      <td>17030314.0</td>\n",
       "      <td>17131296.0</td>\n",
       "      <td>17231624.0</td>\n",
       "      <td>17344874.0</td>\n",
       "      <td>17441500.0</td>\n",
       "      <td>17533044.0</td>\n",
       "      <td>17703090.0</td>\n",
       "    </tr>\n",
       "    <tr>\n",
       "      <th>PRT</th>\n",
       "      <td>8857716.0</td>\n",
       "      <td>8929316.0</td>\n",
       "      <td>8993985.0</td>\n",
       "      <td>9030355.0</td>\n",
       "      <td>9035365.0</td>\n",
       "      <td>8998595.0</td>\n",
       "      <td>8930990.0</td>\n",
       "      <td>8874520.0</td>\n",
       "      <td>8836650.0</td>\n",
       "      <td>8757705.0</td>\n",
       "      <td>...</td>\n",
       "      <td>10457295.0</td>\n",
       "      <td>10401062.0</td>\n",
       "      <td>10358076.0</td>\n",
       "      <td>10325452.0</td>\n",
       "      <td>10300300.0</td>\n",
       "      <td>10283822.0</td>\n",
       "      <td>10286263.0</td>\n",
       "      <td>10297081.0</td>\n",
       "      <td>10325147.0</td>\n",
       "      <td>10379007.0</td>\n",
       "    </tr>\n",
       "    <tr>\n",
       "      <th>SVK</th>\n",
       "      <td>4068095.0</td>\n",
       "      <td>4191667.0</td>\n",
       "      <td>4238188.0</td>\n",
       "      <td>4282017.0</td>\n",
       "      <td>4327341.0</td>\n",
       "      <td>4370983.0</td>\n",
       "      <td>4411666.0</td>\n",
       "      <td>4449367.0</td>\n",
       "      <td>4483915.0</td>\n",
       "      <td>4518607.0</td>\n",
       "      <td>...</td>\n",
       "      <td>5413393.0</td>\n",
       "      <td>5418649.0</td>\n",
       "      <td>5423801.0</td>\n",
       "      <td>5430798.0</td>\n",
       "      <td>5439232.0</td>\n",
       "      <td>5446771.0</td>\n",
       "      <td>5454147.0</td>\n",
       "      <td>5458827.0</td>\n",
       "      <td>5447247.0</td>\n",
       "      <td>5431752.0</td>\n",
       "    </tr>\n",
       "    <tr>\n",
       "      <th>SVN</th>\n",
       "      <td>1584720.0</td>\n",
       "      <td>1594131.0</td>\n",
       "      <td>1603649.0</td>\n",
       "      <td>1616971.0</td>\n",
       "      <td>1632114.0</td>\n",
       "      <td>1649160.0</td>\n",
       "      <td>1669905.0</td>\n",
       "      <td>1689528.0</td>\n",
       "      <td>1704546.0</td>\n",
       "      <td>1713874.0</td>\n",
       "      <td>...</td>\n",
       "      <td>2059953.0</td>\n",
       "      <td>2061980.0</td>\n",
       "      <td>2063531.0</td>\n",
       "      <td>2065042.0</td>\n",
       "      <td>2066388.0</td>\n",
       "      <td>2073894.0</td>\n",
       "      <td>2088385.0</td>\n",
       "      <td>2102419.0</td>\n",
       "      <td>2108079.0</td>\n",
       "      <td>2108732.0</td>\n",
       "    </tr>\n",
       "  </tbody>\n",
       "</table>\n",
       "<p>19 rows × 63 columns</p>\n",
       "</div>"
      ],
      "text/plain": [
       "             YR1960      YR1961      YR1962      YR1963      YR1964  \\\n",
       "economy                                                               \n",
       "AUT       7047539.0   7086299.0   7129864.0   7175811.0   7223801.0   \n",
       "BEL       9153489.0   9183948.0   9220578.0   9289770.0   9378113.0   \n",
       "CYP        585725.0    594771.0    601095.0    607072.0    612338.0   \n",
       "DEU      72814900.0  73377632.0  74025784.0  74714353.0  75318337.0   \n",
       "ESP      30455000.0  30739250.0  31023366.0  31296651.0  31609195.0   \n",
       "EST       1211537.0   1225077.0   1241623.0   1258857.0   1277086.0   \n",
       "FIN       4429634.0   4461005.0   4491443.0   4523309.0   4548543.0   \n",
       "FRA      46649927.0  47161641.0  47679792.0  48189939.0  48733997.0   \n",
       "GRC       8331725.0   8398050.0   8448233.0   8479625.0   8510429.0   \n",
       "IRL       2828600.0   2824400.0   2836050.0   2852650.0   2866550.0   \n",
       "ITA      50199700.0  50536350.0  50879450.0  51252000.0  51675350.0   \n",
       "LTU       2778550.0   2823550.0   2863350.0   2898950.0   2935200.0   \n",
       "LUX        313970.0    316845.0    320750.0    324100.0    327750.0   \n",
       "LVA       2120979.0   2152681.0   2181586.0   2210919.0   2240623.0   \n",
       "MLT        326550.0    325250.0    323900.0    322550.0    321250.0   \n",
       "NLD      11486631.0  11638712.0  11805689.0  11965966.0  12127120.0   \n",
       "PRT       8857716.0   8929316.0   8993985.0   9030355.0   9035365.0   \n",
       "SVK       4068095.0   4191667.0   4238188.0   4282017.0   4327341.0   \n",
       "SVN       1584720.0   1594131.0   1603649.0   1616971.0   1632114.0   \n",
       "\n",
       "             YR1965      YR1966      YR1967      YR1968      YR1969  ...  \\\n",
       "economy                                                              ...   \n",
       "AUT       7270889.0   7322066.0   7376998.0   7415403.0   7441055.0  ...   \n",
       "BEL       9463667.0   9527807.0   9580991.0   9618756.0   9646032.0  ...   \n",
       "CYP        617345.0    622566.0    627695.0    632452.0    636821.0  ...   \n",
       "DEU      75963695.0  76600311.0  76951336.0  77294314.0  77909682.0  ...   \n",
       "ESP      31954292.0  32283194.0  32682947.0  33113134.0  33441054.0  ...   \n",
       "EST       1294566.0   1308597.0   1318946.0   1331214.0   1345249.0  ...   \n",
       "FIN       4563732.0   4580869.0   4605744.0   4626469.0   4623785.0  ...   \n",
       "FRA      49282756.0  49817041.0  50334012.0  50817020.0  51272683.0  ...   \n",
       "GRC       8550333.0   8613651.0   8684088.0   8740765.0   8772764.0  ...   \n",
       "IRL       2877300.0   2888800.0   2902450.0   2915550.0   2932650.0  ...   \n",
       "ITA      52112350.0  52519000.0  52900500.0  53235750.0  53537950.0  ...   \n",
       "LTU       2971450.0   3008050.0   3044400.0   3078850.0   3107321.0  ...   \n",
       "LUX        331500.0    333895.0    334995.0    335850.0    337500.0  ...   \n",
       "LVA       2265919.0   2283217.0   2301220.0   2323619.0   2343173.0  ...   \n",
       "MLT        318800.0    315200.0    311550.0    307900.0    304300.0  ...   \n",
       "NLD      12294732.0  12456251.0  12598201.0  12729721.0  12877984.0  ...   \n",
       "PRT       8998595.0   8930990.0   8874520.0   8836650.0   8757705.0  ...   \n",
       "SVK       4370983.0   4411666.0   4449367.0   4483915.0   4518607.0  ...   \n",
       "SVN       1649160.0   1669905.0   1689528.0   1704546.0   1713874.0  ...   \n",
       "\n",
       "             YR2013      YR2014      YR2015      YR2016      YR2017  \\\n",
       "economy                                                               \n",
       "AUT       8479823.0   8546356.0   8642699.0   8736668.0   8797566.0   \n",
       "BEL      11159407.0  11209057.0  11274196.0  11331422.0  11375158.0   \n",
       "CYP       1166968.0   1176995.0   1187280.0   1197881.0   1208523.0   \n",
       "DEU      80645605.0  80982500.0  81686611.0  82348669.0  82657002.0   \n",
       "ESP      46620045.0  46480882.0  46444832.0  46484062.0  46593236.0   \n",
       "EST       1317997.0   1314545.0   1315407.0   1315790.0   1317384.0   \n",
       "FIN       5438972.0   5461512.0   5479531.0   5495303.0   5508214.0   \n",
       "FRA      66002289.0  66312067.0  66548272.0  66724104.0  66918020.0   \n",
       "GRC      10965211.0  10892413.0  10820883.0  10775971.0  10754679.0   \n",
       "IRL       4623816.0   4657740.0   4701957.0   4755335.0   4807388.0   \n",
       "ITA      60233948.0  60789140.0  60730582.0  60627498.0  60536709.0   \n",
       "LTU       2957689.0   2932367.0   2904910.0   2868231.0   2828403.0   \n",
       "LUX        543360.0    556319.0    569604.0    582014.0    596336.0   \n",
       "LVA       2012647.0   1993782.0   1977527.0   1959537.0   1942248.0   \n",
       "MLT        425967.0    434558.0    445053.0    455356.0    467999.0   \n",
       "NLD      16804432.0  16865008.0  16939923.0  17030314.0  17131296.0   \n",
       "PRT      10457295.0  10401062.0  10358076.0  10325452.0  10300300.0   \n",
       "SVK       5413393.0   5418649.0   5423801.0   5430798.0   5439232.0   \n",
       "SVN       2059953.0   2061980.0   2063531.0   2065042.0   2066388.0   \n",
       "\n",
       "             YR2018      YR2019      YR2020      YR2021      YR2022  \n",
       "economy                                                              \n",
       "AUT       8840521.0   8879920.0   8916864.0   8955797.0   9042528.0  \n",
       "BEL      11427054.0  11488980.0  11538604.0  11592952.0  11669446.0  \n",
       "CYP       1218831.0   1228836.0   1237537.0   1244188.0   1251488.0  \n",
       "DEU      82905782.0  83092962.0  83160871.0  83196078.0  84079811.0  \n",
       "ESP      46797754.0  47134837.0  47365655.0  47415750.0  47615034.0  \n",
       "EST       1321977.0   1326898.0   1329522.0   1330932.0   1344768.0  \n",
       "FIN       5515525.0   5521606.0   5529543.0   5541017.0   5556880.0  \n",
       "FRA      67158348.0  67388001.0  67571107.0  67749632.0  67935660.0  \n",
       "GRC      10732882.0  10721582.0  10698599.0  10641221.0  10566531.0  \n",
       "IRL       4867316.0   4934340.0   4985382.0   5033165.0   5086988.0  \n",
       "ITA      60421760.0  59729081.0  59438851.0  59109668.0  58856847.0  \n",
       "LTU       2801543.0   2794137.0   2794885.0   2800839.0   2833000.0  \n",
       "LUX        607950.0    620001.0    630419.0    640064.0    650774.0  \n",
       "LVA       1927174.0   1913822.0   1900449.0   1884490.0   1883379.0  \n",
       "MLT        484630.0    504062.0    515332.0    518536.0    523417.0  \n",
       "NLD      17231624.0  17344874.0  17441500.0  17533044.0  17703090.0  \n",
       "PRT      10283822.0  10286263.0  10297081.0  10325147.0  10379007.0  \n",
       "SVK       5446771.0   5454147.0   5458827.0   5447247.0   5431752.0  \n",
       "SVN       2073894.0   2088385.0   2102419.0   2108079.0   2108732.0  \n",
       "\n",
       "[19 rows x 63 columns]"
      ]
     },
     "execution_count": 31,
     "metadata": {},
     "output_type": "execute_result"
    }
   ],
   "source": [
    "pop = wb.data.DataFrame('SP.POP.TOTL', wb.region.members('EMU'))\n",
    "pop"
   ]
  },
  {
   "cell_type": "code",
   "execution_count": 36,
   "id": "7e50018b",
   "metadata": {},
   "outputs": [
    {
     "name": "stdout",
     "output_type": "stream",
     "text": [
      "             YR1960      YR1961      YR1962      YR1963      YR1964  \\\n",
      "economy                                                               \n",
      "DEU      72814900.0  73377632.0  74025784.0  74714353.0  75318337.0   \n",
      "FRA      46649927.0  47161641.0  47679792.0  48189939.0  48733997.0   \n",
      "ITA      50199700.0  50536350.0  50879450.0  51252000.0  51675350.0   \n",
      "ESP      30455000.0  30739250.0  31023366.0  31296651.0  31609195.0   \n",
      "NLD      11486631.0  11638712.0  11805689.0  11965966.0  12127120.0   \n",
      "\n",
      "             YR1965      YR1966      YR1967      YR1968      YR1969  ...  \\\n",
      "economy                                                              ...   \n",
      "DEU      75963695.0  76600311.0  76951336.0  77294314.0  77909682.0  ...   \n",
      "FRA      49282756.0  49817041.0  50334012.0  50817020.0  51272683.0  ...   \n",
      "ITA      52112350.0  52519000.0  52900500.0  53235750.0  53537950.0  ...   \n",
      "ESP      31954292.0  32283194.0  32682947.0  33113134.0  33441054.0  ...   \n",
      "NLD      12294732.0  12456251.0  12598201.0  12729721.0  12877984.0  ...   \n",
      "\n",
      "             YR2013      YR2014      YR2015      YR2016      YR2017  \\\n",
      "economy                                                               \n",
      "DEU      80645605.0  80982500.0  81686611.0  82348669.0  82657002.0   \n",
      "FRA      66002289.0  66312067.0  66548272.0  66724104.0  66918020.0   \n",
      "ITA      60233948.0  60789140.0  60730582.0  60627498.0  60536709.0   \n",
      "ESP      46620045.0  46480882.0  46444832.0  46484062.0  46593236.0   \n",
      "NLD      16804432.0  16865008.0  16939923.0  17030314.0  17131296.0   \n",
      "\n",
      "             YR2018      YR2019      YR2020      YR2021      YR2022  \n",
      "economy                                                              \n",
      "DEU      82905782.0  83092962.0  83160871.0  83196078.0  84079811.0  \n",
      "FRA      67158348.0  67388001.0  67571107.0  67749632.0  67935660.0  \n",
      "ITA      60421760.0  59729081.0  59438851.0  59109668.0  58856847.0  \n",
      "ESP      46797754.0  47134837.0  47365655.0  47415750.0  47615034.0  \n",
      "NLD      17231624.0  17344874.0  17441500.0  17533044.0  17703090.0  \n",
      "\n",
      "[5 rows x 63 columns]\n"
     ]
    }
   ],
   "source": [
    "top5_2022 = pop.sort_values(by=['YR2022'], ascending=False)[:5]\n",
    "print(top5_2022)"
   ]
  },
  {
   "cell_type": "code",
   "execution_count": 37,
   "id": "80b27f82",
   "metadata": {},
   "outputs": [
    {
     "data": {
      "text/plain": [
       "<Axes: >"
      ]
     },
     "execution_count": 37,
     "metadata": {},
     "output_type": "execute_result"
    },
    {
     "data": {
      "image/png": "[encoded data removed]",
      "text/plain": [
       "<Figure size 1500x500 with 1 Axes>"
      ]
     },
     "metadata": {},
     "output_type": "display_data"
    }
   ],
   "source": [
    "ax=top5_2022.T.plot(color='lightgray', legend=False)\n",
    "top5_2022.T.plot(ax=ax, figsize=(15,5))"
   ]
  }
 ],
 "metadata": {
  "kernelspec": {
   "display_name": "Python [conda env:io_dsml]",
   "language": "python",
   "name": "conda-env-io_dsml-py"
  },
  "language_info": {
   "codemirror_mode": {
    "name": "ipython",
    "version": 3
   },
   "file_extension": ".py",
   "mimetype": "text/x-python",
   "name": "python",
   "nbconvert_exporter": "python",
   "pygments_lexer": "ipython3",
   "version": "3.11.6"
  }
 },
 "nbformat": 4,
 "nbformat_minor": 5
}
